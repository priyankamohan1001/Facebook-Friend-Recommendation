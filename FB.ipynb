{
 "cells": [
  {
   "cell_type": "markdown",
   "metadata": {
    "colab_type": "text",
    "id": "rnysF8x_ORlO"
   },
   "source": [
    "<p style=\"font-size:32px;text-align:center\"> <b>Social network Graph Link Prediction - Facebook Challenge</b> </p>"
   ]
  },
  {
   "cell_type": "markdown",
   "metadata": {
    "colab_type": "text",
    "id": "JkoerGBXORlS"
   },
   "source": [
    "### Problem statement: \n",
    "Given a directed social graph, have to predict missing links to recommend users (Link Prediction in graph)"
   ]
  },
  {
   "cell_type": "markdown",
   "metadata": {
    "colab_type": "text",
    "id": "V3QpE6i9ORlU"
   },
   "source": [
    "### Data Overview\n",
    "Taken data from facebook's recruting challenge on kaggle https://www.kaggle.com/c/FacebookRecruiting  \n",
    "data contains two columns source and destination eac edge in graph \n",
    "    - Data columns (total 2 columns):  \n",
    "    - source_node         int64  \n",
    "    - destination_node    int64  "
   ]
  },
  {
   "cell_type": "markdown",
   "metadata": {
    "colab_type": "text",
    "id": "NHsD-3qlORlV"
   },
   "source": [
    "### Mapping the problem into supervised learning problem:\n",
    "- Generated training samples of good and bad links from given directed graph and for each link got some features like no of followers, is he followed back, page rank, katz score, adar index, some svd fetures of adj matrix, some weight features etc. and trained ml model based on these features to predict link. \n",
    "- Some reference papers and videos :  \n",
    "    - https://www.cs.cornell.edu/home/kleinber/link-pred.pdf\n",
    "    - https://www3.nd.edu/~dial/publications/lichtenwalter2010new.pdf\n",
    "    - https://www.youtube.com/watch?v=2M77Hgy17cg"
   ]
  },
  {
   "cell_type": "markdown",
   "metadata": {
    "colab_type": "text",
    "id": "KJhG3ZczORlW"
   },
   "source": [
    "### Business objectives and constraints:  \n",
    "- No low-latency requirement.\n",
    "- Probability of prediction is useful to recommend ighest probability links"
   ]
  },
  {
   "cell_type": "markdown",
   "metadata": {
    "colab_type": "text",
    "id": "BUZLwsmKORlX"
   },
   "source": [
    "### Performance metric for supervised learning:  \n",
    "- Both precision and recall is important so F1 score is good choice\n",
    "- Confusion matrix"
   ]
  },
  {
   "cell_type": "code",
   "execution_count": 0,
   "metadata": {
    "colab": {},
    "colab_type": "code",
    "id": "JDE330RZORlY"
   },
   "outputs": [],
   "source": [
    "#Importing Libraries\n",
    "# please do go through this python notebook: \n",
    "import warnings\n",
    "warnings.filterwarnings(\"ignore\")\n",
    "\n",
    "import csv\n",
    "import pandas as pd#pandas to create small dataframes \n",
    "import datetime #Convert to unix time\n",
    "import time #Convert to unix time\n",
    "# if numpy is not installed already : pip3 install numpy\n",
    "import numpy as np#Do aritmetic operations on arrays\n",
    "# matplotlib: used to plot graphs\n",
    "import matplotlib\n",
    "import matplotlib.pylab as plt\n",
    "import seaborn as sns#Plots\n",
    "from matplotlib import rcParams#Size of plots  \n",
    "from sklearn.cluster import MiniBatchKMeans, KMeans#Clustering\n",
    "import math\n",
    "import pickle\n",
    "import os\n",
    "# to install xgboost: pip3 install xgboost\n",
    "import xgboost as xgb\n",
    "\n",
    "import warnings\n",
    "import networkx as nx\n",
    "import pdb\n",
    "import pickle\n",
    "\n",
    "from pandas import HDFStore,DataFrame\n",
    "from pandas import read_hdf\n",
    "from scipy.sparse.linalg import svds, eigs\n",
    "import gc\n",
    "from tqdm import tqdm"
   ]
  },
  {
   "cell_type": "code",
   "execution_count": 6,
   "metadata": {
    "colab": {
     "base_uri": "https://localhost:8080/",
     "height": 115
    },
    "colab_type": "code",
    "executionInfo": {
     "elapsed": 67625,
     "status": "ok",
     "timestamp": 1580475476013,
     "user": {
      "displayName": "Priyanka Mohan",
      "photoUrl": "https://lh6.googleusercontent.com/-nBBI3T2BOI8/AAAAAAAAAAI/AAAAAAAAAQ4/0OHMByB_5AA/s64/photo.jpg",
      "userId": "09551041470297807769"
     },
     "user_tz": -240
    },
    "id": "TS1Uy_1fORld",
    "outputId": "7aaa6fc4-702b-458d-b0c7-e702d3b8ba1e"
   },
   "outputs": [
    {
     "name": "stdout",
     "output_type": "stream",
     "text": [
      "Name: \n",
      "Type: DiGraph\n",
      "Number of nodes: 1862220\n",
      "Number of edges: 9437519\n",
      "Average in degree:   5.0679\n",
      "Average out degree:   5.0679\n"
     ]
    }
   ],
   "source": [
    "#reading graph\n",
    "if not os.path.isfile('/content/drive/My Drive/Facebook/data/after_eda/train_woheader.csv'):\n",
    "    traincsv = pd.read_csv('/content/drive/My Drive/Facebook/data/train.csv')\n",
    "    print(traincsv[traincsv.isna().any(1)])\n",
    "    print(traincsv.info())\n",
    "    print(\"Number of diplicate entries: \",sum(traincsv.duplicated()))\n",
    "    traincsv.to_csv('/content/drive/My Drive/Facebook/data/after_eda/train_woheader.csv',header=False,index=False)\n",
    "    print(\"saved the graph into file\")\n",
    "else:\n",
    "    g=nx.read_edgelist('/content/drive/My Drive/Facebook/data/after_eda/train_woheader.csv',delimiter=',',create_using=nx.DiGraph(),nodetype=int)\n",
    "    print(nx.info(g))"
   ]
  },
  {
   "cell_type": "markdown",
   "metadata": {
    "colab_type": "text",
    "id": "xC4VMFglORlj"
   },
   "source": [
    "> Displaying a sub graph"
   ]
  },
  {
   "cell_type": "code",
   "execution_count": 7,
   "metadata": {
    "colab": {
     "base_uri": "https://localhost:8080/",
     "height": 416
    },
    "colab_type": "code",
    "executionInfo": {
     "elapsed": 68380,
     "status": "ok",
     "timestamp": 1580475477874,
     "user": {
      "displayName": "Priyanka Mohan",
      "photoUrl": "https://lh6.googleusercontent.com/-nBBI3T2BOI8/AAAAAAAAAAI/AAAAAAAAAQ4/0OHMByB_5AA/s64/photo.jpg",
      "userId": "09551041470297807769"
     },
     "user_tz": -240
    },
    "id": "GKhTiiNvORll",
    "outputId": "b92f7833-ef2f-49f5-9132-7c5f0a4f3867"
   },
   "outputs": [
    {
     "name": "stdout",
     "output_type": "stream",
     "text": [
      "Name: \n",
      "Type: DiGraph\n",
      "Number of nodes: 66\n",
      "Number of edges: 50\n",
      "Average in degree:   0.7576\n",
      "Average out degree:   0.7576\n"
     ]
    },
    {
     "data": {
      "image/png": "[encoded data removed]",
      "text/plain": [
       "<Figure size 432x288 with 1 Axes>"
      ]
     },
     "metadata": {
      "tags": []
     },
     "output_type": "display_data"
    }
   ],
   "source": [
    "if not os.path.isfile('train_woheader_sample.csv'):\n",
    "    pd.read_csv('/content/drive/My Drive/Facebook/data/train.csv', nrows=50).to_csv('train_woheader_sample.csv',header=False,index=False)\n",
    "    \n",
    "subgraph=nx.read_edgelist('train_woheader_sample.csv',delimiter=',',create_using=nx.DiGraph(),nodetype=int)\n",
    "# https://stackoverflow.com/questions/9402255/drawing-a-huge-graph-with-networkx-and-matplotlib\n",
    "\n",
    "pos=nx.spring_layout(subgraph)\n",
    "nx.draw(subgraph,pos,node_color='#A0CBE2',edge_color='#00bb5e',width=1,edge_cmap=plt.cm.Blues,with_labels=True)\n",
    "plt.savefig(\"graph_sample.pdf\")\n",
    "print(nx.info(subgraph))"
   ]
  },
  {
   "cell_type": "markdown",
   "metadata": {
    "colab_type": "text",
    "id": "5lPpKICcORlp"
   },
   "source": [
    "# 1. Exploratory Data Analysis"
   ]
  },
  {
   "cell_type": "code",
   "execution_count": 8,
   "metadata": {
    "colab": {
     "base_uri": "https://localhost:8080/",
     "height": 33
    },
    "colab_type": "code",
    "executionInfo": {
     "elapsed": 67553,
     "status": "ok",
     "timestamp": 1580475477875,
     "user": {
      "displayName": "Priyanka Mohan",
      "photoUrl": "https://lh6.googleusercontent.com/-nBBI3T2BOI8/AAAAAAAAAAI/AAAAAAAAAQ4/0OHMByB_5AA/s64/photo.jpg",
      "userId": "09551041470297807769"
     },
     "user_tz": -240
    },
    "id": "VjWUUhhcORlq",
    "outputId": "126528f5-b8f4-4d7c-e97b-19ed93a7def7"
   },
   "outputs": [
    {
     "name": "stdout",
     "output_type": "stream",
     "text": [
      "The number of unique persons 1862220\n"
     ]
    }
   ],
   "source": [
    "# No of Unique persons \n",
    "print(\"The number of unique persons\",len(g.nodes()))"
   ]
  },
  {
   "cell_type": "markdown",
   "metadata": {
    "colab_type": "text",
    "id": "tCLMjnJjORlt"
   },
   "source": [
    "## 1.1 No of followers for each person"
   ]
  },
  {
   "cell_type": "code",
   "execution_count": 9,
   "metadata": {
    "colab": {
     "base_uri": "https://localhost:8080/",
     "height": 387
    },
    "colab_type": "code",
    "executionInfo": {
     "elapsed": 60129,
     "status": "ok",
     "timestamp": 1580475480009,
     "user": {
      "displayName": "Priyanka Mohan",
      "photoUrl": "https://lh6.googleusercontent.com/-nBBI3T2BOI8/AAAAAAAAAAI/AAAAAAAAAQ4/0OHMByB_5AA/s64/photo.jpg",
      "userId": "09551041470297807769"
     },
     "user_tz": -240
    },
    "id": "MnCPaVKDORlu",
    "outputId": "6cbfd1dc-43fc-451e-eea5-857a041d7767"
   },
   "outputs": [
    {
     "data": {
      "image/png": "[encoded data removed]",
      "text/plain": [
       "<Figure size 720x432 with 1 Axes>"
      ]
     },
     "metadata": {
      "tags": []
     },
     "output_type": "display_data"
    }
   ],
   "source": [
    "indegree_dist = list(dict(g.in_degree()).values())\n",
    "indegree_dist.sort()\n",
    "plt.figure(figsize=(10,6))\n",
    "plt.plot(indegree_dist)\n",
    "plt.xlabel('Index No')\n",
    "plt.ylabel('No Of Followers')\n",
    "plt.show()"
   ]
  },
  {
   "cell_type": "code",
   "execution_count": 10,
   "metadata": {
    "colab": {
     "base_uri": "https://localhost:8080/",
     "height": 387
    },
    "colab_type": "code",
    "executionInfo": {
     "elapsed": 62034,
     "status": "ok",
     "timestamp": 1580475482205,
     "user": {
      "displayName": "Priyanka Mohan",
      "photoUrl": "https://lh6.googleusercontent.com/-nBBI3T2BOI8/AAAAAAAAAAI/AAAAAAAAAQ4/0OHMByB_5AA/s64/photo.jpg",
      "userId": "09551041470297807769"
     },
     "user_tz": -240
    },
    "id": "7u12QubSORlx",
    "outputId": "e194204b-6c11-4fa7-dae6-fbc772c4c24c"
   },
   "outputs": [
    {
     "data": {
      "image/png": "[encoded data removed]",
      "text/plain": [
       "<Figure size 720x432 with 1 Axes>"
      ]
     },
     "metadata": {
      "tags": []
     },
     "output_type": "display_data"
    }
   ],
   "source": [
    "indegree_dist = list(dict(g.in_degree()).values())\n",
    "indegree_dist.sort()\n",
    "plt.figure(figsize=(10,6))\n",
    "plt.plot(indegree_dist[0:1500000])\n",
    "plt.xlabel('Index No')\n",
    "plt.ylabel('No Of Followers')\n",
    "plt.show()"
   ]
  },
  {
   "cell_type": "code",
   "execution_count": 11,
   "metadata": {
    "colab": {
     "base_uri": "https://localhost:8080/",
     "height": 265
    },
    "colab_type": "code",
    "executionInfo": {
     "elapsed": 61538,
     "status": "ok",
     "timestamp": 1580475482582,
     "user": {
      "displayName": "Priyanka Mohan",
      "photoUrl": "https://lh6.googleusercontent.com/-nBBI3T2BOI8/AAAAAAAAAAI/AAAAAAAAAQ4/0OHMByB_5AA/s64/photo.jpg",
      "userId": "09551041470297807769"
     },
     "user_tz": -240
    },
    "id": "DjE6NNmxORl2",
    "outputId": "702026d0-649a-4453-bd2d-24ad3be874b3"
   },
   "outputs": [
    {
     "data": {
      "image/png": "[encoded data removed]",
      "text/plain": [
       "<Figure size 432x288 with 1 Axes>"
      ]
     },
     "metadata": {
      "tags": []
     },
     "output_type": "display_data"
    }
   ],
   "source": [
    "plt.boxplot(indegree_dist)\n",
    "plt.ylabel('No Of Followers')\n",
    "plt.show()"
   ]
  },
  {
   "cell_type": "code",
   "execution_count": 12,
   "metadata": {
    "colab": {
     "base_uri": "https://localhost:8080/",
     "height": 196
    },
    "colab_type": "code",
    "executionInfo": {
     "elapsed": 63417,
     "status": "ok",
     "timestamp": 1580475485062,
     "user": {
      "displayName": "Priyanka Mohan",
      "photoUrl": "https://lh6.googleusercontent.com/-nBBI3T2BOI8/AAAAAAAAAAI/AAAAAAAAAQ4/0OHMByB_5AA/s64/photo.jpg",
      "userId": "09551041470297807769"
     },
     "user_tz": -240
    },
    "id": "FhifjG6RORl6",
    "outputId": "83e9c1fd-675c-4dd5-ee71-877a04d2e0d5"
   },
   "outputs": [
    {
     "name": "stdout",
     "output_type": "stream",
     "text": [
      "90 percentile value is 12.0\n",
      "91 percentile value is 13.0\n",
      "92 percentile value is 14.0\n",
      "93 percentile value is 15.0\n",
      "94 percentile value is 17.0\n",
      "95 percentile value is 19.0\n",
      "96 percentile value is 21.0\n",
      "97 percentile value is 24.0\n",
      "98 percentile value is 29.0\n",
      "99 percentile value is 40.0\n",
      "100 percentile value is 552.0\n"
     ]
    }
   ],
   "source": [
    "### 90-100 percentile\n",
    "for i in range(0,11):\n",
    "    print(90+i,'percentile value is',np.percentile(indegree_dist,90+i))"
   ]
  },
  {
   "cell_type": "markdown",
   "metadata": {
    "colab_type": "text",
    "id": "3gUzb6i7ORl9"
   },
   "source": [
    "99% of data having followers of 40 only."
   ]
  },
  {
   "cell_type": "code",
   "execution_count": 13,
   "metadata": {
    "colab": {
     "base_uri": "https://localhost:8080/",
     "height": 180
    },
    "colab_type": "code",
    "executionInfo": {
     "elapsed": 63291,
     "status": "ok",
     "timestamp": 1580475486012,
     "user": {
      "displayName": "Priyanka Mohan",
      "photoUrl": "https://lh6.googleusercontent.com/-nBBI3T2BOI8/AAAAAAAAAAI/AAAAAAAAAQ4/0OHMByB_5AA/s64/photo.jpg",
      "userId": "09551041470297807769"
     },
     "user_tz": -240
    },
    "id": "9Jl6nJ-2ORl-",
    "outputId": "cf7294f7-6a81-473e-e8bc-b3ef1d5d240c"
   },
   "outputs": [
    {
     "name": "stdout",
     "output_type": "stream",
     "text": [
      "99.1 percentile value is 42.0\n",
      "99.2 percentile value is 44.0\n",
      "99.3 percentile value is 47.0\n",
      "99.4 percentile value is 50.0\n",
      "99.5 percentile value is 55.0\n",
      "99.6 percentile value is 61.0\n",
      "99.7 percentile value is 70.0\n",
      "99.8 percentile value is 84.0\n",
      "99.9 percentile value is 112.0\n",
      "100.0 percentile value is 552.0\n"
     ]
    }
   ],
   "source": [
    "### 99-100 percentile\n",
    "for i in range(10,110,10):\n",
    "    print(99+(i/100),'percentile value is',np.percentile(indegree_dist,99+(i/100)))"
   ]
  },
  {
   "cell_type": "code",
   "execution_count": 14,
   "metadata": {
    "colab": {
     "base_uri": "https://localhost:8080/",
     "height": 511
    },
    "colab_type": "code",
    "executionInfo": {
     "elapsed": 63965,
     "status": "ok",
     "timestamp": 1580475487158,
     "user": {
      "displayName": "Priyanka Mohan",
      "photoUrl": "https://lh6.googleusercontent.com/-nBBI3T2BOI8/AAAAAAAAAAI/AAAAAAAAAQ4/0OHMByB_5AA/s64/photo.jpg",
      "userId": "09551041470297807769"
     },
     "user_tz": -240
    },
    "id": "UWJW9_RrORmB",
    "outputId": "794e3853-b1dd-40c5-b144-9d729973540c"
   },
   "outputs": [
    {
     "data": {
      "image/png": "[encoded data removed]",
      "text/plain": [
       "<Figure size 842.4x595.44 with 1 Axes>"
      ]
     },
     "metadata": {
      "tags": []
     },
     "output_type": "display_data"
    }
   ],
   "source": [
    "%matplotlib inline\n",
    "sns.set_style('ticks')\n",
    "fig, ax = plt.subplots()\n",
    "fig.set_size_inches(11.7, 8.27)\n",
    "sns.distplot(indegree_dist, color='#16A085')\n",
    "plt.xlabel('PDF of Indegree')\n",
    "sns.despine()\n",
    "#plt.show()"
   ]
  },
  {
   "cell_type": "markdown",
   "metadata": {
    "colab_type": "text",
    "id": "fjGhgPp2ORmH"
   },
   "source": [
    "## 1.2 No of people each person is following"
   ]
  },
  {
   "cell_type": "code",
   "execution_count": 15,
   "metadata": {
    "colab": {
     "base_uri": "https://localhost:8080/",
     "height": 387
    },
    "colab_type": "code",
    "executionInfo": {
     "elapsed": 4123,
     "status": "ok",
     "timestamp": 1580475492048,
     "user": {
      "displayName": "Priyanka Mohan",
      "photoUrl": "https://lh6.googleusercontent.com/-nBBI3T2BOI8/AAAAAAAAAAI/AAAAAAAAAQ4/0OHMByB_5AA/s64/photo.jpg",
      "userId": "09551041470297807769"
     },
     "user_tz": -240
    },
    "id": "kTqMlVSQORmI",
    "outputId": "ce2f5506-3269-4181-f966-7d3861be32b4"
   },
   "outputs": [
    {
     "data": {
      "image/png": "[encoded data removed]",
      "text/plain": [
       "<Figure size 720x432 with 1 Axes>"
      ]
     },
     "metadata": {
      "tags": []
     },
     "output_type": "display_data"
    }
   ],
   "source": [
    "outdegree_dist = list(dict(g.out_degree()).values())\n",
    "outdegree_dist.sort()\n",
    "plt.figure(figsize=(10,6))\n",
    "plt.plot(outdegree_dist)\n",
    "plt.xlabel('Index No')\n",
    "plt.ylabel('No Of people each person is following')\n",
    "plt.show()"
   ]
  },
  {
   "cell_type": "code",
   "execution_count": 16,
   "metadata": {
    "colab": {
     "base_uri": "https://localhost:8080/",
     "height": 387
    },
    "colab_type": "code",
    "executionInfo": {
     "elapsed": 6224,
     "status": "ok",
     "timestamp": 1580475494171,
     "user": {
      "displayName": "Priyanka Mohan",
      "photoUrl": "https://lh6.googleusercontent.com/-nBBI3T2BOI8/AAAAAAAAAAI/AAAAAAAAAQ4/0OHMByB_5AA/s64/photo.jpg",
      "userId": "09551041470297807769"
     },
     "user_tz": -240
    },
    "id": "k7Nx6PJJORmL",
    "outputId": "6005f39e-f1ef-4d41-85f2-b349c0143487"
   },
   "outputs": [
    {
     "data": {
      "image/png": "[encoded data removed]",
      "text/plain": [
       "<Figure size 720x432 with 1 Axes>"
      ]
     },
     "metadata": {
      "tags": []
     },
     "output_type": "display_data"
    }
   ],
   "source": [
    "indegree_dist = list(dict(g.in_degree()).values())\n",
    "indegree_dist.sort()\n",
    "plt.figure(figsize=(10,6))\n",
    "plt.plot(outdegree_dist[0:1500000])\n",
    "plt.xlabel('Index No')\n",
    "plt.ylabel('No Of people each person is following')\n",
    "plt.show()"
   ]
  },
  {
   "cell_type": "code",
   "execution_count": 17,
   "metadata": {
    "colab": {
     "base_uri": "https://localhost:8080/",
     "height": 265
    },
    "colab_type": "code",
    "executionInfo": {
     "elapsed": 6900,
     "status": "ok",
     "timestamp": 1580475494869,
     "user": {
      "displayName": "Priyanka Mohan",
      "photoUrl": "https://lh6.googleusercontent.com/-nBBI3T2BOI8/AAAAAAAAAAI/AAAAAAAAAQ4/0OHMByB_5AA/s64/photo.jpg",
      "userId": "09551041470297807769"
     },
     "user_tz": -240
    },
    "id": "BlEw-IrTORmO",
    "outputId": "c2433c66-6ea1-4315-a9ad-4a2097d59dc1"
   },
   "outputs": [
    {
     "data": {
      "image/png": "[encoded data removed]",
      "text/plain": [
       "<Figure size 432x288 with 1 Axes>"
      ]
     },
     "metadata": {
      "tags": []
     },
     "output_type": "display_data"
    }
   ],
   "source": [
    "plt.boxplot(indegree_dist)\n",
    "plt.ylabel('No Of people each person is following')\n",
    "plt.show()"
   ]
  },
  {
   "cell_type": "code",
   "execution_count": 18,
   "metadata": {
    "colab": {
     "base_uri": "https://localhost:8080/",
     "height": 196
    },
    "colab_type": "code",
    "executionInfo": {
     "elapsed": 8017,
     "status": "ok",
     "timestamp": 1580475496009,
     "user": {
      "displayName": "Priyanka Mohan",
      "photoUrl": "https://lh6.googleusercontent.com/-nBBI3T2BOI8/AAAAAAAAAAI/AAAAAAAAAQ4/0OHMByB_5AA/s64/photo.jpg",
      "userId": "09551041470297807769"
     },
     "user_tz": -240
    },
    "id": "mCiWqsBeORmS",
    "outputId": "dec79f95-5cce-416c-bea4-7f98263d5279"
   },
   "outputs": [
    {
     "name": "stdout",
     "output_type": "stream",
     "text": [
      "90 percentile value is 12.0\n",
      "91 percentile value is 13.0\n",
      "92 percentile value is 14.0\n",
      "93 percentile value is 15.0\n",
      "94 percentile value is 17.0\n",
      "95 percentile value is 19.0\n",
      "96 percentile value is 21.0\n",
      "97 percentile value is 24.0\n",
      "98 percentile value is 29.0\n",
      "99 percentile value is 40.0\n",
      "100 percentile value is 1566.0\n"
     ]
    }
   ],
   "source": [
    "### 90-100 percentile\n",
    "for i in range(0,11):\n",
    "    print(90+i,'percentile value is',np.percentile(outdegree_dist,90+i))"
   ]
  },
  {
   "cell_type": "code",
   "execution_count": 19,
   "metadata": {
    "colab": {
     "base_uri": "https://localhost:8080/",
     "height": 180
    },
    "colab_type": "code",
    "executionInfo": {
     "elapsed": 9717,
     "status": "ok",
     "timestamp": 1580475497734,
     "user": {
      "displayName": "Priyanka Mohan",
      "photoUrl": "https://lh6.googleusercontent.com/-nBBI3T2BOI8/AAAAAAAAAAI/AAAAAAAAAQ4/0OHMByB_5AA/s64/photo.jpg",
      "userId": "09551041470297807769"
     },
     "user_tz": -240
    },
    "id": "aHVdrxfAORmW",
    "outputId": "dcee2a09-d672-4f7e-f266-ee05c7a72b41"
   },
   "outputs": [
    {
     "name": "stdout",
     "output_type": "stream",
     "text": [
      "99.1 percentile value is 42.0\n",
      "99.2 percentile value is 45.0\n",
      "99.3 percentile value is 48.0\n",
      "99.4 percentile value is 52.0\n",
      "99.5 percentile value is 56.0\n",
      "99.6 percentile value is 63.0\n",
      "99.7 percentile value is 73.0\n",
      "99.8 percentile value is 90.0\n",
      "99.9 percentile value is 123.0\n",
      "100.0 percentile value is 1566.0\n"
     ]
    }
   ],
   "source": [
    "### 99-100 percentile\n",
    "for i in range(10,110,10):\n",
    "    print(99+(i/100),'percentile value is',np.percentile(outdegree_dist,99+(i/100)))"
   ]
  },
  {
   "cell_type": "code",
   "execution_count": 20,
   "metadata": {
    "colab": {
     "base_uri": "https://localhost:8080/",
     "height": 511
    },
    "colab_type": "code",
    "executionInfo": {
     "elapsed": 10540,
     "status": "ok",
     "timestamp": 1580475498576,
     "user": {
      "displayName": "Priyanka Mohan",
      "photoUrl": "https://lh6.googleusercontent.com/-nBBI3T2BOI8/AAAAAAAAAAI/AAAAAAAAAQ4/0OHMByB_5AA/s64/photo.jpg",
      "userId": "09551041470297807769"
     },
     "user_tz": -240
    },
    "id": "v_-KMWvUORma",
    "outputId": "0d1d2ae2-f5e7-4305-f7d1-60211d165ba1"
   },
   "outputs": [
    {
     "data": {
      "image/png": "[encoded data removed]",
      "text/plain": [
       "<Figure size 842.4x595.44 with 1 Axes>"
      ]
     },
     "metadata": {
      "tags": []
     },
     "output_type": "display_data"
    }
   ],
   "source": [
    "sns.set_style('ticks')\n",
    "fig, ax = plt.subplots()\n",
    "fig.set_size_inches(11.7, 8.27)\n",
    "sns.distplot(outdegree_dist, color='#16A085')\n",
    "plt.xlabel('PDF of Outdegree')\n",
    "sns.despine()"
   ]
  },
  {
   "cell_type": "code",
   "execution_count": 21,
   "metadata": {
    "colab": {
     "base_uri": "https://localhost:8080/",
     "height": 33
    },
    "colab_type": "code",
    "executionInfo": {
     "elapsed": 18917,
     "status": "ok",
     "timestamp": 1580475506971,
     "user": {
      "displayName": "Priyanka Mohan",
      "photoUrl": "https://lh6.googleusercontent.com/-nBBI3T2BOI8/AAAAAAAAAAI/AAAAAAAAAQ4/0OHMByB_5AA/s64/photo.jpg",
      "userId": "09551041470297807769"
     },
     "user_tz": -240
    },
    "id": "gq06cAPsORmd",
    "outputId": "fad7ffcb-178e-4bc1-f204-57b6653a3701"
   },
   "outputs": [
    {
     "name": "stdout",
     "output_type": "stream",
     "text": [
      "No of persons those are not following anyone are 274512 and % is 14.741115442858524\n"
     ]
    }
   ],
   "source": [
    "print('No of persons those are not following anyone are' ,sum(np.array(outdegree_dist)==0),'and % is',\n",
    "                                sum(np.array(outdegree_dist)==0)*100/len(outdegree_dist) )"
   ]
  },
  {
   "cell_type": "code",
   "execution_count": 22,
   "metadata": {
    "colab": {
     "base_uri": "https://localhost:8080/",
     "height": 33
    },
    "colab_type": "code",
    "executionInfo": {
     "elapsed": 28163,
     "status": "ok",
     "timestamp": 1580475516238,
     "user": {
      "displayName": "Priyanka Mohan",
      "photoUrl": "https://lh6.googleusercontent.com/-nBBI3T2BOI8/AAAAAAAAAAI/AAAAAAAAAQ4/0OHMByB_5AA/s64/photo.jpg",
      "userId": "09551041470297807769"
     },
     "user_tz": -240
    },
    "id": "28WmUtuwORml",
    "outputId": "fa2ca792-a14f-4aea-c095-002088ab7594"
   },
   "outputs": [
    {
     "name": "stdout",
     "output_type": "stream",
     "text": [
      "No of persons having zero followers are 188043 and % is 10.097786512871734\n"
     ]
    }
   ],
   "source": [
    "print('No of persons having zero followers are' ,sum(np.array(indegree_dist)==0),'and % is',\n",
    "                                sum(np.array(indegree_dist)==0)*100/len(indegree_dist) )"
   ]
  },
  {
   "cell_type": "code",
   "execution_count": 23,
   "metadata": {
    "colab": {
     "base_uri": "https://localhost:8080/",
     "height": 33
    },
    "colab_type": "code",
    "executionInfo": {
     "elapsed": 30724,
     "status": "ok",
     "timestamp": 1580475518819,
     "user": {
      "displayName": "Priyanka Mohan",
      "photoUrl": "https://lh6.googleusercontent.com/-nBBI3T2BOI8/AAAAAAAAAAI/AAAAAAAAAQ4/0OHMByB_5AA/s64/photo.jpg",
      "userId": "09551041470297807769"
     },
     "user_tz": -240
    },
    "id": "afwOk-EAORmr",
    "outputId": "58c04414-af4d-41ed-dfc9-324183621df3"
   },
   "outputs": [
    {
     "name": "stdout",
     "output_type": "stream",
     "text": [
      "No of persons those are not not following anyone and also not having any followers are 0\n"
     ]
    }
   ],
   "source": [
    "count=0\n",
    "for i in g.nodes():\n",
    "    if len(list(g.predecessors(i)))==0 :\n",
    "        if len(list(g.successors(i)))==0:\n",
    "            count+=1\n",
    "print('No of persons those are not not following anyone and also not having any followers are',count)"
   ]
  },
  {
   "cell_type": "markdown",
   "metadata": {
    "colab_type": "text",
    "id": "fCRpdjITORmu"
   },
   "source": [
    "## 1.3 both followers + following "
   ]
  },
  {
   "cell_type": "code",
   "execution_count": 0,
   "metadata": {
    "colab": {},
    "colab_type": "code",
    "id": "W7v68L-mORmv"
   },
   "outputs": [],
   "source": [
    "from collections import Counter\n",
    "dict_in = dict(g.in_degree())\n",
    "dict_out = dict(g.out_degree())\n",
    "d = Counter(dict_in) + Counter(dict_out)\n",
    "in_out_degree = np.array(list(d.values()))"
   ]
  },
  {
   "cell_type": "code",
   "execution_count": 25,
   "metadata": {
    "colab": {
     "base_uri": "https://localhost:8080/",
     "height": 387
    },
    "colab_type": "code",
    "executionInfo": {
     "elapsed": 37714,
     "status": "ok",
     "timestamp": 1580475525836,
     "user": {
      "displayName": "Priyanka Mohan",
      "photoUrl": "https://lh6.googleusercontent.com/-nBBI3T2BOI8/AAAAAAAAAAI/AAAAAAAAAQ4/0OHMByB_5AA/s64/photo.jpg",
      "userId": "09551041470297807769"
     },
     "user_tz": -240
    },
    "id": "6msC6dluORmy",
    "outputId": "26bcfeb6-bb65-4c2c-8973-4a6719867070"
   },
   "outputs": [
    {
     "data": {
      "image/png": "[encoded data removed]",
      "text/plain": [
       "<Figure size 720x432 with 1 Axes>"
      ]
     },
     "metadata": {
      "tags": []
     },
     "output_type": "display_data"
    }
   ],
   "source": [
    "in_out_degree_sort = sorted(in_out_degree)\n",
    "plt.figure(figsize=(10,6))\n",
    "plt.plot(in_out_degree_sort)\n",
    "plt.xlabel('Index No')\n",
    "plt.ylabel('No Of people each person is following + followers')\n",
    "plt.show()"
   ]
  },
  {
   "cell_type": "code",
   "execution_count": 26,
   "metadata": {
    "colab": {
     "base_uri": "https://localhost:8080/",
     "height": 387
    },
    "colab_type": "code",
    "executionInfo": {
     "elapsed": 39762,
     "status": "ok",
     "timestamp": 1580475527904,
     "user": {
      "displayName": "Priyanka Mohan",
      "photoUrl": "https://lh6.googleusercontent.com/-nBBI3T2BOI8/AAAAAAAAAAI/AAAAAAAAAQ4/0OHMByB_5AA/s64/photo.jpg",
      "userId": "09551041470297807769"
     },
     "user_tz": -240
    },
    "id": "QralmNoAORm2",
    "outputId": "1c2f7ae3-f77a-4c06-e688-a4c2d1dc5fc9"
   },
   "outputs": [
    {
     "data": {
      "image/png": "[encoded data removed]",
      "text/plain": [
       "<Figure size 720x432 with 1 Axes>"
      ]
     },
     "metadata": {
      "tags": []
     },
     "output_type": "display_data"
    }
   ],
   "source": [
    "in_out_degree_sort = sorted(in_out_degree)\n",
    "plt.figure(figsize=(10,6))\n",
    "plt.plot(in_out_degree_sort[0:1500000])\n",
    "plt.xlabel('Index No')\n",
    "plt.ylabel('No Of people each person is following + followers')\n",
    "plt.show()"
   ]
  },
  {
   "cell_type": "code",
   "execution_count": 27,
   "metadata": {
    "colab": {
     "base_uri": "https://localhost:8080/",
     "height": 196
    },
    "colab_type": "code",
    "executionInfo": {
     "elapsed": 43397,
     "status": "ok",
     "timestamp": 1580475531561,
     "user": {
      "displayName": "Priyanka Mohan",
      "photoUrl": "https://lh6.googleusercontent.com/-nBBI3T2BOI8/AAAAAAAAAAI/AAAAAAAAAQ4/0OHMByB_5AA/s64/photo.jpg",
      "userId": "09551041470297807769"
     },
     "user_tz": -240
    },
    "id": "tw981sJQORm6",
    "outputId": "3e110ed5-2e8f-460a-9613-4a860cd0f2bc"
   },
   "outputs": [
    {
     "name": "stdout",
     "output_type": "stream",
     "text": [
      "90 percentile value is 24.0\n",
      "91 percentile value is 26.0\n",
      "92 percentile value is 28.0\n",
      "93 percentile value is 31.0\n",
      "94 percentile value is 33.0\n",
      "95 percentile value is 37.0\n",
      "96 percentile value is 41.0\n",
      "97 percentile value is 48.0\n",
      "98 percentile value is 58.0\n",
      "99 percentile value is 79.0\n",
      "100 percentile value is 1579.0\n"
     ]
    }
   ],
   "source": [
    "### 90-100 percentile\n",
    "for i in range(0,11):\n",
    "    print(90+i,'percentile value is',np.percentile(in_out_degree_sort,90+i))"
   ]
  },
  {
   "cell_type": "code",
   "execution_count": 28,
   "metadata": {
    "colab": {
     "base_uri": "https://localhost:8080/",
     "height": 180
    },
    "colab_type": "code",
    "executionInfo": {
     "elapsed": 47305,
     "status": "ok",
     "timestamp": 1580475535490,
     "user": {
      "displayName": "Priyanka Mohan",
      "photoUrl": "https://lh6.googleusercontent.com/-nBBI3T2BOI8/AAAAAAAAAAI/AAAAAAAAAQ4/0OHMByB_5AA/s64/photo.jpg",
      "userId": "09551041470297807769"
     },
     "user_tz": -240
    },
    "id": "h67hARicORm-",
    "outputId": "5b3585aa-3942-4da1-eaf7-d0d4c9fdfce8"
   },
   "outputs": [
    {
     "name": "stdout",
     "output_type": "stream",
     "text": [
      "99.1 percentile value is 83.0\n",
      "99.2 percentile value is 87.0\n",
      "99.3 percentile value is 93.0\n",
      "99.4 percentile value is 99.0\n",
      "99.5 percentile value is 108.0\n",
      "99.6 percentile value is 120.0\n",
      "99.7 percentile value is 138.0\n",
      "99.8 percentile value is 168.0\n",
      "99.9 percentile value is 221.0\n",
      "100.0 percentile value is 1579.0\n"
     ]
    }
   ],
   "source": [
    "### 99-100 percentile\n",
    "for i in range(10,110,10):\n",
    "    print(99+(i/100),'percentile value is',np.percentile(in_out_degree_sort,99+(i/100)))"
   ]
  },
  {
   "cell_type": "code",
   "execution_count": 29,
   "metadata": {
    "colab": {
     "base_uri": "https://localhost:8080/",
     "height": 50
    },
    "colab_type": "code",
    "executionInfo": {
     "elapsed": 47286,
     "status": "ok",
     "timestamp": 1580475535491,
     "user": {
      "displayName": "Priyanka Mohan",
      "photoUrl": "https://lh6.googleusercontent.com/-nBBI3T2BOI8/AAAAAAAAAAI/AAAAAAAAAQ4/0OHMByB_5AA/s64/photo.jpg",
      "userId": "09551041470297807769"
     },
     "user_tz": -240
    },
    "id": "BHT0CMUzORnB",
    "outputId": "c212fd59-863d-44d3-958b-7a044aa1bd2a"
   },
   "outputs": [
    {
     "name": "stdout",
     "output_type": "stream",
     "text": [
      "Min of no of followers + following is 1\n",
      "334291  persons having minimum no of followers + following\n"
     ]
    }
   ],
   "source": [
    "print('Min of no of followers + following is',in_out_degree.min())\n",
    "print(np.sum(in_out_degree==in_out_degree.min()),' persons having minimum no of followers + following')"
   ]
  },
  {
   "cell_type": "code",
   "execution_count": 30,
   "metadata": {
    "colab": {
     "base_uri": "https://localhost:8080/",
     "height": 50
    },
    "colab_type": "code",
    "executionInfo": {
     "elapsed": 47270,
     "status": "ok",
     "timestamp": 1580475535493,
     "user": {
      "displayName": "Priyanka Mohan",
      "photoUrl": "https://lh6.googleusercontent.com/-nBBI3T2BOI8/AAAAAAAAAAI/AAAAAAAAAQ4/0OHMByB_5AA/s64/photo.jpg",
      "userId": "09551041470297807769"
     },
     "user_tz": -240
    },
    "id": "D_ulBWM3ORnG",
    "outputId": "cc26ce8f-7747-452c-91db-aea361efeadb"
   },
   "outputs": [
    {
     "name": "stdout",
     "output_type": "stream",
     "text": [
      "Max of no of followers + following is 1579\n",
      "1  persons having maximum no of followers + following\n"
     ]
    }
   ],
   "source": [
    "print('Max of no of followers + following is',in_out_degree.max())\n",
    "print(np.sum(in_out_degree==in_out_degree.max()),' persons having maximum no of followers + following')"
   ]
  },
  {
   "cell_type": "code",
   "execution_count": 31,
   "metadata": {
    "colab": {
     "base_uri": "https://localhost:8080/",
     "height": 33
    },
    "colab_type": "code",
    "executionInfo": {
     "elapsed": 47249,
     "status": "ok",
     "timestamp": 1580475535494,
     "user": {
      "displayName": "Priyanka Mohan",
      "photoUrl": "https://lh6.googleusercontent.com/-nBBI3T2BOI8/AAAAAAAAAAI/AAAAAAAAAQ4/0OHMByB_5AA/s64/photo.jpg",
      "userId": "09551041470297807769"
     },
     "user_tz": -240
    },
    "id": "6a61nDvYORnK",
    "outputId": "f2e9b421-c80f-468a-847e-e2bbf9b97b89"
   },
   "outputs": [
    {
     "name": "stdout",
     "output_type": "stream",
     "text": [
      "No of persons having followers + following less than 10 are 1320326\n"
     ]
    }
   ],
   "source": [
    "print('No of persons having followers + following less than 10 are',np.sum(in_out_degree<10))"
   ]
  },
  {
   "cell_type": "code",
   "execution_count": 32,
   "metadata": {
    "colab": {
     "base_uri": "https://localhost:8080/",
     "height": 50
    },
    "colab_type": "code",
    "executionInfo": {
     "elapsed": 75188,
     "status": "ok",
     "timestamp": 1580475563452,
     "user": {
      "displayName": "Priyanka Mohan",
      "photoUrl": "https://lh6.googleusercontent.com/-nBBI3T2BOI8/AAAAAAAAAAI/AAAAAAAAAQ4/0OHMByB_5AA/s64/photo.jpg",
      "userId": "09551041470297807769"
     },
     "user_tz": -240
    },
    "id": "tGkfI4aRORnO",
    "outputId": "163057a3-c835-4d8e-f9f2-d1b66620b531"
   },
   "outputs": [
    {
     "name": "stdout",
     "output_type": "stream",
     "text": [
      "No of weakly connected components 45558\n",
      "weakly connected components wit 2 nodes 32195\n"
     ]
    }
   ],
   "source": [
    "print('No of weakly connected components',len(list(nx.weakly_connected_components(g))))\n",
    "count=0\n",
    "for i in list(nx.weakly_connected_components(g)):\n",
    "    if len(i)==2:\n",
    "        count+=1\n",
    "print('weakly connected components wit 2 nodes',count)"
   ]
  },
  {
   "cell_type": "markdown",
   "metadata": {
    "colab_type": "text",
    "id": "u6uqmjurORnT"
   },
   "source": [
    "# 2. Posing a problem as classification problem "
   ]
  },
  {
   "cell_type": "markdown",
   "metadata": {
    "colab_type": "text",
    "id": "dZYvDAwDORnU"
   },
   "source": [
    "## 2.1 Generating some edges which are not present in graph for supervised learning  \n",
    "Generated Bad links from graph which are not in graph and whose shortest path is greater than 2. "
   ]
  },
  {
   "cell_type": "code",
   "execution_count": 33,
   "metadata": {
    "colab": {
     "base_uri": "https://localhost:8080/",
     "height": 50
    },
    "colab_type": "code",
    "executionInfo": {
     "elapsed": 79290,
     "status": "ok",
     "timestamp": 1580475567573,
     "user": {
      "displayName": "Priyanka Mohan",
      "photoUrl": "https://lh6.googleusercontent.com/-nBBI3T2BOI8/AAAAAAAAAAI/AAAAAAAAAQ4/0OHMByB_5AA/s64/photo.jpg",
      "userId": "09551041470297807769"
     },
     "user_tz": -240
    },
    "id": "1YVbbdL1ORnW",
    "outputId": "f65dc318-0a8b-4602-ab8e-f6cc21ddc137"
   },
   "outputs": [
    {
     "name": "stdout",
     "output_type": "stream",
     "text": [
      "CPU times: user 2.16 s, sys: 1.51 s, total: 3.68 s\n",
      "Wall time: 4.09 s\n"
     ]
    }
   ],
   "source": [
    "%%time\n",
    "###generating bad edges from given graph\n",
    "import random\n",
    "if not os.path.isfile('/content/drive/My Drive/Facebook/data/after_eda/missing_edges_final.p'):\n",
    "    #getting all set of edges\n",
    "    r = csv.reader(open('/content/drive/My Drive/Facebook/data/after_eda/train_woheader.csv','r'))\n",
    "    edges = dict()\n",
    "    for edge in r:\n",
    "        edges[(edge[0], edge[1])] = 1\n",
    "        \n",
    "        \n",
    "    missing_edges = set([])\n",
    "    while (len(missing_edges)<9437519):\n",
    "        a=random.randint(1, 1862220)\n",
    "        b=random.randint(1, 1862220)\n",
    "        tmp = edges.get((a,b),-1)\n",
    "        if tmp == -1 and a!=b:\n",
    "            try:\n",
    "                if nx.shortest_path_length(g,source=a,target=b) > 2: \n",
    "\n",
    "                    missing_edges.add((a,b))\n",
    "                else:\n",
    "                    continue  \n",
    "            except:  \n",
    "                    missing_edges.add((a,b))              \n",
    "        else:\n",
    "            continue\n",
    "    pickle.dump(missing_edges,open('/content/drive/My Drive/Facebook/data/after_eda/missing_edges_final.p','wb'))\n",
    "else:\n",
    "    missing_edges = pickle.load(open('/content/drive/My Drive/Facebook/data/after_eda/missing_edges_final.p','rb'))"
   ]
  },
  {
   "cell_type": "code",
   "execution_count": 34,
   "metadata": {
    "colab": {
     "base_uri": "https://localhost:8080/",
     "height": 33
    },
    "colab_type": "code",
    "executionInfo": {
     "elapsed": 79273,
     "status": "ok",
     "timestamp": 1580475567575,
     "user": {
      "displayName": "Priyanka Mohan",
      "photoUrl": "https://lh6.googleusercontent.com/-nBBI3T2BOI8/AAAAAAAAAAI/AAAAAAAAAQ4/0OHMByB_5AA/s64/photo.jpg",
      "userId": "09551041470297807769"
     },
     "user_tz": -240
    },
    "id": "7gVf5nUwORnb",
    "outputId": "35d4460b-78a8-465d-a4ba-3dfc9b34b5da"
   },
   "outputs": [
    {
     "data": {
      "text/plain": [
       "9437519"
      ]
     },
     "execution_count": 34,
     "metadata": {
      "tags": []
     },
     "output_type": "execute_result"
    }
   ],
   "source": [
    "len(missing_edges)"
   ]
  },
  {
   "cell_type": "markdown",
   "metadata": {
    "colab_type": "text",
    "id": "JOFQEKhjORne"
   },
   "source": [
    "## 2.2 Training and Test data split:  \n",
    "Removed edges from Graph and used as test data and after removing used that graph for creating features for Train and test data"
   ]
  },
  {
   "cell_type": "code",
   "execution_count": 0,
   "metadata": {
    "colab": {},
    "colab_type": "code",
    "id": "GJHTrPXEORng"
   },
   "outputs": [],
   "source": [
    "from sklearn.model_selection import train_test_split\n",
    "if (not os.path.isfile('/content/drive/My Drive/Facebook/data/after_eda/train_pos_after_eda.csv')) and (not os.path.isfile('/content/drive/My Drive/Facebook/data/after_eda/test_pos_after_eda.csv')):\n",
    "    #reading total data df\n",
    "    df_pos = pd.read_csv('/content/drive/My Drive/Facebook/data/train.csv')\n",
    "    df_neg = pd.DataFrame(list(missing_edges), columns=['source_node', 'destination_node'])\n",
    "    \n",
    "    print(\"Number of nodes in the graph with edges\", df_pos.shape[0])\n",
    "    print(\"Number of nodes in the graph without edges\", df_neg.shape[0])\n",
    "    \n",
    "    #Trian test split \n",
    "    #Spiltted data into 80-20 \n",
    "    #positive links and negative links seperatly because we need positive training data only for creating graph \n",
    "    #and for feature generation\n",
    "    X_train_pos, X_test_pos, y_train_pos, y_test_pos  = train_test_split(df_pos,np.ones(len(df_pos)),test_size=0.2, random_state=9)\n",
    "    X_train_neg, X_test_neg, y_train_neg, y_test_neg  = train_test_split(df_neg,np.zeros(len(df_neg)),test_size=0.2, random_state=9)\n",
    "    \n",
    "    print('='*60)\n",
    "    print(\"Number of nodes in the train data graph with edges\", X_train_pos.shape[0],\"=\",y_train_pos.shape[0])\n",
    "    print(\"Number of nodes in the train data graph without edges\", X_train_neg.shape[0],\"=\", y_train_neg.shape[0])\n",
    "    print('='*60)\n",
    "    print(\"Number of nodes in the test data graph with edges\", X_test_pos.shape[0],\"=\",y_test_pos.shape[0])\n",
    "    print(\"Number of nodes in the test data graph without edges\", X_test_neg.shape[0],\"=\",y_test_neg.shape[0])\n",
    "\n",
    "    #removing header and saving\n",
    "    X_train_pos.to_csv('/content/drive/My Drive/Facebook/data/after_eda/train_pos_after_eda.csv',header=False, index=False)\n",
    "    X_test_pos.to_csv('/content/drive/My Drive/Facebook/data/after_eda/test_pos_after_eda.csv',header=False, index=False)\n",
    "    X_train_neg.to_csv('/content/drive/My Drive/Facebook/data/after_eda/train_neg_after_eda.csv',header=False, index=False)\n",
    "    X_test_neg.to_csv('/content/drive/My Drive/Facebook/data/after_eda/test_neg_after_eda.csv',header=False, index=False)\n",
    "else:\n",
    "    #Graph from Traing data only \n",
    "    del missing_edges"
   ]
  },
  {
   "cell_type": "code",
   "execution_count": 36,
   "metadata": {
    "colab": {
     "base_uri": "https://localhost:8080/",
     "height": 277
    },
    "colab_type": "code",
    "executionInfo": {
     "elapsed": 96938,
     "status": "ok",
     "timestamp": 1580476280886,
     "user": {
      "displayName": "Priyanka Mohan",
      "photoUrl": "https://lh6.googleusercontent.com/-nBBI3T2BOI8/AAAAAAAAAAI/AAAAAAAAAQ4/0OHMByB_5AA/s64/photo.jpg",
      "userId": "09551041470297807769"
     },
     "user_tz": -240
    },
    "id": "qW7fX9OuORnk",
    "outputId": "01a52fe2-10ef-486c-ca04-e808340daa66"
   },
   "outputs": [
    {
     "name": "stdout",
     "output_type": "stream",
     "text": [
      "Name: \n",
      "Type: DiGraph\n",
      "Number of nodes: 1780722\n",
      "Number of edges: 7550015\n",
      "Average in degree:   4.2399\n",
      "Average out degree:   4.2399\n",
      "Name: \n",
      "Type: DiGraph\n",
      "Number of nodes: 1144623\n",
      "Number of edges: 1887504\n",
      "Average in degree:   1.6490\n",
      "Average out degree:   1.6490\n",
      "no of people common in train and test --  1063125\n",
      "no of people present in train but not present in test --  717597\n",
      "no of people present in test but not present in train --  81498\n",
      " % of people not there in Train but exist in Test in total Test data are 7.1200735962845405 %\n"
     ]
    }
   ],
   "source": [
    "if (os.path.isfile('/content/drive/My Drive/Facebook/data/after_eda/train_pos_after_eda.csv')) and (os.path.isfile('/content/drive/My Drive/Facebook/data/after_eda/test_pos_after_eda.csv')):        \n",
    "    train_graph=nx.read_edgelist('/content/drive/My Drive/Facebook/data/after_eda/train_pos_after_eda.csv',delimiter=',',create_using=nx.DiGraph(),nodetype=int)\n",
    "    test_graph=nx.read_edgelist('/content/drive/My Drive/Facebook/data/after_eda/test_pos_after_eda.csv',delimiter=',',create_using=nx.DiGraph(),nodetype=int)\n",
    "    print(nx.info(train_graph))\n",
    "    print(nx.info(test_graph))\n",
    "\n",
    "    # finding the unique nodes in the both train and test graphs\n",
    "    train_nodes_pos = set(train_graph.nodes())\n",
    "    test_nodes_pos = set(test_graph.nodes())\n",
    "\n",
    "    trY_teY = len(train_nodes_pos.intersection(test_nodes_pos))\n",
    "    trY_teN = len(train_nodes_pos - test_nodes_pos)\n",
    "    teY_trN = len(test_nodes_pos - train_nodes_pos)\n",
    "\n",
    "    print('no of people common in train and test -- ',trY_teY)\n",
    "    print('no of people present in train but not present in test -- ',trY_teN)\n",
    "\n",
    "    print('no of people present in test but not present in train -- ',teY_trN)\n",
    "    print(' % of people not there in Train but exist in Test in total Test data are {} %'.format(teY_trN/len(test_nodes_pos)*100))"
   ]
  },
  {
   "cell_type": "markdown",
   "metadata": {
    "colab_type": "text",
    "id": "nHjj-khHORno"
   },
   "source": [
    "> we have a cold start problem here"
   ]
  },
  {
   "cell_type": "code",
   "execution_count": 0,
   "metadata": {
    "colab": {},
    "colab_type": "code",
    "id": "UDT9PGNWORno"
   },
   "outputs": [],
   "source": [
    "#final train and test data sets\n",
    "if (not os.path.isfile('/content/drive/My Drive/Facebook/data/after_eda/train_after_eda.csv')) and \\\n",
    "(not os.path.isfile('/content/drive/My Drive/Facebook/data/after_eda/test_after_eda.csv')) and \\\n",
    "(not os.path.isfile('/content/drive/My Drive/Facebook/data/train_y.csv')) and \\\n",
    "(not os.path.isfile('/content/drive/My Drive/Facebook/data/test_y.csv')) and \\\n",
    "(os.path.isfile('/content/drive/My Drive/Facebook/data/after_eda/train_pos_after_eda.csv')) and \\\n",
    "(os.path.isfile('/content/drive/My Drive/Facebook/data/after_eda/test_pos_after_eda.csv')) and \\\n",
    "(os.path.isfile('/content/drive/My Drive/Facebook/data/after_eda/train_neg_after_eda.csv')) and \\\n",
    "(os.path.isfile('/content/drive/My Drive/Facebook/data/after_eda/test_neg_after_eda.csv')):\n",
    "    \n",
    "    X_train_pos = pd.read_csv('/content/drive/My Drive/Facebook/data/after_eda/train_pos_after_eda.csv', names=['source_node', 'destination_node'])\n",
    "    X_test_pos = pd.read_csv('/content/drive/My Drive/Facebook/data/after_eda/test_pos_after_eda.csv', names=['source_node', 'destination_node'])\n",
    "    X_train_neg = pd.read_csv('/content/drive/My Drive/Facebook/data/after_eda/train_neg_after_eda.csv', names=['source_node', 'destination_node'])\n",
    "    X_test_neg = pd.read_csv('/content/drive/My Drive/Facebook/data/after_eda/test_neg_after_eda.csv', names=['source_node', 'destination_node'])\n",
    "\n",
    "    print('='*60)\n",
    "    print(\"Number of nodes in the train data graph with edges\", X_train_pos.shape[0])\n",
    "    print(\"Number of nodes in the train data graph without edges\", X_train_neg.shape[0])\n",
    "    print('='*60)\n",
    "    print(\"Number of nodes in the test data graph with edges\", X_test_pos.shape[0])\n",
    "    print(\"Number of nodes in the test data graph without edges\", X_test_neg.shape[0])\n",
    "\n",
    "    X_train = X_train_pos.append(X_train_neg,ignore_index=True)\n",
    "    y_train = np.concatenate((y_train_pos,y_train_neg))\n",
    "    X_test = X_test_pos.append(X_test_neg,ignore_index=True)\n",
    "    y_test = np.concatenate((y_test_pos,y_test_neg)) \n",
    "    \n",
    "    X_train.to_csv('/content/drive/My Drive/Facebook/data/after_eda/train_after_eda.csv',header=False,index=False)\n",
    "    X_test.to_csv('/content/drive/My Drive/Facebook/data/after_eda/test_after_eda.csv',header=False,index=False)\n",
    "    pd.DataFrame(y_train.astype(int)).to_csv('/content/drive/My Drive/Facebook/data/train_y.csv',header=False,index=False)\n",
    "    pd.DataFrame(y_test.astype(int)).to_csv('/content/drive/My Drive/Facebook/data/test_y.csv',header=False,index=False)"
   ]
  },
  {
   "cell_type": "code",
   "execution_count": 0,
   "metadata": {
    "colab": {},
    "colab_type": "code",
    "id": "N0wOz3H0xSnW"
   },
   "outputs": [],
   "source": [
    "X_train = pd.read_csv('/content/drive/My Drive/Facebook/data/after_eda/train_after_eda.csv')\n",
    "X_test = pd.read_csv('/content/drive/My Drive/Facebook/data/after_eda/test_after_eda.csv')\n",
    "y_train = pd.read_csv('/content/drive/My Drive/Facebook/data/train_y.csv')\n",
    "y_test = pd.read_csv('/content/drive/My Drive/Facebook/data/test_y.csv')"
   ]
  },
  {
   "cell_type": "code",
   "execution_count": 48,
   "metadata": {
    "colab": {
     "base_uri": "https://localhost:8080/",
     "height": 82
    },
    "colab_type": "code",
    "executionInfo": {
     "elapsed": 7123,
     "status": "ok",
     "timestamp": 1580477091538,
     "user": {
      "displayName": "Priyanka Mohan",
      "photoUrl": "https://lh6.googleusercontent.com/-nBBI3T2BOI8/AAAAAAAAAAI/AAAAAAAAAQ4/0OHMByB_5AA/s64/photo.jpg",
      "userId": "09551041470297807769"
     },
     "user_tz": -240
    },
    "id": "R8QpQoOTORnr",
    "outputId": "d2a7d88a-348d-4a02-b9a1-87469442e431"
   },
   "outputs": [
    {
     "name": "stdout",
     "output_type": "stream",
     "text": [
      "Data points in train data (15100029, 2)\n",
      "Data points in test data (3775007, 2)\n",
      "Shape of traget variable in train (15100029, 1)\n",
      "Shape of traget variable in test (3775007, 1)\n"
     ]
    }
   ],
   "source": [
    "print(\"Data points in train data\",X_train.shape)\n",
    "print(\"Data points in test data\",X_test.shape)\n",
    "print(\"Shape of traget variable in train\",y_train.shape)\n",
    "print(\"Shape of traget variable in test\", y_test.shape)"
   ]
  },
  {
   "cell_type": "markdown",
   "metadata": {
    "colab_type": "text",
    "id": "p2BSv6fRm0ta"
   },
   "source": [
    "# 2. Similarity measures"
   ]
  },
  {
   "cell_type": "markdown",
   "metadata": {
    "colab_type": "text",
    "id": "rVP_U-xUm0tc"
   },
   "source": [
    "## 2.1 Jaccard Distance:\n",
    "http://www.statisticshowto.com/jaccard-index/"
   ]
  },
  {
   "cell_type": "markdown",
   "metadata": {
    "colab_type": "text",
    "id": "T7B2w3Wvm0td"
   },
   "source": [
    "\\begin{equation}\n",
    "j = \\frac{|X\\cap Y|}{|X \\cup Y|} \n",
    "\\end{equation}"
   ]
  },
  {
   "cell_type": "code",
   "execution_count": 0,
   "metadata": {
    "colab": {},
    "colab_type": "code",
    "id": "8uHf-abqm0td"
   },
   "outputs": [],
   "source": [
    "#for followees\n",
    "def jaccard_for_followees(a,b):\n",
    "    try:\n",
    "        if len(set(train_graph.successors(a))) == 0  | len(set(train_graph.successors(b))) == 0:\n",
    "            return 0\n",
    "        sim = (len(set(train_graph.successors(a)).intersection(set(train_graph.successors(b)))))/\\\n",
    "                                    (len(set(train_graph.successors(a)).union(set(train_graph.successors(b)))))\n",
    "    except:\n",
    "        return 0\n",
    "    return sim"
   ]
  },
  {
   "cell_type": "code",
   "execution_count": 50,
   "metadata": {
    "colab": {
     "base_uri": "https://localhost:8080/",
     "height": 33
    },
    "colab_type": "code",
    "executionInfo": {
     "elapsed": 693,
     "status": "ok",
     "timestamp": 1580477125886,
     "user": {
      "displayName": "Priyanka Mohan",
      "photoUrl": "https://lh6.googleusercontent.com/-nBBI3T2BOI8/AAAAAAAAAAI/AAAAAAAAAQ4/0OHMByB_5AA/s64/photo.jpg",
      "userId": "09551041470297807769"
     },
     "user_tz": -240
    },
    "id": "AoCEgQBqm0tg",
    "outputId": "60576d6b-adb1-460c-af1c-8e50e8bdec6e"
   },
   "outputs": [
    {
     "name": "stdout",
     "output_type": "stream",
     "text": [
      "0.0\n"
     ]
    }
   ],
   "source": [
    "#one test case\n",
    "print(jaccard_for_followees(273084,1505602))"
   ]
  },
  {
   "cell_type": "code",
   "execution_count": 0,
   "metadata": {
    "colab": {},
    "colab_type": "code",
    "id": "AXo5SSaJm0tm"
   },
   "outputs": [],
   "source": [
    "#for followers\n",
    "def jaccard_for_followers(a,b):\n",
    "    try:\n",
    "        if len(set(train_graph.predecessors(a))) == 0  | len(set(g.predecessors(b))) == 0:\n",
    "            return 0\n",
    "        sim = (len(set(train_graph.predecessors(a)).intersection(set(train_graph.predecessors(b)))))/\\\n",
    "                                 (len(set(train_graph.predecessors(a)).union(set(train_graph.predecessors(b)))))\n",
    "        return sim\n",
    "    except:\n",
    "        return 0"
   ]
  },
  {
   "cell_type": "code",
   "execution_count": 52,
   "metadata": {
    "colab": {
     "base_uri": "https://localhost:8080/",
     "height": 33
    },
    "colab_type": "code",
    "executionInfo": {
     "elapsed": 1066,
     "status": "ok",
     "timestamp": 1580477128722,
     "user": {
      "displayName": "Priyanka Mohan",
      "photoUrl": "https://lh6.googleusercontent.com/-nBBI3T2BOI8/AAAAAAAAAAI/AAAAAAAAAQ4/0OHMByB_5AA/s64/photo.jpg",
      "userId": "09551041470297807769"
     },
     "user_tz": -240
    },
    "id": "EaFJUSPxm0tq",
    "outputId": "7d4cd652-02c5-48bd-e4f6-bf28c81a5464"
   },
   "outputs": [
    {
     "name": "stdout",
     "output_type": "stream",
     "text": [
      "0.0\n"
     ]
    }
   ],
   "source": [
    "print(jaccard_for_followers(273084,470294))"
   ]
  },
  {
   "cell_type": "code",
   "execution_count": 53,
   "metadata": {
    "colab": {
     "base_uri": "https://localhost:8080/",
     "height": 33
    },
    "colab_type": "code",
    "executionInfo": {
     "elapsed": 851,
     "status": "ok",
     "timestamp": 1580477229820,
     "user": {
      "displayName": "Priyanka Mohan",
      "photoUrl": "https://lh6.googleusercontent.com/-nBBI3T2BOI8/AAAAAAAAAAI/AAAAAAAAAQ4/0OHMByB_5AA/s64/photo.jpg",
      "userId": "09551041470297807769"
     },
     "user_tz": -240
    },
    "id": "dE0pcs7Bm0tv",
    "outputId": "5bc61ce2-0ff8-4b91-ec52-e958bdc0041e"
   },
   "outputs": [
    {
     "name": "stdout",
     "output_type": "stream",
     "text": [
      "0\n"
     ]
    }
   ],
   "source": [
    "#node 1635354 not in graph \n",
    "print(jaccard_for_followees(669354,1635354))"
   ]
  },
  {
   "cell_type": "markdown",
   "metadata": {
    "colab_type": "text",
    "id": "6M4so2PGm0tz"
   },
   "source": [
    "## 2.2 Cosine distance"
   ]
  },
  {
   "cell_type": "markdown",
   "metadata": {
    "colab_type": "text",
    "id": "2b9Kh121m0t0"
   },
   "source": [
    "\\begin{equation}\n",
    "CosineDistance = \\frac{|X\\cap Y|}{|X|\\cdot|Y|} \n",
    "\\end{equation}"
   ]
  },
  {
   "cell_type": "code",
   "execution_count": 0,
   "metadata": {
    "colab": {},
    "colab_type": "code",
    "id": "x4E4pQ59m0t1"
   },
   "outputs": [],
   "source": [
    "#for followees\n",
    "def cosine_for_followees(a,b):\n",
    "    try:\n",
    "        if len(set(train_graph.successors(a))) == 0  | len(set(train_graph.successors(b))) == 0:\n",
    "            return 0\n",
    "        sim = (len(set(train_graph.successors(a)).intersection(set(train_graph.successors(b)))))/\\\n",
    "                                    (math.sqrt(len(set(train_graph.successors(a)))*len((set(train_graph.successors(b))))))\n",
    "        return sim\n",
    "    except:\n",
    "        return 0"
   ]
  },
  {
   "cell_type": "code",
   "execution_count": 55,
   "metadata": {
    "colab": {
     "base_uri": "https://localhost:8080/",
     "height": 33
    },
    "colab_type": "code",
    "executionInfo": {
     "elapsed": 924,
     "status": "ok",
     "timestamp": 1580477234431,
     "user": {
      "displayName": "Priyanka Mohan",
      "photoUrl": "https://lh6.googleusercontent.com/-nBBI3T2BOI8/AAAAAAAAAAI/AAAAAAAAAQ4/0OHMByB_5AA/s64/photo.jpg",
      "userId": "09551041470297807769"
     },
     "user_tz": -240
    },
    "id": "5hcgOhv2m0t5",
    "outputId": "8fb643f7-5dda-41ee-b450-697b7220722e"
   },
   "outputs": [
    {
     "name": "stdout",
     "output_type": "stream",
     "text": [
      "0\n"
     ]
    }
   ],
   "source": [
    "print(cosine_for_followees(273084,1635354))"
   ]
  },
  {
   "cell_type": "code",
   "execution_count": 0,
   "metadata": {
    "colab": {},
    "colab_type": "code",
    "id": "-Ue-H_mXm0t7"
   },
   "outputs": [],
   "source": [
    "def cosine_for_followers(a,b):\n",
    "    try:\n",
    "        \n",
    "        if len(set(train_graph.predecessors(a))) == 0  | len(set(train_graph.predecessors(b))) == 0:\n",
    "            return 0\n",
    "        sim = (len(set(train_graph.predecessors(a)).intersection(set(train_graph.predecessors(b)))))/\\\n",
    "                                     (math.sqrt(len(set(train_graph.predecessors(a))))*(len(set(train_graph.predecessors(b)))))\n",
    "        return sim\n",
    "    except:\n",
    "        return 0"
   ]
  },
  {
   "cell_type": "code",
   "execution_count": 57,
   "metadata": {
    "colab": {
     "base_uri": "https://localhost:8080/",
     "height": 33
    },
    "colab_type": "code",
    "executionInfo": {
     "elapsed": 843,
     "status": "ok",
     "timestamp": 1580477236015,
     "user": {
      "displayName": "Priyanka Mohan",
      "photoUrl": "https://lh6.googleusercontent.com/-nBBI3T2BOI8/AAAAAAAAAAI/AAAAAAAAAQ4/0OHMByB_5AA/s64/photo.jpg",
      "userId": "09551041470297807769"
     },
     "user_tz": -240
    },
    "id": "jAzNNbSwm0t_",
    "outputId": "f8268220-cbc2-452e-a39c-d1fbcfef33be"
   },
   "outputs": [
    {
     "name": "stdout",
     "output_type": "stream",
     "text": [
      "0.02886751345948129\n"
     ]
    }
   ],
   "source": [
    "print(cosine_for_followers(2,470294))"
   ]
  },
  {
   "cell_type": "code",
   "execution_count": 58,
   "metadata": {
    "colab": {
     "base_uri": "https://localhost:8080/",
     "height": 33
    },
    "colab_type": "code",
    "executionInfo": {
     "elapsed": 1193,
     "status": "ok",
     "timestamp": 1580477236924,
     "user": {
      "displayName": "Priyanka Mohan",
      "photoUrl": "https://lh6.googleusercontent.com/-nBBI3T2BOI8/AAAAAAAAAAI/AAAAAAAAAQ4/0OHMByB_5AA/s64/photo.jpg",
      "userId": "09551041470297807769"
     },
     "user_tz": -240
    },
    "id": "XSAtZPiXm0uG",
    "outputId": "e7df55a4-d601-46bb-adfe-6a62a13b46a6"
   },
   "outputs": [
    {
     "name": "stdout",
     "output_type": "stream",
     "text": [
      "0\n"
     ]
    }
   ],
   "source": [
    "print(cosine_for_followers(669354,1635354))"
   ]
  },
  {
   "cell_type": "markdown",
   "metadata": {
    "colab_type": "text",
    "id": "4b7VWiDFm0uJ"
   },
   "source": [
    "## 3. Ranking Measures"
   ]
  },
  {
   "cell_type": "markdown",
   "metadata": {
    "colab_type": "text",
    "id": "4WDbj8fWm0uJ"
   },
   "source": [
    "https://networkx.github.io/documentation/networkx-1.10/reference/generated/networkx.algorithms.link_analysis.pagerank_alg.pagerank.html\n",
    "\n",
    "PageRank computes a ranking of the nodes in the graph G based on the structure of the incoming links.\n",
    "\n",
    "<img src='PageRanks-Example.jpg'/>\n",
    "\n",
    "Mathematical PageRanks for a simple network, expressed as percentages. (Google uses a logarithmic scale.) Page C has a higher PageRank than Page E, even though there are fewer links to C; the one link to C comes from an important page and hence is of high value. If web surfers who start on a random page have an 85% likelihood of choosing a random link from the page they are currently visiting, and a 15% likelihood of jumping to a page chosen at random from the entire web, they will reach Page E 8.1% of the time. <b>(The 15% likelihood of jumping to an arbitrary page corresponds to a damping factor of 85%.) Without damping, all web surfers would eventually end up on Pages A, B, or C, and all other pages would have PageRank zero. In the presence of damping, Page A effectively links to all pages in the web, even though it has no outgoing links of its own.</b>"
   ]
  },
  {
   "cell_type": "markdown",
   "metadata": {
    "colab_type": "text",
    "id": "WGN6XRmZm0uK"
   },
   "source": [
    "## 3.1 Page Ranking\n",
    "\n",
    "https://en.wikipedia.org/wiki/PageRank\n"
   ]
  },
  {
   "cell_type": "code",
   "execution_count": 0,
   "metadata": {
    "colab": {},
    "colab_type": "code",
    "id": "G61D-gEwm0uL"
   },
   "outputs": [],
   "source": [
    "if not os.path.isfile('/content/drive/My Drive/Facebook/data/fea_sample/page_rank.p'):\n",
    "    pr = nx.pagerank(train_graph, alpha=0.85)\n",
    "    pickle.dump(pr,open('/content/drive/My Drive/Facebook/data/fea_sample/page_rank.p','wb'))\n",
    "else:\n",
    "    pr = pickle.load(open('/content/drive/My Drive/Facebook/data/fea_sample/page_rank.p','rb'))"
   ]
  },
  {
   "cell_type": "code",
   "execution_count": 61,
   "metadata": {
    "colab": {
     "base_uri": "https://localhost:8080/",
     "height": 66
    },
    "colab_type": "code",
    "executionInfo": {
     "elapsed": 1279,
     "status": "ok",
     "timestamp": 1580477374033,
     "user": {
      "displayName": "Priyanka Mohan",
      "photoUrl": "https://lh6.googleusercontent.com/-nBBI3T2BOI8/AAAAAAAAAAI/AAAAAAAAAQ4/0OHMByB_5AA/s64/photo.jpg",
      "userId": "09551041470297807769"
     },
     "user_tz": -240
    },
    "id": "_X6dPaFzm0uM",
    "outputId": "2e51a6ef-248b-408d-ee59-06ca6d4963aa"
   },
   "outputs": [
    {
     "name": "stdout",
     "output_type": "stream",
     "text": [
      "min 1.6556497245737814e-07\n",
      "max 2.7098251341935827e-05\n",
      "mean 5.615699699389075e-07\n"
     ]
    }
   ],
   "source": [
    "print('min',pr[min(pr, key=pr.get)])\n",
    "print('max',pr[max(pr, key=pr.get)])\n",
    "print('mean',float(sum(pr.values())) / len(pr))"
   ]
  },
  {
   "cell_type": "code",
   "execution_count": 62,
   "metadata": {
    "colab": {
     "base_uri": "https://localhost:8080/",
     "height": 33
    },
    "colab_type": "code",
    "executionInfo": {
     "elapsed": 551,
     "status": "ok",
     "timestamp": 1580477374035,
     "user": {
      "displayName": "Priyanka Mohan",
      "photoUrl": "https://lh6.googleusercontent.com/-nBBI3T2BOI8/AAAAAAAAAAI/AAAAAAAAAQ4/0OHMByB_5AA/s64/photo.jpg",
      "userId": "09551041470297807769"
     },
     "user_tz": -240
    },
    "id": "B0tebCBCm0uP",
    "outputId": "bab662f3-c2ca-47da-dfcb-f110a1f820d4"
   },
   "outputs": [
    {
     "name": "stdout",
     "output_type": "stream",
     "text": [
      "5.615699699389075e-07\n"
     ]
    }
   ],
   "source": [
    "#for imputing to nodes which are not there in Train data\n",
    "mean_pr = float(sum(pr.values())) / len(pr)\n",
    "print(mean_pr)"
   ]
  },
  {
   "cell_type": "markdown",
   "metadata": {
    "colab_type": "text",
    "id": "5XPTJb8wm0uR"
   },
   "source": [
    "# 4. Other Graph Features"
   ]
  },
  {
   "cell_type": "markdown",
   "metadata": {
    "colab_type": "text",
    "id": "SfJ8qs1_m0uS"
   },
   "source": [
    "## 4.1 Shortest path:"
   ]
  },
  {
   "cell_type": "markdown",
   "metadata": {
    "colab_type": "text",
    "id": "WOkMZIsVm0uS"
   },
   "source": [
    "Getting Shortest path between twoo nodes, if nodes have direct path i.e directly connected then we are removing that edge and calculating path. "
   ]
  },
  {
   "cell_type": "code",
   "execution_count": 0,
   "metadata": {
    "colab": {},
    "colab_type": "code",
    "id": "BuLvr9U_m0uT"
   },
   "outputs": [],
   "source": [
    "#if has direct edge then deleting that edge and calculating shortest path\n",
    "def compute_shortest_path_length(a,b):\n",
    "    p=-1\n",
    "    try:\n",
    "        if train_graph.has_edge(a,b):\n",
    "            train_graph.remove_edge(a,b)\n",
    "            p= nx.shortest_path_length(train_graph,source=a,target=b)\n",
    "            train_graph.add_edge(a,b)\n",
    "        else:\n",
    "            p= nx.shortest_path_length(train_graph,source=a,target=b)\n",
    "        return p\n",
    "    except:\n",
    "        return -1"
   ]
  },
  {
   "cell_type": "code",
   "execution_count": 64,
   "metadata": {
    "colab": {
     "base_uri": "https://localhost:8080/",
     "height": 33
    },
    "colab_type": "code",
    "executionInfo": {
     "elapsed": 1880,
     "status": "ok",
     "timestamp": 1580477382930,
     "user": {
      "displayName": "Priyanka Mohan",
      "photoUrl": "https://lh6.googleusercontent.com/-nBBI3T2BOI8/AAAAAAAAAAI/AAAAAAAAAQ4/0OHMByB_5AA/s64/photo.jpg",
      "userId": "09551041470297807769"
     },
     "user_tz": -240
    },
    "id": "NrMmHsI3m0uV",
    "outputId": "cb923353-8c35-4812-8595-f5c62e7c50ad"
   },
   "outputs": [
    {
     "data": {
      "text/plain": [
       "10"
      ]
     },
     "execution_count": 64,
     "metadata": {
      "tags": []
     },
     "output_type": "execute_result"
    }
   ],
   "source": [
    "#testing\n",
    "compute_shortest_path_length(77697, 826021)"
   ]
  },
  {
   "cell_type": "code",
   "execution_count": 65,
   "metadata": {
    "colab": {
     "base_uri": "https://localhost:8080/",
     "height": 33
    },
    "colab_type": "code",
    "executionInfo": {
     "elapsed": 2333,
     "status": "ok",
     "timestamp": 1580477383896,
     "user": {
      "displayName": "Priyanka Mohan",
      "photoUrl": "https://lh6.googleusercontent.com/-nBBI3T2BOI8/AAAAAAAAAAI/AAAAAAAAAQ4/0OHMByB_5AA/s64/photo.jpg",
      "userId": "09551041470297807769"
     },
     "user_tz": -240
    },
    "id": "_vRwmNrIm0uZ",
    "outputId": "15584182-d05a-4dbb-b5a6-a29621ec3146"
   },
   "outputs": [
    {
     "data": {
      "text/plain": [
       "-1"
      ]
     },
     "execution_count": 65,
     "metadata": {
      "tags": []
     },
     "output_type": "execute_result"
    }
   ],
   "source": [
    "#testing\n",
    "compute_shortest_path_length(669354,1635354)"
   ]
  },
  {
   "cell_type": "markdown",
   "metadata": {
    "colab_type": "text",
    "id": "Fi5vFspGm0ud"
   },
   "source": [
    "## 4.2 Checking for same community"
   ]
  },
  {
   "cell_type": "code",
   "execution_count": 0,
   "metadata": {
    "colab": {},
    "colab_type": "code",
    "id": "AV67FRUFm0ue"
   },
   "outputs": [],
   "source": [
    "#getting weekly connected edges from graph \n",
    "wcc=list(nx.weakly_connected_components(train_graph))\n",
    "def belongs_to_same_wcc(a,b):\n",
    "    index = []\n",
    "    if train_graph.has_edge(b,a):\n",
    "        return 1\n",
    "    if train_graph.has_edge(a,b):\n",
    "            for i in wcc:\n",
    "                if a in i:\n",
    "                    index= i\n",
    "                    break\n",
    "            if (b in index):\n",
    "                train_graph.remove_edge(a,b)\n",
    "                if compute_shortest_path_length(a,b)==-1:\n",
    "                    train_graph.add_edge(a,b)\n",
    "                    return 0\n",
    "                else:\n",
    "                    train_graph.add_edge(a,b)\n",
    "                    return 1\n",
    "            else:\n",
    "                return 0\n",
    "    else:\n",
    "            for i in wcc:\n",
    "                if a in i:\n",
    "                    index= i\n",
    "                    break\n",
    "            if(b in index):\n",
    "                return 1\n",
    "            else:\n",
    "                return 0"
   ]
  },
  {
   "cell_type": "code",
   "execution_count": 67,
   "metadata": {
    "colab": {
     "base_uri": "https://localhost:8080/",
     "height": 33
    },
    "colab_type": "code",
    "executionInfo": {
     "elapsed": 31994,
     "status": "ok",
     "timestamp": 1580477416469,
     "user": {
      "displayName": "Priyanka Mohan",
      "photoUrl": "https://lh6.googleusercontent.com/-nBBI3T2BOI8/AAAAAAAAAAI/AAAAAAAAAQ4/0OHMByB_5AA/s64/photo.jpg",
      "userId": "09551041470297807769"
     },
     "user_tz": -240
    },
    "id": "_Ub5gvGGm0ui",
    "outputId": "4627d0d0-0891-408c-97c3-5e24effc644b"
   },
   "outputs": [
    {
     "data": {
      "text/plain": [
       "0"
      ]
     },
     "execution_count": 67,
     "metadata": {
      "tags": []
     },
     "output_type": "execute_result"
    }
   ],
   "source": [
    "belongs_to_same_wcc(861, 1659750)"
   ]
  },
  {
   "cell_type": "code",
   "execution_count": 68,
   "metadata": {
    "colab": {
     "base_uri": "https://localhost:8080/",
     "height": 33
    },
    "colab_type": "code",
    "executionInfo": {
     "elapsed": 31091,
     "status": "ok",
     "timestamp": 1580477416470,
     "user": {
      "displayName": "Priyanka Mohan",
      "photoUrl": "https://lh6.googleusercontent.com/-nBBI3T2BOI8/AAAAAAAAAAI/AAAAAAAAAQ4/0OHMByB_5AA/s64/photo.jpg",
      "userId": "09551041470297807769"
     },
     "user_tz": -240
    },
    "id": "AVzvF3pwm0ul",
    "outputId": "37fd1efe-7135-4bc8-e5cb-9f1a743a6e6c"
   },
   "outputs": [
    {
     "data": {
      "text/plain": [
       "0"
      ]
     },
     "execution_count": 68,
     "metadata": {
      "tags": []
     },
     "output_type": "execute_result"
    }
   ],
   "source": [
    "belongs_to_same_wcc(669354,1635354)"
   ]
  },
  {
   "cell_type": "markdown",
   "metadata": {
    "colab_type": "text",
    "id": "dwKe_fD4m0un"
   },
   "source": [
    "## 4.3 Adamic/Adar Index:\n",
    "Adamic/Adar measures is defined as inverted sum of degrees of common neighbours for given two vertices.\n",
    "$$A(x,y)=\\sum_{u \\in N(x) \\cap N(y)}\\frac{1}{log(|N(u)|)}$$"
   ]
  },
  {
   "cell_type": "code",
   "execution_count": 0,
   "metadata": {
    "colab": {},
    "colab_type": "code",
    "id": "fx4F970Tm0uo"
   },
   "outputs": [],
   "source": [
    "#adar index\n",
    "def calc_adar_in(a,b):\n",
    "    sum=0\n",
    "    try:\n",
    "        n=list(set(train_graph.successors(a)).intersection(set(train_graph.successors(b))))\n",
    "        if len(n)!=0:\n",
    "            for i in n:\n",
    "                sum=sum+(1/np.log10(len(list(train_graph.predecessors(i)))))\n",
    "            return sum\n",
    "        else:\n",
    "            return 0\n",
    "    except:\n",
    "        return 0"
   ]
  },
  {
   "cell_type": "code",
   "execution_count": 70,
   "metadata": {
    "colab": {
     "base_uri": "https://localhost:8080/",
     "height": 33
    },
    "colab_type": "code",
    "executionInfo": {
     "elapsed": 29045,
     "status": "ok",
     "timestamp": 1580477416473,
     "user": {
      "displayName": "Priyanka Mohan",
      "photoUrl": "https://lh6.googleusercontent.com/-nBBI3T2BOI8/AAAAAAAAAAI/AAAAAAAAAQ4/0OHMByB_5AA/s64/photo.jpg",
      "userId": "09551041470297807769"
     },
     "user_tz": -240
    },
    "id": "XJGtlYNom0uq",
    "outputId": "c33c977b-6cc2-43b9-980d-86918da9890c"
   },
   "outputs": [
    {
     "data": {
      "text/plain": [
       "0"
      ]
     },
     "execution_count": 70,
     "metadata": {
      "tags": []
     },
     "output_type": "execute_result"
    }
   ],
   "source": [
    "calc_adar_in(1,189226)"
   ]
  },
  {
   "cell_type": "code",
   "execution_count": 71,
   "metadata": {
    "colab": {
     "base_uri": "https://localhost:8080/",
     "height": 33
    },
    "colab_type": "code",
    "executionInfo": {
     "elapsed": 28389,
     "status": "ok",
     "timestamp": 1580477416475,
     "user": {
      "displayName": "Priyanka Mohan",
      "photoUrl": "https://lh6.googleusercontent.com/-nBBI3T2BOI8/AAAAAAAAAAI/AAAAAAAAAQ4/0OHMByB_5AA/s64/photo.jpg",
      "userId": "09551041470297807769"
     },
     "user_tz": -240
    },
    "id": "zqcbIjmPm0uu",
    "outputId": "9e2100b4-57ca-453f-8bda-a45722ed1a27"
   },
   "outputs": [
    {
     "data": {
      "text/plain": [
       "0"
      ]
     },
     "execution_count": 71,
     "metadata": {
      "tags": []
     },
     "output_type": "execute_result"
    }
   ],
   "source": [
    "calc_adar_in(669354,1635354)"
   ]
  },
  {
   "cell_type": "markdown",
   "metadata": {
    "colab_type": "text",
    "id": "3k61Ds9vm0uy"
   },
   "source": [
    "## 4.4 Is persion was following back:"
   ]
  },
  {
   "cell_type": "code",
   "execution_count": 0,
   "metadata": {
    "colab": {},
    "colab_type": "code",
    "id": "aJ8DCAcem0uz"
   },
   "outputs": [],
   "source": [
    "def follows_back(a,b):\n",
    "    if train_graph.has_edge(b,a):\n",
    "        return 1\n",
    "    else:\n",
    "        return 0"
   ]
  },
  {
   "cell_type": "code",
   "execution_count": 73,
   "metadata": {
    "colab": {
     "base_uri": "https://localhost:8080/",
     "height": 33
    },
    "colab_type": "code",
    "executionInfo": {
     "elapsed": 25984,
     "status": "ok",
     "timestamp": 1580477416477,
     "user": {
      "displayName": "Priyanka Mohan",
      "photoUrl": "https://lh6.googleusercontent.com/-nBBI3T2BOI8/AAAAAAAAAAI/AAAAAAAAAQ4/0OHMByB_5AA/s64/photo.jpg",
      "userId": "09551041470297807769"
     },
     "user_tz": -240
    },
    "id": "9VY2MfIRm0u1",
    "outputId": "e6f9f633-fd99-4ed7-e88e-a2ec54778b91"
   },
   "outputs": [
    {
     "data": {
      "text/plain": [
       "1"
      ]
     },
     "execution_count": 73,
     "metadata": {
      "tags": []
     },
     "output_type": "execute_result"
    }
   ],
   "source": [
    "follows_back(1,189226)"
   ]
  },
  {
   "cell_type": "code",
   "execution_count": 74,
   "metadata": {
    "colab": {
     "base_uri": "https://localhost:8080/",
     "height": 33
    },
    "colab_type": "code",
    "executionInfo": {
     "elapsed": 25358,
     "status": "ok",
     "timestamp": 1580477416478,
     "user": {
      "displayName": "Priyanka Mohan",
      "photoUrl": "https://lh6.googleusercontent.com/-nBBI3T2BOI8/AAAAAAAAAAI/AAAAAAAAAQ4/0OHMByB_5AA/s64/photo.jpg",
      "userId": "09551041470297807769"
     },
     "user_tz": -240
    },
    "id": "00I3D3Pxm0u3",
    "outputId": "b364b30d-1d9a-48d0-f704-5acebce09078"
   },
   "outputs": [
    {
     "data": {
      "text/plain": [
       "0"
      ]
     },
     "execution_count": 74,
     "metadata": {
      "tags": []
     },
     "output_type": "execute_result"
    }
   ],
   "source": [
    "follows_back(669354,1635354)"
   ]
  },
  {
   "cell_type": "markdown",
   "metadata": {
    "colab_type": "text",
    "id": "zXdp-iIum0u5"
   },
   "source": [
    "## 4.5 Katz Centrality:\n",
    "https://en.wikipedia.org/wiki/Katz_centrality\n",
    "\n",
    "https://www.geeksforgeeks.org/katz-centrality-centrality-measure/\n",
    " Katz centrality computes the centrality for a node \n",
    "    based on the centrality of its neighbors. It is a \n",
    "    generalization of the eigenvector centrality. The\n",
    "    Katz centrality for node `i` is\n",
    " \n",
    "$$x_i = \\alpha \\sum_{j} A_{ij} x_j + \\beta,$$\n",
    "where `A` is the adjacency matrix of the graph G \n",
    "with eigenvalues $$\\lambda$$.\n",
    "\n",
    "The parameter $$\\beta$$ controls the initial centrality and \n",
    "\n",
    "$$\\alpha < \\frac{1}{\\lambda_{max}}.$$"
   ]
  },
  {
   "cell_type": "code",
   "execution_count": 0,
   "metadata": {
    "colab": {},
    "colab_type": "code",
    "id": "SyMASGZEm0u5"
   },
   "outputs": [],
   "source": [
    "if not os.path.isfile('/content/drive/My Drive/Facebook/data/fea_sample/katz.p'):\n",
    "    katz = nx.katz.katz_centrality(train_graph,alpha=0.005,beta=1)\n",
    "    pickle.dump(katz,open('/content/drive/My Drive/Facebook/data/fea_sample/katz.p','wb'))\n",
    "else:\n",
    "    katz = pickle.load(open('/content/drive/My Drive/Facebook/data/fea_sample/katz.p','rb'))"
   ]
  },
  {
   "cell_type": "code",
   "execution_count": 82,
   "metadata": {
    "colab": {
     "base_uri": "https://localhost:8080/",
     "height": 66
    },
    "colab_type": "code",
    "executionInfo": {
     "elapsed": 1572,
     "status": "ok",
     "timestamp": 1580478035800,
     "user": {
      "displayName": "Priyanka Mohan",
      "photoUrl": "https://lh6.googleusercontent.com/-nBBI3T2BOI8/AAAAAAAAAAI/AAAAAAAAAQ4/0OHMByB_5AA/s64/photo.jpg",
      "userId": "09551041470297807769"
     },
     "user_tz": -240
    },
    "id": "_7vmt0l7m0u8",
    "outputId": "5d08ce0c-e10c-4031-8e68-00b4a1a35098"
   },
   "outputs": [
    {
     "name": "stdout",
     "output_type": "stream",
     "text": [
      "min 0.0007313532484065916\n",
      "max 0.003394554981699122\n",
      "mean 0.0007483800935562018\n"
     ]
    }
   ],
   "source": [
    "print('min',katz[min(katz, key=katz.get)])\n",
    "print('max',katz[max(katz, key=katz.get)])\n",
    "print('mean',float(sum(katz.values())) / len(katz))"
   ]
  },
  {
   "cell_type": "code",
   "execution_count": 83,
   "metadata": {
    "colab": {
     "base_uri": "https://localhost:8080/",
     "height": 33
    },
    "colab_type": "code",
    "executionInfo": {
     "elapsed": 580,
     "status": "ok",
     "timestamp": 1580478035802,
     "user": {
      "displayName": "Priyanka Mohan",
      "photoUrl": "https://lh6.googleusercontent.com/-nBBI3T2BOI8/AAAAAAAAAAI/AAAAAAAAAQ4/0OHMByB_5AA/s64/photo.jpg",
      "userId": "09551041470297807769"
     },
     "user_tz": -240
    },
    "id": "AcYV9CDCm0u-",
    "outputId": "244dec32-3032-43c4-9204-3055aa78aeac"
   },
   "outputs": [
    {
     "name": "stdout",
     "output_type": "stream",
     "text": [
      "0.0007483800935562018\n"
     ]
    }
   ],
   "source": [
    "mean_katz = float(sum(katz.values())) / len(katz)\n",
    "print(mean_katz)"
   ]
  },
  {
   "cell_type": "markdown",
   "metadata": {
    "colab_type": "text",
    "id": "NqVo80apm0vA"
   },
   "source": [
    "## 4.6 Hits Score\n",
    "The HITS algorithm computes two numbers for a node. Authorities estimates the node value based on the incoming links. Hubs estimates the node value based on outgoing links.\n",
    "\n",
    "https://en.wikipedia.org/wiki/HITS_algorithm"
   ]
  },
  {
   "cell_type": "code",
   "execution_count": 0,
   "metadata": {
    "colab": {},
    "colab_type": "code",
    "id": "__5pPSO1m0vB"
   },
   "outputs": [],
   "source": [
    "if not os.path.isfile('/content/drive/My Drive/Facebook/data/fea_sample/hits.p'):\n",
    "    hits = nx.hits(train_graph, max_iter=100, tol=1e-08, nstart=None, normalized=True)\n",
    "    pickle.dump(hits,open('/content/drive/My Drive/Facebook/data/fea_sample/hits.p','wb'))\n",
    "else:\n",
    "    hits = pickle.load(open('/content/drive/My Drive/Facebook/data/fea_sample/hits.p','rb'))"
   ]
  },
  {
   "cell_type": "code",
   "execution_count": 85,
   "metadata": {
    "colab": {
     "base_uri": "https://localhost:8080/",
     "height": 66
    },
    "colab_type": "code",
    "executionInfo": {
     "elapsed": 2199,
     "status": "ok",
     "timestamp": 1580478055986,
     "user": {
      "displayName": "Priyanka Mohan",
      "photoUrl": "https://lh6.googleusercontent.com/-nBBI3T2BOI8/AAAAAAAAAAI/AAAAAAAAAQ4/0OHMByB_5AA/s64/photo.jpg",
      "userId": "09551041470297807769"
     },
     "user_tz": -240
    },
    "id": "3mzipHY6m0vD",
    "outputId": "9e3f29a4-5fc9-4a0a-d0c3-1609702516ac"
   },
   "outputs": [
    {
     "name": "stdout",
     "output_type": "stream",
     "text": [
      "min 0.0\n",
      "max 0.004868653378780953\n",
      "mean 5.615699699344123e-07\n"
     ]
    }
   ],
   "source": [
    "print('min',hits[0][min(hits[0], key=hits[0].get)])\n",
    "print('max',hits[0][max(hits[0], key=hits[0].get)])\n",
    "print('mean',float(sum(hits[0].values())) / len(hits[0]))"
   ]
  },
  {
   "cell_type": "markdown",
   "metadata": {
    "colab_type": "text",
    "id": "Eu_jED3Am0vF"
   },
   "source": [
    "# 5. Featurization"
   ]
  },
  {
   "cell_type": "markdown",
   "metadata": {
    "colab_type": "text",
    "id": "eKcmRkwSm0vH"
   },
   "source": [
    "## 5. 1 Reading a sample of Data from both train and test"
   ]
  },
  {
   "cell_type": "code",
   "execution_count": 0,
   "metadata": {
    "colab": {},
    "colab_type": "code",
    "id": "Apnb1Ongm0vI"
   },
   "outputs": [],
   "source": [
    "import random\n",
    "if os.path.isfile('/content/drive/My Drive/Facebook/data/after_eda/train_after_eda.csv'):\n",
    "    filename = \"/content/drive/My Drive/Facebook/data/after_eda/train_after_eda.csv\"\n",
    "    # you uncomment this line, if you dont know the lentgh of the file name\n",
    "    # here we have hardcoded the number of lines as 15100030\n",
    "    # n_train = sum(1 for line in open(filename)) #number of records in file (excludes header)\n",
    "    n_train =  15100028\n",
    "    s = 100000 #desired sample size\n",
    "    skip_train = sorted(random.sample(range(1,n_train+1),n_train-s))\n",
    "    #https://stackoverflow.com/a/22259008/4084039"
   ]
  },
  {
   "cell_type": "code",
   "execution_count": 0,
   "metadata": {
    "colab": {},
    "colab_type": "code",
    "id": "Zcxio05Dm0vK"
   },
   "outputs": [],
   "source": [
    "if os.path.isfile('/content/drive/My Drive/Facebook/data/after_eda/train_after_eda.csv'):\n",
    "    filename = \"/content/drive/My Drive/Facebook/data/after_eda/test_after_eda.csv\"\n",
    "    # you uncomment this line, if you dont know the lentgh of the file name\n",
    "    # here we have hardcoded the number of lines as 3775008\n",
    "    # n_test = sum(1 for line in open(filename)) #number of records in file (excludes header)\n",
    "    n_test = 3775006\n",
    "    s = 50000 #desired sample size\n",
    "    skip_test = sorted(random.sample(range(1,n_test+1),n_test-s))\n",
    "    #https://stackoverflow.com/a/22259008/4084039"
   ]
  },
  {
   "cell_type": "code",
   "execution_count": 88,
   "metadata": {
    "colab": {
     "base_uri": "https://localhost:8080/",
     "height": 82
    },
    "colab_type": "code",
    "executionInfo": {
     "elapsed": 47087,
     "status": "ok",
     "timestamp": 1580478115573,
     "user": {
      "displayName": "Priyanka Mohan",
      "photoUrl": "https://lh6.googleusercontent.com/-nBBI3T2BOI8/AAAAAAAAAAI/AAAAAAAAAQ4/0OHMByB_5AA/s64/photo.jpg",
      "userId": "09551041470297807769"
     },
     "user_tz": -240
    },
    "id": "5vY8lee6m0vS",
    "outputId": "58a57afc-13a3-40d1-ec3e-bea6b8108b96"
   },
   "outputs": [
    {
     "name": "stdout",
     "output_type": "stream",
     "text": [
      "Number of rows in the train data file: 15100028\n",
      "Number of rows we are going to elimiate in train data are 15000028\n",
      "Number of rows in the test data file: 3775006\n",
      "Number of rows we are going to elimiate in test data are 3725006\n"
     ]
    }
   ],
   "source": [
    "print(\"Number of rows in the train data file:\", n_train)\n",
    "print(\"Number of rows we are going to elimiate in train data are\",len(skip_train))\n",
    "print(\"Number of rows in the test data file:\", n_test)\n",
    "print(\"Number of rows we are going to elimiate in test data are\",len(skip_test))"
   ]
  },
  {
   "cell_type": "code",
   "execution_count": 152,
   "metadata": {
    "colab": {
     "base_uri": "https://localhost:8080/",
     "height": 121
    },
    "colab_type": "code",
    "executionInfo": {
     "elapsed": 7987,
     "status": "ok",
     "timestamp": 1580487058865,
     "user": {
      "displayName": "Priyanka Mohan",
      "photoUrl": "https://lh6.googleusercontent.com/-nBBI3T2BOI8/AAAAAAAAAAI/AAAAAAAAAQ4/0OHMByB_5AA/s64/photo.jpg",
      "userId": "09551041470297807769"
     },
     "user_tz": -240
    },
    "id": "yA2Rx3L3m0vU",
    "outputId": "d1b3055f-be23-49e3-e2f9-870f71821b39"
   },
   "outputs": [
    {
     "name": "stdout",
     "output_type": "stream",
     "text": [
      "Our train matrix size  (100002, 3)\n"
     ]
    },
    {
     "data": {
      "text/html": [
       "<div>\n",
       "<style scoped>\n",
       "    .dataframe tbody tr th:only-of-type {\n",
       "        vertical-align: middle;\n",
       "    }\n",
       "\n",
       "    .dataframe tbody tr th {\n",
       "        vertical-align: top;\n",
       "    }\n",
       "\n",
       "    .dataframe thead th {\n",
       "        text-align: right;\n",
       "    }\n",
       "</style>\n",
       "<table border=\"1\" class=\"dataframe\">\n",
       "  <thead>\n",
       "    <tr style=\"text-align: right;\">\n",
       "      <th></th>\n",
       "      <th>source_node</th>\n",
       "      <th>destination_node</th>\n",
       "      <th>indicator_link</th>\n",
       "    </tr>\n",
       "  </thead>\n",
       "  <tbody>\n",
       "    <tr>\n",
       "      <th>0</th>\n",
       "      <td>273084</td>\n",
       "      <td>1505602</td>\n",
       "      <td>1</td>\n",
       "    </tr>\n",
       "    <tr>\n",
       "      <th>1</th>\n",
       "      <td>1791610</td>\n",
       "      <td>1321724</td>\n",
       "      <td>1</td>\n",
       "    </tr>\n",
       "  </tbody>\n",
       "</table>\n",
       "</div>"
      ],
      "text/plain": [
       "   source_node  destination_node  indicator_link\n",
       "0       273084           1505602               1\n",
       "1      1791610           1321724               1"
      ]
     },
     "execution_count": 152,
     "metadata": {
      "tags": []
     },
     "output_type": "execute_result"
    }
   ],
   "source": [
    "df_final_train = pd.read_csv('/content/drive/My Drive/Facebook/data/after_eda/train_after_eda.csv', skiprows=skip_train, names=['source_node', 'destination_node'])\n",
    "df_final_train['indicator_link'] = pd.read_csv('/content/drive/My Drive/Facebook/data/train_y.csv', skiprows=skip_train, names=['indicator_link'])\n",
    "print(\"Our train matrix size \",df_final_train.shape)\n",
    "df_final_train.head(2)"
   ]
  },
  {
   "cell_type": "code",
   "execution_count": 153,
   "metadata": {
    "colab": {
     "base_uri": "https://localhost:8080/",
     "height": 121
    },
    "colab_type": "code",
    "executionInfo": {
     "elapsed": 7526,
     "status": "ok",
     "timestamp": 1580487060140,
     "user": {
      "displayName": "Priyanka Mohan",
      "photoUrl": "https://lh6.googleusercontent.com/-nBBI3T2BOI8/AAAAAAAAAAI/AAAAAAAAAQ4/0OHMByB_5AA/s64/photo.jpg",
      "userId": "09551041470297807769"
     },
     "user_tz": -240
    },
    "id": "1BVXGzA_m0vX",
    "outputId": "12dd3ffd-64c2-419f-e748-1cd69aa443ac"
   },
   "outputs": [
    {
     "name": "stdout",
     "output_type": "stream",
     "text": [
      "Our test matrix size  (50002, 3)\n"
     ]
    },
    {
     "data": {
      "text/html": [
       "<div>\n",
       "<style scoped>\n",
       "    .dataframe tbody tr th:only-of-type {\n",
       "        vertical-align: middle;\n",
       "    }\n",
       "\n",
       "    .dataframe tbody tr th {\n",
       "        vertical-align: top;\n",
       "    }\n",
       "\n",
       "    .dataframe thead th {\n",
       "        text-align: right;\n",
       "    }\n",
       "</style>\n",
       "<table border=\"1\" class=\"dataframe\">\n",
       "  <thead>\n",
       "    <tr style=\"text-align: right;\">\n",
       "      <th></th>\n",
       "      <th>source_node</th>\n",
       "      <th>destination_node</th>\n",
       "      <th>indicator_link</th>\n",
       "    </tr>\n",
       "  </thead>\n",
       "  <tbody>\n",
       "    <tr>\n",
       "      <th>0</th>\n",
       "      <td>848424</td>\n",
       "      <td>784690</td>\n",
       "      <td>1</td>\n",
       "    </tr>\n",
       "    <tr>\n",
       "      <th>1</th>\n",
       "      <td>992327</td>\n",
       "      <td>550492</td>\n",
       "      <td>1</td>\n",
       "    </tr>\n",
       "  </tbody>\n",
       "</table>\n",
       "</div>"
      ],
      "text/plain": [
       "   source_node  destination_node  indicator_link\n",
       "0       848424            784690               1\n",
       "1       992327            550492               1"
      ]
     },
     "execution_count": 153,
     "metadata": {
      "tags": []
     },
     "output_type": "execute_result"
    }
   ],
   "source": [
    "df_final_test = pd.read_csv('/content/drive/My Drive/Facebook/data/after_eda/test_after_eda.csv', skiprows=skip_test, names=['source_node', 'destination_node'])\n",
    "df_final_test['indicator_link'] = pd.read_csv('/content/drive/My Drive/Facebook/data/test_y.csv', skiprows=skip_test, names=['indicator_link'])\n",
    "print(\"Our test matrix size \",df_final_test.shape)\n",
    "df_final_test.head(2)"
   ]
  },
  {
   "cell_type": "markdown",
   "metadata": {
    "colab_type": "text",
    "id": "MAfNy69Cm0va"
   },
   "source": [
    "## 5.2 Adding a set of features\n",
    "\n",
    "__we will create these each of these features for both train and test data points__\n",
    "<ol>\n",
    "<li>jaccard_followers</li>\n",
    "<li>jaccard_followees</li>\n",
    "<li>cosine_followers</li>\n",
    "<li>cosine_followees</li>\n",
    "<li>num_followers_s</li>\n",
    "<li>num_followees_s</li>\n",
    "<li>num_followers_d</li>\n",
    "<li>num_followees_d</li>\n",
    "<li>inter_followers</li>\n",
    "<li>inter_followees</li>\n",
    "</ol>"
   ]
  },
  {
   "cell_type": "code",
   "execution_count": 0,
   "metadata": {
    "colab": {},
    "colab_type": "code",
    "id": "3tLs7Mixm0vb"
   },
   "outputs": [],
   "source": [
    "if not os.path.isfile('/content/drive/My Drive/Facebook/data/fea_sample/storage_sample_stage1.h5'):\n",
    "    #mapping jaccrd followers to train and test data\n",
    "    df_final_train['jaccard_followers'] = df_final_train.apply(lambda row:\n",
    "                                            jaccard_for_followers(row['source_node'],row['destination_node']),axis=1)\n",
    "    df_final_test['jaccard_followers'] = df_final_test.apply(lambda row:\n",
    "                                            jaccard_for_followers(row['source_node'],row['destination_node']),axis=1)\n",
    "\n",
    "    #mapping jaccrd followees to train and test data\n",
    "    df_final_train['jaccard_followees'] = df_final_train.apply(lambda row:\n",
    "                                            jaccard_for_followees(row['source_node'],row['destination_node']),axis=1)\n",
    "    df_final_test['jaccard_followees'] = df_final_test.apply(lambda row:\n",
    "                                            jaccard_for_followees(row['source_node'],row['destination_node']),axis=1)\n",
    "    \n",
    "\n",
    "        #mapping jaccrd followers to train and test data\n",
    "    df_final_train['cosine_followers'] = df_final_train.apply(lambda row:\n",
    "                                            cosine_for_followers(row['source_node'],row['destination_node']),axis=1)\n",
    "    df_final_test['cosine_followers'] = df_final_test.apply(lambda row:\n",
    "                                            cosine_for_followers(row['source_node'],row['destination_node']),axis=1)\n",
    "\n",
    "    #mapping jaccrd followees to train and test data\n",
    "    df_final_train['cosine_followees'] = df_final_train.apply(lambda row:\n",
    "                                            cosine_for_followees(row['source_node'],row['destination_node']),axis=1)\n",
    "    df_final_test['cosine_followees'] = df_final_test.apply(lambda row:\n",
    "                                            cosine_for_followees(row['source_node'],row['destination_node']),axis=1)"
   ]
  },
  {
   "cell_type": "code",
   "execution_count": 0,
   "metadata": {
    "colab": {},
    "colab_type": "code",
    "id": "JrCqhWACm0vc"
   },
   "outputs": [],
   "source": [
    "def compute_features_stage1(df_final):\n",
    "    #calculating no of followers followees for source and destination\n",
    "    #calculating intersection of followers and followees for source and destination\n",
    "    num_followers_s=[]\n",
    "    num_followees_s=[]\n",
    "    num_followers_d=[]\n",
    "    num_followees_d=[]\n",
    "    inter_followers=[]\n",
    "    inter_followees=[]\n",
    "    for i,row in df_final.iterrows():\n",
    "        try:\n",
    "            s1=set(train_graph.predecessors(row['source_node']))\n",
    "            s2=set(train_graph.successors(row['source_node']))\n",
    "        except:\n",
    "            s1 = set()\n",
    "            s2 = set()\n",
    "        try:\n",
    "            d1=set(train_graph.predecessors(row['destination_node']))\n",
    "            d2=set(train_graph.successors(row['destination_node']))\n",
    "        except:\n",
    "            d1 = set()\n",
    "            d2 = set()\n",
    "        num_followers_s.append(len(s1))\n",
    "        num_followees_s.append(len(s2))\n",
    "\n",
    "        num_followers_d.append(len(d1))\n",
    "        num_followees_d.append(len(d2))\n",
    "\n",
    "        inter_followers.append(len(s1.intersection(d1)))\n",
    "        inter_followees.append(len(s2.intersection(d2)))\n",
    "    \n",
    "    return num_followers_s, num_followers_d, num_followees_s, num_followees_d, inter_followers, inter_followees"
   ]
  },
  {
   "cell_type": "code",
   "execution_count": 0,
   "metadata": {
    "colab": {},
    "colab_type": "code",
    "id": "mLZE2Mz_m0ve"
   },
   "outputs": [],
   "source": [
    "if not os.path.isfile('/content/drive/My Drive/Facebook/data/fea_sample/storage_sample_stage1.h5'):\n",
    "    df_final_train['num_followers_s'], df_final_train['num_followers_d'], \\\n",
    "    df_final_train['num_followees_s'], df_final_train['num_followees_d'], \\\n",
    "    df_final_train['inter_followers'], df_final_train['inter_followees']= compute_features_stage1(df_final_train)\n",
    "    \n",
    "    df_final_test['num_followers_s'], df_final_test['num_followers_d'], \\\n",
    "    df_final_test['num_followees_s'], df_final_test['num_followees_d'], \\\n",
    "    df_final_test['inter_followers'], df_final_test['inter_followees']= compute_features_stage1(df_final_test)\n",
    "    \n",
    "    hdf = HDFStore('/content/drive/My Drive/Facebook/data/fea_sample/storage_sample_stage1.h5')\n",
    "    hdf.put('train_df',df_final_train, format='table', data_columns=True)\n",
    "    hdf.put('test_df',df_final_test, format='table', data_columns=True)\n",
    "    hdf.close()\n",
    "else:\n",
    "    df_final_train = read_hdf('/content/drive/My Drive/Facebook/data/fea_sample/storage_sample_stage1.h5', 'train_df',mode='r')\n",
    "    df_final_test = read_hdf('/content/drive/My Drive/Facebook/data/fea_sample/storage_sample_stage1.h5', 'test_df',mode='r')"
   ]
  },
  {
   "cell_type": "code",
   "execution_count": 169,
   "metadata": {
    "colab": {
     "base_uri": "https://localhost:8080/",
     "height": 211
    },
    "colab_type": "code",
    "executionInfo": {
     "elapsed": 723,
     "status": "ok",
     "timestamp": 1580488482940,
     "user": {
      "displayName": "Priyanka Mohan",
      "photoUrl": "https://lh6.googleusercontent.com/-nBBI3T2BOI8/AAAAAAAAAAI/AAAAAAAAAQ4/0OHMByB_5AA/s64/photo.jpg",
      "userId": "09551041470297807769"
     },
     "user_tz": -240
    },
    "id": "vm9mJzZUW8T_",
    "outputId": "5ec2c09d-f6d9-4584-b157-8d7e97f3aec0"
   },
   "outputs": [
    {
     "data": {
      "text/html": [
       "<div>\n",
       "<style scoped>\n",
       "    .dataframe tbody tr th:only-of-type {\n",
       "        vertical-align: middle;\n",
       "    }\n",
       "\n",
       "    .dataframe tbody tr th {\n",
       "        vertical-align: top;\n",
       "    }\n",
       "\n",
       "    .dataframe thead th {\n",
       "        text-align: right;\n",
       "    }\n",
       "</style>\n",
       "<table border=\"1\" class=\"dataframe\">\n",
       "  <thead>\n",
       "    <tr style=\"text-align: right;\">\n",
       "      <th></th>\n",
       "      <th>source_node</th>\n",
       "      <th>destination_node</th>\n",
       "      <th>indicator_link</th>\n",
       "      <th>jaccard_followers</th>\n",
       "      <th>jaccard_followees</th>\n",
       "      <th>cosine_followers</th>\n",
       "      <th>cosine_followees</th>\n",
       "      <th>num_followers_s</th>\n",
       "      <th>num_followees_s</th>\n",
       "      <th>num_followees_d</th>\n",
       "      <th>inter_followers</th>\n",
       "      <th>inter_followees</th>\n",
       "      <th>num_followers_d</th>\n",
       "    </tr>\n",
       "  </thead>\n",
       "  <tbody>\n",
       "    <tr>\n",
       "      <th>0</th>\n",
       "      <td>273084</td>\n",
       "      <td>1505602</td>\n",
       "      <td>1</td>\n",
       "      <td>0</td>\n",
       "      <td>0.000000</td>\n",
       "      <td>0.000000</td>\n",
       "      <td>0.000000</td>\n",
       "      <td>6</td>\n",
       "      <td>15</td>\n",
       "      <td>8</td>\n",
       "      <td>0</td>\n",
       "      <td>0</td>\n",
       "      <td>6</td>\n",
       "    </tr>\n",
       "    <tr>\n",
       "      <th>1</th>\n",
       "      <td>832016</td>\n",
       "      <td>1543415</td>\n",
       "      <td>1</td>\n",
       "      <td>0</td>\n",
       "      <td>0.187135</td>\n",
       "      <td>0.028382</td>\n",
       "      <td>0.343828</td>\n",
       "      <td>94</td>\n",
       "      <td>61</td>\n",
       "      <td>142</td>\n",
       "      <td>11</td>\n",
       "      <td>32</td>\n",
       "      <td>94</td>\n",
       "    </tr>\n",
       "    <tr>\n",
       "      <th>2</th>\n",
       "      <td>1325247</td>\n",
       "      <td>760242</td>\n",
       "      <td>1</td>\n",
       "      <td>0</td>\n",
       "      <td>0.369565</td>\n",
       "      <td>0.156957</td>\n",
       "      <td>0.566038</td>\n",
       "      <td>28</td>\n",
       "      <td>41</td>\n",
       "      <td>22</td>\n",
       "      <td>26</td>\n",
       "      <td>17</td>\n",
       "      <td>28</td>\n",
       "    </tr>\n",
       "    <tr>\n",
       "      <th>3</th>\n",
       "      <td>1368400</td>\n",
       "      <td>1006992</td>\n",
       "      <td>1</td>\n",
       "      <td>0</td>\n",
       "      <td>0.000000</td>\n",
       "      <td>0.000000</td>\n",
       "      <td>0.000000</td>\n",
       "      <td>11</td>\n",
       "      <td>5</td>\n",
       "      <td>7</td>\n",
       "      <td>0</td>\n",
       "      <td>0</td>\n",
       "      <td>11</td>\n",
       "    </tr>\n",
       "    <tr>\n",
       "      <th>4</th>\n",
       "      <td>140165</td>\n",
       "      <td>1708748</td>\n",
       "      <td>1</td>\n",
       "      <td>0</td>\n",
       "      <td>0.000000</td>\n",
       "      <td>0.000000</td>\n",
       "      <td>0.000000</td>\n",
       "      <td>1</td>\n",
       "      <td>11</td>\n",
       "      <td>3</td>\n",
       "      <td>0</td>\n",
       "      <td>0</td>\n",
       "      <td>1</td>\n",
       "    </tr>\n",
       "  </tbody>\n",
       "</table>\n",
       "</div>"
      ],
      "text/plain": [
       "   source_node  destination_node  ...  inter_followees  num_followers_d\n",
       "0       273084           1505602  ...                0                6\n",
       "1       832016           1543415  ...               32               94\n",
       "2      1325247            760242  ...               17               28\n",
       "3      1368400           1006992  ...                0               11\n",
       "4       140165           1708748  ...                0                1\n",
       "\n",
       "[5 rows x 13 columns]"
      ]
     },
     "execution_count": 169,
     "metadata": {
      "tags": []
     },
     "output_type": "execute_result"
    }
   ],
   "source": [
    "df_final_train.head()"
   ]
  },
  {
   "cell_type": "markdown",
   "metadata": {
    "colab_type": "text",
    "id": "AWFL5Wxwm0vg"
   },
   "source": [
    "## 5.3 Adding new set of features\n",
    "\n",
    "__we will create these each of these features for both train and test data points__\n",
    "<ol>\n",
    "<li>adar index</li>\n",
    "<li>is following back</li>\n",
    "<li>belongs to same weakly connect components</li>\n",
    "<li>shortest path between source and destination</li>\n",
    "</ol>"
   ]
  },
  {
   "cell_type": "code",
   "execution_count": 0,
   "metadata": {
    "colab": {},
    "colab_type": "code",
    "id": "BfMs8G6Tm0vh"
   },
   "outputs": [],
   "source": [
    "if not os.path.isfile('/content/drive/My Drive/Facebook/data/fea_sample/storage_sample_stage2.h5'):\n",
    "    #mapping adar index on train\n",
    "    df_final_train['adar_index'] = df_final_train.apply(lambda row: calc_adar_in(row['source_node'],row['destination_node']),axis=1)\n",
    "    #mapping adar index on test\n",
    "    df_final_test['adar_index'] = df_final_test.apply(lambda row: calc_adar_in(row['source_node'],row['destination_node']),axis=1)\n",
    "\n",
    "    #--------------------------------------------------------------------------------------------------------\n",
    "    #mapping followback or not on train\n",
    "    df_final_train['follows_back'] = df_final_train.apply(lambda row: follows_back(row['source_node'],row['destination_node']),axis=1)\n",
    "\n",
    "    #mapping followback or not on test\n",
    "    df_final_test['follows_back'] = df_final_test.apply(lambda row: follows_back(row['source_node'],row['destination_node']),axis=1)\n",
    "\n",
    "    #--------------------------------------------------------------------------------------------------------\n",
    "    #mapping same component of wcc or not on train\n",
    "    df_final_train['same_comp'] = df_final_train.apply(lambda row: belongs_to_same_wcc(row['source_node'],row['destination_node']),axis=1)\n",
    "\n",
    "    ##mapping same component of wcc or not on train\n",
    "    df_final_test['same_comp'] = df_final_test.apply(lambda row: belongs_to_same_wcc(row['source_node'],row['destination_node']),axis=1)\n",
    "    \n",
    "    #--------------------------------------------------------------------------------------------------------\n",
    "    #mapping shortest path on train \n",
    "    df_final_train['shortest_path'] = df_final_train.apply(lambda row: compute_shortest_path_length(row['source_node'],row['destination_node']),axis=1)\n",
    "    #mapping shortest path on test\n",
    "    df_final_test['shortest_path'] = df_final_test.apply(lambda row: compute_shortest_path_length(row['source_node'],row['destination_node']),axis=1)\n",
    "\n",
    "    hdf = HDFStore('/content/drive/My Drive/Facebook/data/fea_sample/storage_sample_stage2.h5')\n",
    "    hdf.put('train_df',df_final_train, format='table', data_columns=True)\n",
    "    hdf.put('test_df',df_final_test, format='table', data_columns=True)\n",
    "    hdf.close()\n",
    "else:\n",
    "    df_final_train = read_hdf('/content/drive/My Drive/Facebook/data/fea_sample/storage_sample_stage2.h5', 'train_df',mode='r')\n",
    "    df_final_test = read_hdf('/content/drive/My Drive/Facebook/data/fea_sample/storage_sample_stage2.h5', 'test_df',mode='r')"
   ]
  },
  {
   "cell_type": "markdown",
   "metadata": {
    "colab_type": "text",
    "id": "IO0cNKGCm0vj"
   },
   "source": [
    "## 5.4 Adding new set of features\n",
    "\n",
    "__we will create these each of these features for both train and test data points__\n",
    "<ol>\n",
    "<li>Weight Features\n",
    "    <ul>\n",
    "        <li>weight of incoming edges</li>\n",
    "        <li>weight of outgoing edges</li>\n",
    "        <li>weight of incoming edges + weight of outgoing edges</li>\n",
    "        <li>weight of incoming edges * weight of outgoing edges</li>\n",
    "        <li>2*weight of incoming edges + weight of outgoing edges</li>\n",
    "        <li>weight of incoming edges + 2*weight of outgoing edges</li>\n",
    "    </ul>\n",
    "</li>\n",
    "<li>Page Ranking of source</li>\n",
    "<li>Page Ranking of dest</li>\n",
    "<li>katz of source</li>\n",
    "<li>katz of dest</li>\n",
    "<li>hubs of source</li>\n",
    "<li>hubs of dest</li>\n",
    "<li>authorities_s of source</li>\n",
    "<li>authorities_s of dest</li>\n",
    "</ol>"
   ]
  },
  {
   "cell_type": "markdown",
   "metadata": {
    "colab_type": "text",
    "id": "0f2NOq6bm0vk"
   },
   "source": [
    "#### Weight Features"
   ]
  },
  {
   "cell_type": "markdown",
   "metadata": {
    "colab_type": "text",
    "id": "2ZK-397gm0vk"
   },
   "source": [
    "In order to determine the similarity of nodes, an edge weight value was calculated between nodes. Edge weight decreases as the neighbor count goes up. Intuitively, consider one million people following a celebrity on a social network then chances are most of them never met each other or the celebrity. On the other hand, if a user has 30 contacts in his/her social network, the chances are higher that many of them know each other. \n",
    "`credit` - Graph-based Features for Supervised Link Prediction\n",
    "William Cukierski, Benjamin Hamner, Bo Yang"
   ]
  },
  {
   "cell_type": "markdown",
   "metadata": {
    "colab_type": "text",
    "id": "wpuOOMsWm0vl"
   },
   "source": [
    "\\begin{equation}\n",
    "W = \\frac{1}{\\sqrt{1+|X|}}\n",
    "\\end{equation}"
   ]
  },
  {
   "cell_type": "markdown",
   "metadata": {
    "colab_type": "text",
    "id": "SmgJgrAhm0vm"
   },
   "source": [
    "it is directed graph so calculated Weighted in and Weighted out differently"
   ]
  },
  {
   "cell_type": "code",
   "execution_count": 171,
   "metadata": {
    "colab": {
     "base_uri": "https://localhost:8080/",
     "height": 33
    },
    "colab_type": "code",
    "executionInfo": {
     "elapsed": 20112,
     "status": "ok",
     "timestamp": 1580488533336,
     "user": {
      "displayName": "Priyanka Mohan",
      "photoUrl": "https://lh6.googleusercontent.com/-nBBI3T2BOI8/AAAAAAAAAAI/AAAAAAAAAQ4/0OHMByB_5AA/s64/photo.jpg",
      "userId": "09551041470297807769"
     },
     "user_tz": -240
    },
    "id": "cSmBkHafm0vn",
    "outputId": "c40b1d4b-b4c2-443a-f6ae-b903d8aa4abd"
   },
   "outputs": [
    {
     "name": "stderr",
     "output_type": "stream",
     "text": [
      "100%|██████████| 1780722/1780722 [00:18<00:00, 96088.70it/s] \n"
     ]
    }
   ],
   "source": [
    "#weight for source and destination of each link\n",
    "Weight_in = {}\n",
    "Weight_out = {}\n",
    "for i in  tqdm(train_graph.nodes()):\n",
    "    s1=set(train_graph.predecessors(i))\n",
    "    w_in = 1.0/(np.sqrt(1+len(s1)))\n",
    "    Weight_in[i]=w_in\n",
    "    \n",
    "    s2=set(train_graph.successors(i))\n",
    "    w_out = 1.0/(np.sqrt(1+len(s2)))\n",
    "    Weight_out[i]=w_out\n",
    "    \n",
    "#for imputing with mean\n",
    "mean_weight_in = np.mean(list(Weight_in.values()))\n",
    "mean_weight_out = np.mean(list(Weight_out.values()))"
   ]
  },
  {
   "cell_type": "code",
   "execution_count": 0,
   "metadata": {
    "colab": {},
    "colab_type": "code",
    "id": "cL2lHiBZm0vq"
   },
   "outputs": [],
   "source": [
    "if not os.path.isfile('/content/drive/My Drive/Facebook/data/fea_sample/storage_sample_stage3.h5'):\n",
    "    #mapping to pandas train\n",
    "    df_final_train['weight_in'] = df_final_train.destination_node.apply(lambda x: Weight_in.get(x,mean_weight_in))\n",
    "    df_final_train['weight_out'] = df_final_train.source_node.apply(lambda x: Weight_out.get(x,mean_weight_out))\n",
    "\n",
    "    #mapping to pandas test\n",
    "    df_final_test['weight_in'] = df_final_test.destination_node.apply(lambda x: Weight_in.get(x,mean_weight_in))\n",
    "    df_final_test['weight_out'] = df_final_test.source_node.apply(lambda x: Weight_out.get(x,mean_weight_out))\n",
    "\n",
    "\n",
    "    #some features engineerings on the in and out weights\n",
    "    df_final_train['weight_f1'] = df_final_train.weight_in + df_final_train.weight_out\n",
    "    df_final_train['weight_f2'] = df_final_train.weight_in * df_final_train.weight_out\n",
    "    df_final_train['weight_f3'] = (2*df_final_train.weight_in + 1*df_final_train.weight_out)\n",
    "    df_final_train['weight_f4'] = (1*df_final_train.weight_in + 2*df_final_train.weight_out)\n",
    "\n",
    "    #some features engineerings on the in and out weights\n",
    "    df_final_test['weight_f1'] = df_final_test.weight_in + df_final_test.weight_out\n",
    "    df_final_test['weight_f2'] = df_final_test.weight_in * df_final_test.weight_out\n",
    "    df_final_test['weight_f3'] = (2*df_final_test.weight_in + 1*df_final_test.weight_out)\n",
    "    df_final_test['weight_f4'] = (1*df_final_test.weight_in + 2*df_final_test.weight_out)"
   ]
  },
  {
   "cell_type": "code",
   "execution_count": 0,
   "metadata": {
    "colab": {},
    "colab_type": "code",
    "id": "_y9pNemWm0vs"
   },
   "outputs": [],
   "source": [
    "if not os.path.isfile('/content/drive/My Drive/Facebook/data/fea_sample/storage_sample_stage3.h5'):\n",
    "    \n",
    "    #page rank for source and destination in Train and Test\n",
    "    #if anything not there in train graph then adding mean page rank \n",
    "    df_final_train['page_rank_s'] = df_final_train.source_node.apply(lambda x:pr.get(x,mean_pr))\n",
    "    df_final_train['page_rank_d'] = df_final_train.destination_node.apply(lambda x:pr.get(x,mean_pr))\n",
    "\n",
    "    df_final_test['page_rank_s'] = df_final_test.source_node.apply(lambda x:pr.get(x,mean_pr))\n",
    "    df_final_test['page_rank_d'] = df_final_test.destination_node.apply(lambda x:pr.get(x,mean_pr))\n",
    "    #================================================================================\n",
    "\n",
    "    #Katz centrality score for source and destination in Train and test\n",
    "    #if anything not there in train graph then adding mean katz score\n",
    "    df_final_train['katz_s'] = df_final_train.source_node.apply(lambda x: katz.get(x,mean_katz))\n",
    "    df_final_train['katz_d'] = df_final_train.destination_node.apply(lambda x: katz.get(x,mean_katz))\n",
    "\n",
    "    df_final_test['katz_s'] = df_final_test.source_node.apply(lambda x: katz.get(x,mean_katz))\n",
    "    df_final_test['katz_d'] = df_final_test.destination_node.apply(lambda x: katz.get(x,mean_katz))\n",
    "    #================================================================================\n",
    "\n",
    "    #Hits algorithm score for source and destination in Train and test\n",
    "    #if anything not there in train graph then adding 0\n",
    "    df_final_train['hubs_s'] = df_final_train.source_node.apply(lambda x: hits[0].get(x,0))\n",
    "    df_final_train['hubs_d'] = df_final_train.destination_node.apply(lambda x: hits[0].get(x,0))\n",
    "\n",
    "    df_final_test['hubs_s'] = df_final_test.source_node.apply(lambda x: hits[0].get(x,0))\n",
    "    df_final_test['hubs_d'] = df_final_test.destination_node.apply(lambda x: hits[0].get(x,0))\n",
    "    #================================================================================\n",
    "\n",
    "    #Hits algorithm score for source and destination in Train and Test\n",
    "    #if anything not there in train graph then adding 0\n",
    "    df_final_train['authorities_s'] = df_final_train.source_node.apply(lambda x: hits[1].get(x,0))\n",
    "    df_final_train['authorities_d'] = df_final_train.destination_node.apply(lambda x: hits[1].get(x,0))\n",
    "\n",
    "    df_final_test['authorities_s'] = df_final_test.source_node.apply(lambda x: hits[1].get(x,0))\n",
    "    df_final_test['authorities_d'] = df_final_test.destination_node.apply(lambda x: hits[1].get(x,0))\n",
    "    #================================================================================\n",
    "\n",
    "    hdf = HDFStore('/content/drive/My Drive/Facebook/data/fea_sample/storage_sample_stage3.h5')\n",
    "    hdf.put('train_df',df_final_train, format='table', data_columns=True)\n",
    "    hdf.put('test_df',df_final_test, format='table', data_columns=True)\n",
    "    hdf.close()\n",
    "else:\n",
    "    df_final_train = read_hdf('/content/drive/My Drive/Facebook/data/fea_sample/storage_sample_stage3.h5', 'train_df',mode='r')\n",
    "    df_final_test = read_hdf('/content/drive/My Drive/Facebook/data/fea_sample/storage_sample_stage3.h5', 'test_df',mode='r')"
   ]
  },
  {
   "cell_type": "markdown",
   "metadata": {
    "colab_type": "text",
    "id": "Jo2nvNFdm0v0"
   },
   "source": [
    "## 5.5 Adding new set of features\n",
    "\n",
    "__we will create these each of these features for both train and test data points__\n",
    "<ol>\n",
    "<li>SVD features for both source and destination</li>\n",
    "</ol>"
   ]
  },
  {
   "cell_type": "code",
   "execution_count": 0,
   "metadata": {
    "colab": {},
    "colab_type": "code",
    "id": "WHB6mupBm0v2"
   },
   "outputs": [],
   "source": [
    "def svd(x, S):\n",
    "    try:\n",
    "        z = sadj_dict[x]\n",
    "        return S[z]\n",
    "    except:\n",
    "        return [0,0,0,0,0,0]"
   ]
  },
  {
   "cell_type": "code",
   "execution_count": 0,
   "metadata": {
    "colab": {},
    "colab_type": "code",
    "id": "hnwASob7m0v7"
   },
   "outputs": [],
   "source": [
    "#for svd features to get feature vector creating a dict node val and index in svd vector\n",
    "sadj_col = sorted(train_graph.nodes())\n",
    "sadj_dict = { val:idx for idx,val in enumerate(sadj_col)}"
   ]
  },
  {
   "cell_type": "code",
   "execution_count": 0,
   "metadata": {
    "colab": {},
    "colab_type": "code",
    "id": "Fe0Q5hLD5F7n"
   },
   "outputs": [],
   "source": [
    "Adj = nx.adjacency_matrix(train_graph,nodelist=sorted(train_graph.nodes())).asfptype()"
   ]
  },
  {
   "cell_type": "code",
   "execution_count": 188,
   "metadata": {
    "colab": {
     "base_uri": "https://localhost:8080/",
     "height": 82
    },
    "colab_type": "code",
    "executionInfo": {
     "elapsed": 134128,
     "status": "ok",
     "timestamp": 1580493292386,
     "user": {
      "displayName": "Priyanka Mohan",
      "photoUrl": "https://lh6.googleusercontent.com/-nBBI3T2BOI8/AAAAAAAAAAI/AAAAAAAAAQ4/0OHMByB_5AA/s64/photo.jpg",
      "userId": "09551041470297807769"
     },
     "user_tz": -240
    },
    "id": "iUzeM3IKm0v9",
    "outputId": "cca2f23b-46f5-4393-cafd-7da23fd103c4"
   },
   "outputs": [
    {
     "name": "stdout",
     "output_type": "stream",
     "text": [
      "Adjacency matrix Shape (1780722, 1780722)\n",
      "U Shape (1780722, 6)\n",
      "V Shape (6, 1780722)\n",
      "s Shape (6,)\n"
     ]
    }
   ],
   "source": [
    "U, s, V = svds(Adj, k = 6)\n",
    "print('Adjacency matrix Shape',Adj.shape)\n",
    "print('U Shape',U.shape)\n",
    "print('V Shape',V.shape)\n",
    "print('s Shape',s.shape)"
   ]
  },
  {
   "cell_type": "code",
   "execution_count": 0,
   "metadata": {
    "colab": {},
    "colab_type": "code",
    "id": "upLb8Ff5m0v_"
   },
   "outputs": [],
   "source": [
    "if not os.path.isfile('/content/drive/My Drive/Facebook/data/fea_sample/storage_sample_stage4.h5'):\n",
    "    #===================================================================================================\n",
    "    \n",
    "    df_final_train[['svd_u_s_1', 'svd_u_s_2','svd_u_s_3', 'svd_u_s_4', 'svd_u_s_5', 'svd_u_s_6']] = \\\n",
    "    df_final_train.source_node.apply(lambda x: svd(x, U)).apply(pd.Series)\n",
    "    \n",
    "    df_final_train[['svd_u_d_1', 'svd_u_d_2', 'svd_u_d_3', 'svd_u_d_4', 'svd_u_d_5','svd_u_d_6']] = \\\n",
    "    df_final_train.destination_node.apply(lambda x: svd(x, U)).apply(pd.Series)\n",
    "    #===================================================================================================\n",
    "    \n",
    "    df_final_train[['svd_v_s_1','svd_v_s_2', 'svd_v_s_3', 'svd_v_s_4', 'svd_v_s_5', 'svd_v_s_6',]] = \\\n",
    "    df_final_train.source_node.apply(lambda x: svd(x, V.T)).apply(pd.Series)\n",
    "\n",
    "    df_final_train[['svd_v_d_1', 'svd_v_d_2', 'svd_v_d_3', 'svd_v_d_4', 'svd_v_d_5','svd_v_d_6']] = \\\n",
    "    df_final_train.destination_node.apply(lambda x: svd(x, V.T)).apply(pd.Series)\n",
    "    #===================================================================================================\n",
    "    \n",
    "    df_final_test[['svd_u_s_1', 'svd_u_s_2','svd_u_s_3', 'svd_u_s_4', 'svd_u_s_5', 'svd_u_s_6']] = \\\n",
    "    df_final_test.source_node.apply(lambda x: svd(x, U)).apply(pd.Series)\n",
    "    \n",
    "    df_final_test[['svd_u_d_1', 'svd_u_d_2', 'svd_u_d_3', 'svd_u_d_4', 'svd_u_d_5','svd_u_d_6']] = \\\n",
    "    df_final_test.destination_node.apply(lambda x: svd(x, U)).apply(pd.Series)\n",
    "\n",
    "    #===================================================================================================\n",
    "    \n",
    "    df_final_test[['svd_v_s_1','svd_v_s_2', 'svd_v_s_3', 'svd_v_s_4', 'svd_v_s_5', 'svd_v_s_6',]] = \\\n",
    "    df_final_test.source_node.apply(lambda x: svd(x, V.T)).apply(pd.Series)\n",
    "\n",
    "    df_final_test[['svd_v_d_1', 'svd_v_d_2', 'svd_v_d_3', 'svd_v_d_4', 'svd_v_d_5','svd_v_d_6']] = \\\n",
    "    df_final_test.destination_node.apply(lambda x: svd(x, V.T)).apply(pd.Series)\n",
    "    #===================================================================================================\n",
    "\n",
    "    hdf = HDFStore('/content/drive/My Drive/Facebook/data/fea_sample/storage_sample_stage4.h5')\n",
    "    hdf.put('train_df',df_final_train, format='table', data_columns=True)\n",
    "    hdf.put('test_df',df_final_test, format='table', data_columns=True)\n",
    "    hdf.close()"
   ]
  },
  {
   "cell_type": "markdown",
   "metadata": {
    "colab_type": "text",
    "id": "TYWTbJZ5Sf5W"
   },
   "source": [
    "## 5.6 Adding Preferential Attachment"
   ]
  },
  {
   "cell_type": "markdown",
   "metadata": {
    "colab_type": "text",
    "id": "Dbg9qsb3TI6G"
   },
   "source": [
    " One well-known concept in social networks is that users with many friends tend to create more connections in the future. This is due to the fact that in some social networks, like in finance, the rich get richer. We estimate how ”rich” our two vertices are by calculating the multiplication between the number of friends (|Γ(x)|) or followers each vertex has. It may be noted that the similarity index does not require any node neighbor information; therefore, this similarity index has the lowest computational complexity."
   ]
  },
  {
   "cell_type": "code",
   "execution_count": 0,
   "metadata": {
    "colab": {},
    "colab_type": "code",
    "id": "RNTIFzZTBokN"
   },
   "outputs": [],
   "source": [
    "#reading\n",
    "from pandas import read_hdf\n",
    "df_final_train = read_hdf('/content/drive/My Drive/Facebook/data/fea_sample/storage_sample_stage4.h5', 'train_df',mode='r')\n",
    "df_final_test = read_hdf('/content/drive/My Drive/Facebook/data/fea_sample/storage_sample_stage4.h5', 'test_df',mode='r')"
   ]
  },
  {
   "cell_type": "code",
   "execution_count": 201,
   "metadata": {
    "colab": {
     "base_uri": "https://localhost:8080/",
     "height": 292
    },
    "colab_type": "code",
    "executionInfo": {
     "elapsed": 859,
     "status": "ok",
     "timestamp": 1580499100337,
     "user": {
      "displayName": "Priyanka Mohan",
      "photoUrl": "https://lh6.googleusercontent.com/-nBBI3T2BOI8/AAAAAAAAAAI/AAAAAAAAAQ4/0OHMByB_5AA/s64/photo.jpg",
      "userId": "09551041470297807769"
     },
     "user_tz": -240
    },
    "id": "LoxqRXnVS6Jc",
    "outputId": "c2a911a1-6441-45cd-a9d6-b6129cd2b357"
   },
   "outputs": [
    {
     "data": {
      "text/html": [
       "<div>\n",
       "<style scoped>\n",
       "    .dataframe tbody tr th:only-of-type {\n",
       "        vertical-align: middle;\n",
       "    }\n",
       "\n",
       "    .dataframe tbody tr th {\n",
       "        vertical-align: top;\n",
       "    }\n",
       "\n",
       "    .dataframe thead th {\n",
       "        text-align: right;\n",
       "    }\n",
       "</style>\n",
       "<table border=\"1\" class=\"dataframe\">\n",
       "  <thead>\n",
       "    <tr style=\"text-align: right;\">\n",
       "      <th></th>\n",
       "      <th>source_node</th>\n",
       "      <th>destination_node</th>\n",
       "      <th>indicator_link</th>\n",
       "      <th>jaccard_followers</th>\n",
       "      <th>jaccard_followees</th>\n",
       "      <th>cosine_followers</th>\n",
       "      <th>cosine_followees</th>\n",
       "      <th>num_followers_s</th>\n",
       "      <th>num_followees_s</th>\n",
       "      <th>num_followees_d</th>\n",
       "      <th>inter_followers</th>\n",
       "      <th>inter_followees</th>\n",
       "      <th>adar_index</th>\n",
       "      <th>follows_back</th>\n",
       "      <th>same_comp</th>\n",
       "      <th>shortest_path</th>\n",
       "      <th>weight_in</th>\n",
       "      <th>weight_out</th>\n",
       "      <th>weight_f1</th>\n",
       "      <th>weight_f2</th>\n",
       "      <th>weight_f3</th>\n",
       "      <th>weight_f4</th>\n",
       "      <th>page_rank_s</th>\n",
       "      <th>page_rank_d</th>\n",
       "      <th>katz_s</th>\n",
       "      <th>katz_d</th>\n",
       "      <th>hubs_s</th>\n",
       "      <th>hubs_d</th>\n",
       "      <th>authorities_s</th>\n",
       "      <th>authorities_d</th>\n",
       "      <th>svd_u_s_1</th>\n",
       "      <th>svd_u_s_2</th>\n",
       "      <th>svd_u_s_3</th>\n",
       "      <th>svd_u_s_4</th>\n",
       "      <th>svd_u_s_5</th>\n",
       "      <th>svd_u_s_6</th>\n",
       "      <th>svd_u_d_1</th>\n",
       "      <th>svd_u_d_2</th>\n",
       "      <th>svd_u_d_3</th>\n",
       "      <th>svd_u_d_4</th>\n",
       "      <th>svd_u_d_5</th>\n",
       "      <th>svd_u_d_6</th>\n",
       "      <th>svd_v_s_1</th>\n",
       "      <th>svd_v_s_2</th>\n",
       "      <th>svd_v_s_3</th>\n",
       "      <th>svd_v_s_4</th>\n",
       "      <th>svd_v_s_5</th>\n",
       "      <th>svd_v_s_6</th>\n",
       "      <th>svd_v_d_1</th>\n",
       "      <th>svd_v_d_2</th>\n",
       "      <th>svd_v_d_3</th>\n",
       "      <th>svd_v_d_4</th>\n",
       "      <th>svd_v_d_5</th>\n",
       "      <th>svd_v_d_6</th>\n",
       "    </tr>\n",
       "  </thead>\n",
       "  <tbody>\n",
       "    <tr>\n",
       "      <th>0</th>\n",
       "      <td>273084</td>\n",
       "      <td>1505602</td>\n",
       "      <td>1</td>\n",
       "      <td>0</td>\n",
       "      <td>0.000000</td>\n",
       "      <td>0.000000</td>\n",
       "      <td>0.000000</td>\n",
       "      <td>6</td>\n",
       "      <td>15</td>\n",
       "      <td>8</td>\n",
       "      <td>0</td>\n",
       "      <td>0</td>\n",
       "      <td>0.000000</td>\n",
       "      <td>0</td>\n",
       "      <td>1</td>\n",
       "      <td>4</td>\n",
       "      <td>0.377964</td>\n",
       "      <td>0.250000</td>\n",
       "      <td>0.627964</td>\n",
       "      <td>0.094491</td>\n",
       "      <td>1.005929</td>\n",
       "      <td>0.877964</td>\n",
       "      <td>2.045290e-06</td>\n",
       "      <td>3.459963e-07</td>\n",
       "      <td>0.000773</td>\n",
       "      <td>0.000756</td>\n",
       "      <td>1.943132e-13</td>\n",
       "      <td>1.941103e-13</td>\n",
       "      <td>9.226339e-16</td>\n",
       "      <td>2.231877e-15</td>\n",
       "      <td>-1.666226e-13</td>\n",
       "      <td>4.613397e-13</td>\n",
       "      <td>1.043044e-05</td>\n",
       "      <td>6.676960e-13</td>\n",
       "      <td>2.451081e-13</td>\n",
       "      <td>3.584580e-12</td>\n",
       "      <td>-2.038017e-11</td>\n",
       "      <td>5.397495e-13</td>\n",
       "      <td>1.068946e-06</td>\n",
       "      <td>1.192357e-12</td>\n",
       "      <td>2.279485e-12</td>\n",
       "      <td>3.580837e-12</td>\n",
       "      <td>-7.216133e-13</td>\n",
       "      <td>3.925975e-13</td>\n",
       "      <td>1.983691e-06</td>\n",
       "      <td>1.545075e-13</td>\n",
       "      <td>8.108434e-13</td>\n",
       "      <td>1.719702e-14</td>\n",
       "      <td>-1.355368e-12</td>\n",
       "      <td>4.675307e-13</td>\n",
       "      <td>1.128591e-06</td>\n",
       "      <td>6.616550e-14</td>\n",
       "      <td>9.771077e-13</td>\n",
       "      <td>4.159752e-14</td>\n",
       "    </tr>\n",
       "    <tr>\n",
       "      <th>1</th>\n",
       "      <td>832016</td>\n",
       "      <td>1543415</td>\n",
       "      <td>1</td>\n",
       "      <td>0</td>\n",
       "      <td>0.187135</td>\n",
       "      <td>0.028382</td>\n",
       "      <td>0.343828</td>\n",
       "      <td>94</td>\n",
       "      <td>61</td>\n",
       "      <td>142</td>\n",
       "      <td>11</td>\n",
       "      <td>32</td>\n",
       "      <td>16.362912</td>\n",
       "      <td>0</td>\n",
       "      <td>1</td>\n",
       "      <td>2</td>\n",
       "      <td>0.102598</td>\n",
       "      <td>0.127000</td>\n",
       "      <td>0.229598</td>\n",
       "      <td>0.013030</td>\n",
       "      <td>0.332196</td>\n",
       "      <td>0.356598</td>\n",
       "      <td>2.353458e-07</td>\n",
       "      <td>6.427660e-07</td>\n",
       "      <td>0.000845</td>\n",
       "      <td>0.001317</td>\n",
       "      <td>3.906648e-11</td>\n",
       "      <td>9.424102e-11</td>\n",
       "      <td>1.208074e-11</td>\n",
       "      <td>1.273080e-10</td>\n",
       "      <td>7.051088e-13</td>\n",
       "      <td>-8.250564e-11</td>\n",
       "      <td>-1.717702e-10</td>\n",
       "      <td>3.705016e-02</td>\n",
       "      <td>1.032392e-11</td>\n",
       "      <td>7.207497e-10</td>\n",
       "      <td>1.644399e-12</td>\n",
       "      <td>-2.047752e-10</td>\n",
       "      <td>-3.943936e-10</td>\n",
       "      <td>8.617541e-02</td>\n",
       "      <td>2.399540e-11</td>\n",
       "      <td>1.738682e-09</td>\n",
       "      <td>2.685878e-13</td>\n",
       "      <td>-3.316849e-11</td>\n",
       "      <td>-6.236048e-11</td>\n",
       "      <td>1.345726e-02</td>\n",
       "      <td>3.703479e-12</td>\n",
       "      <td>2.251737e-10</td>\n",
       "      <td>1.245101e-12</td>\n",
       "      <td>-1.636948e-10</td>\n",
       "      <td>-3.112650e-10</td>\n",
       "      <td>6.738902e-02</td>\n",
       "      <td>2.607801e-11</td>\n",
       "      <td>2.372904e-09</td>\n",
       "    </tr>\n",
       "    <tr>\n",
       "      <th>2</th>\n",
       "      <td>1325247</td>\n",
       "      <td>760242</td>\n",
       "      <td>1</td>\n",
       "      <td>0</td>\n",
       "      <td>0.369565</td>\n",
       "      <td>0.156957</td>\n",
       "      <td>0.566038</td>\n",
       "      <td>28</td>\n",
       "      <td>41</td>\n",
       "      <td>22</td>\n",
       "      <td>26</td>\n",
       "      <td>17</td>\n",
       "      <td>10.991826</td>\n",
       "      <td>0</td>\n",
       "      <td>1</td>\n",
       "      <td>2</td>\n",
       "      <td>0.185695</td>\n",
       "      <td>0.154303</td>\n",
       "      <td>0.339999</td>\n",
       "      <td>0.028653</td>\n",
       "      <td>0.525694</td>\n",
       "      <td>0.494302</td>\n",
       "      <td>6.211019e-07</td>\n",
       "      <td>5.179801e-07</td>\n",
       "      <td>0.000885</td>\n",
       "      <td>0.000855</td>\n",
       "      <td>7.730764e-114</td>\n",
       "      <td>4.067322e-114</td>\n",
       "      <td>2.681298e-113</td>\n",
       "      <td>2.199205e-113</td>\n",
       "      <td>-4.900734e-18</td>\n",
       "      <td>1.096831e-18</td>\n",
       "      <td>-6.816555e-19</td>\n",
       "      <td>-2.226453e-18</td>\n",
       "      <td>6.710556e-19</td>\n",
       "      <td>-8.161336e-19</td>\n",
       "      <td>-2.606312e-18</td>\n",
       "      <td>6.392474e-19</td>\n",
       "      <td>-4.245830e-19</td>\n",
       "      <td>-1.315747e-18</td>\n",
       "      <td>3.849627e-19</td>\n",
       "      <td>-1.131971e-18</td>\n",
       "      <td>-1.510265e-18</td>\n",
       "      <td>1.454979e-19</td>\n",
       "      <td>-2.380564e-19</td>\n",
       "      <td>-7.021227e-19</td>\n",
       "      <td>1.940403e-19</td>\n",
       "      <td>-3.365389e-19</td>\n",
       "      <td>-1.238370e-18</td>\n",
       "      <td>1.438175e-19</td>\n",
       "      <td>-1.852863e-19</td>\n",
       "      <td>-5.901864e-19</td>\n",
       "      <td>1.629341e-19</td>\n",
       "      <td>-2.572452e-19</td>\n",
       "    </tr>\n",
       "    <tr>\n",
       "      <th>3</th>\n",
       "      <td>1368400</td>\n",
       "      <td>1006992</td>\n",
       "      <td>1</td>\n",
       "      <td>0</td>\n",
       "      <td>0.000000</td>\n",
       "      <td>0.000000</td>\n",
       "      <td>0.000000</td>\n",
       "      <td>11</td>\n",
       "      <td>5</td>\n",
       "      <td>7</td>\n",
       "      <td>0</td>\n",
       "      <td>0</td>\n",
       "      <td>0.000000</td>\n",
       "      <td>0</td>\n",
       "      <td>1</td>\n",
       "      <td>6</td>\n",
       "      <td>0.288675</td>\n",
       "      <td>0.408248</td>\n",
       "      <td>0.696923</td>\n",
       "      <td>0.117851</td>\n",
       "      <td>0.985599</td>\n",
       "      <td>1.105172</td>\n",
       "      <td>2.998153e-07</td>\n",
       "      <td>1.704245e-06</td>\n",
       "      <td>0.000739</td>\n",
       "      <td>0.000773</td>\n",
       "      <td>5.443738e-17</td>\n",
       "      <td>4.139999e-16</td>\n",
       "      <td>2.413250e-14</td>\n",
       "      <td>6.688064e-15</td>\n",
       "      <td>-9.965436e-12</td>\n",
       "      <td>4.077137e-13</td>\n",
       "      <td>5.083778e-10</td>\n",
       "      <td>1.985267e-14</td>\n",
       "      <td>2.471968e-12</td>\n",
       "      <td>1.004354e-15</td>\n",
       "      <td>-2.629029e-13</td>\n",
       "      <td>1.428940e-11</td>\n",
       "      <td>9.146784e-11</td>\n",
       "      <td>8.590132e-12</td>\n",
       "      <td>2.406658e-10</td>\n",
       "      <td>7.638106e-15</td>\n",
       "      <td>-2.170899e-13</td>\n",
       "      <td>5.206150e-13</td>\n",
       "      <td>6.058498e-11</td>\n",
       "      <td>1.514614e-11</td>\n",
       "      <td>1.513483e-12</td>\n",
       "      <td>4.498061e-13</td>\n",
       "      <td>-9.818087e-10</td>\n",
       "      <td>3.454672e-11</td>\n",
       "      <td>5.213635e-08</td>\n",
       "      <td>9.595823e-13</td>\n",
       "      <td>3.047045e-10</td>\n",
       "      <td>1.246592e-13</td>\n",
       "    </tr>\n",
       "    <tr>\n",
       "      <th>4</th>\n",
       "      <td>140165</td>\n",
       "      <td>1708748</td>\n",
       "      <td>1</td>\n",
       "      <td>0</td>\n",
       "      <td>0.000000</td>\n",
       "      <td>0.000000</td>\n",
       "      <td>0.000000</td>\n",
       "      <td>1</td>\n",
       "      <td>11</td>\n",
       "      <td>3</td>\n",
       "      <td>0</td>\n",
       "      <td>0</td>\n",
       "      <td>0.000000</td>\n",
       "      <td>0</td>\n",
       "      <td>0</td>\n",
       "      <td>-1</td>\n",
       "      <td>1.000000</td>\n",
       "      <td>0.301511</td>\n",
       "      <td>1.301511</td>\n",
       "      <td>0.301511</td>\n",
       "      <td>2.301511</td>\n",
       "      <td>1.603023</td>\n",
       "      <td>4.349180e-07</td>\n",
       "      <td>2.089590e-07</td>\n",
       "      <td>0.000751</td>\n",
       "      <td>0.000735</td>\n",
       "      <td>3.887821e-16</td>\n",
       "      <td>4.721269e-16</td>\n",
       "      <td>7.552255e-16</td>\n",
       "      <td>2.734009e-18</td>\n",
       "      <td>-3.408943e-13</td>\n",
       "      <td>1.125207e-13</td>\n",
       "      <td>3.190883e-07</td>\n",
       "      <td>8.550846e-14</td>\n",
       "      <td>1.405351e-13</td>\n",
       "      <td>7.172313e-15</td>\n",
       "      <td>-2.550169e-13</td>\n",
       "      <td>2.424636e-13</td>\n",
       "      <td>2.436301e-07</td>\n",
       "      <td>3.679960e-14</td>\n",
       "      <td>1.348520e-13</td>\n",
       "      <td>8.710393e-15</td>\n",
       "      <td>-4.795514e-13</td>\n",
       "      <td>1.521297e-13</td>\n",
       "      <td>1.197283e-07</td>\n",
       "      <td>1.999809e-14</td>\n",
       "      <td>3.360247e-13</td>\n",
       "      <td>1.407670e-14</td>\n",
       "      <td>0.000000e+00</td>\n",
       "      <td>0.000000e+00</td>\n",
       "      <td>0.000000e+00</td>\n",
       "      <td>0.000000e+00</td>\n",
       "      <td>0.000000e+00</td>\n",
       "      <td>0.000000e+00</td>\n",
       "    </tr>\n",
       "  </tbody>\n",
       "</table>\n",
       "</div>"
      ],
      "text/plain": [
       "   source_node  destination_node  ...     svd_v_d_5     svd_v_d_6\n",
       "0       273084           1505602  ...  9.771077e-13  4.159752e-14\n",
       "1       832016           1543415  ...  2.607801e-11  2.372904e-09\n",
       "2      1325247            760242  ...  1.629341e-19 -2.572452e-19\n",
       "3      1368400           1006992  ...  3.047045e-10  1.246592e-13\n",
       "4       140165           1708748  ...  0.000000e+00  0.000000e+00\n",
       "\n",
       "[5 rows x 54 columns]"
      ]
     },
     "execution_count": 201,
     "metadata": {
      "tags": []
     },
     "output_type": "execute_result"
    }
   ],
   "source": [
    "df_final_train.head()"
   ]
  },
  {
   "cell_type": "code",
   "execution_count": 207,
   "metadata": {
    "colab": {
     "base_uri": "https://localhost:8080/",
     "height": 33
    },
    "colab_type": "code",
    "executionInfo": {
     "elapsed": 890,
     "status": "ok",
     "timestamp": 1580499528338,
     "user": {
      "displayName": "Priyanka Mohan",
      "photoUrl": "https://lh6.googleusercontent.com/-nBBI3T2BOI8/AAAAAAAAAAI/AAAAAAAAAQ4/0OHMByB_5AA/s64/photo.jpg",
      "userId": "09551041470297807769"
     },
     "user_tz": -240
    },
    "id": "BFIN5wX2S6Gd",
    "outputId": "6fb5584e-1384-42a1-9a02-6036910a018b"
   },
   "outputs": [
    {
     "data": {
      "text/plain": [
       "(100002, 55)"
      ]
     },
     "execution_count": 207,
     "metadata": {
      "tags": []
     },
     "output_type": "execute_result"
    }
   ],
   "source": [
    "df_final_train.shape "
   ]
  },
  {
   "cell_type": "code",
   "execution_count": 0,
   "metadata": {
    "colab": {},
    "colab_type": "code",
    "id": "GUJ6RnxeUKwl"
   },
   "outputs": [],
   "source": [
    "#for followers\n",
    "def calc_pref_att_for_followers(a,b):\n",
    "  try:\n",
    "      return len(set(train_graph.predecessors(a))) * len(set(g.predecessors(b)))\n",
    "  except:\n",
    "      return 0"
   ]
  },
  {
   "cell_type": "code",
   "execution_count": 209,
   "metadata": {
    "colab": {
     "base_uri": "https://localhost:8080/",
     "height": 33
    },
    "colab_type": "code",
    "executionInfo": {
     "elapsed": 715,
     "status": "ok",
     "timestamp": 1580499544986,
     "user": {
      "displayName": "Priyanka Mohan",
      "photoUrl": "https://lh6.googleusercontent.com/-nBBI3T2BOI8/AAAAAAAAAAI/AAAAAAAAAQ4/0OHMByB_5AA/s64/photo.jpg",
      "userId": "09551041470297807769"
     },
     "user_tz": -240
    },
    "id": "dy2TlY3YVzaO",
    "outputId": "1f2c2dec-bfb3-4a93-87bc-2a5ab4786099"
   },
   "outputs": [
    {
     "data": {
      "text/plain": [
       "77"
      ]
     },
     "execution_count": 209,
     "metadata": {
      "tags": []
     },
     "output_type": "execute_result"
    }
   ],
   "source": [
    "calc_pref_att_for_followers(273084,1505602)"
   ]
  },
  {
   "cell_type": "code",
   "execution_count": 0,
   "metadata": {
    "colab": {},
    "colab_type": "code",
    "id": "VUrfZuIVgLzj"
   },
   "outputs": [],
   "source": [
    "#mapping preferential attachment on train\n",
    "df_final_train['pref_att'] = df_final_train.apply(lambda row: calc_pref_att_for_followers(row['source_node'],row['destination_node']),axis=1)\n",
    "\n",
    "#mapping preferential attachment on test\n",
    "df_final_test['pref_att'] = df_final_test.apply(lambda row: calc_pref_att_for_followers(row['source_node'],row['destination_node']),axis=1)"
   ]
  },
  {
   "cell_type": "markdown",
   "metadata": {
    "colab_type": "text",
    "id": "ObFk_3JShgcu"
   },
   "source": [
    "## 5.7 Adding svd_dot"
   ]
  },
  {
   "cell_type": "code",
   "execution_count": 0,
   "metadata": {
    "colab": {},
    "colab_type": "code",
    "id": "jZ1sI7QkzlsR"
   },
   "outputs": [],
   "source": [
    "svd_u_s_tr = df_final_train[['svd_u_s_1','svd_u_s_2','svd_u_s_3','svd_u_s_4','svd_u_s_5']].values\n",
    "svd_u_d_tr = df_final_train[['svd_u_d_1','svd_u_d_2','svd_u_d_3','svd_u_d_4','svd_u_d_5']].values\n",
    "svd_u_dot_train = []\n",
    "\n",
    "for i in range(df_final_train.shape[0]):\n",
    "    res = np.dot(svd_u_s_tr[i],svd_u_d_tr[i])\n",
    "    svd_u_dot_train.append(res)\n",
    "\n",
    "svd_u_s_test = df_final_test[['svd_u_s_1','svd_u_s_2','svd_u_s_3','svd_u_s_4','svd_u_s_5']].values\n",
    "svd_u_d_test = df_final_test[['svd_u_d_1','svd_u_d_2','svd_u_d_3','svd_u_d_4','svd_u_d_5']].values\n",
    "svd_u_dot_test = []\n",
    "\n",
    "for i in range(df_final_test.shape[0]):\n",
    "    res = np.dot(svd_u_s_test[i],svd_u_d_test[i])\n",
    "    svd_u_dot_test.append(res)"
   ]
  },
  {
   "cell_type": "code",
   "execution_count": 214,
   "metadata": {
    "colab": {
     "base_uri": "https://localhost:8080/",
     "height": 50
    },
    "colab_type": "code",
    "executionInfo": {
     "elapsed": 822,
     "status": "ok",
     "timestamp": 1580499653435,
     "user": {
      "displayName": "Priyanka Mohan",
      "photoUrl": "https://lh6.googleusercontent.com/-nBBI3T2BOI8/AAAAAAAAAAI/AAAAAAAAAQ4/0OHMByB_5AA/s64/photo.jpg",
      "userId": "09551041470297807769"
     },
     "user_tz": -240
    },
    "id": "BzSAYv-Q0vc0",
    "outputId": "c27dbe80-20d6-439e-e4a0-dfa630807477"
   },
   "outputs": [
    {
     "name": "stdout",
     "output_type": "stream",
     "text": [
      "100002\n",
      "50002\n"
     ]
    }
   ],
   "source": [
    "print(len(svd_u_dot_train))\n",
    "print(len(svd_u_dot_test))"
   ]
  },
  {
   "cell_type": "code",
   "execution_count": 0,
   "metadata": {
    "colab": {},
    "colab_type": "code",
    "id": "SgF9gc43zuB5"
   },
   "outputs": [],
   "source": [
    "svd_v_s_tr = df_final_train[['svd_v_s_1','svd_v_s_2','svd_v_s_3','svd_v_s_4','svd_v_s_5']].values\n",
    "svd_v_d_tr = df_final_train[['svd_v_d_1','svd_v_d_2','svd_v_d_3','svd_v_d_4','svd_v_d_5']].values\n",
    "\n",
    "svd_v_dot_train = []\n",
    "for i in range(df_final_train.shape[0]):\n",
    "    res = np.dot(svd_v_s_tr[i],svd_v_d_tr[i])\n",
    "    svd_v_dot_train.append(res)\n",
    "\n",
    "svd_v_s_test = df_final_test[['svd_v_s_1','svd_v_s_2','svd_v_s_3','svd_v_s_4','svd_v_s_5']].values\n",
    "svd_v_d_test = df_final_test[['svd_v_d_1','svd_v_d_2','svd_v_d_3','svd_v_d_4','svd_v_d_5']].values\n",
    "svd_v_dot_test = []\n",
    "\n",
    "for i in range(df_final_test.shape[0]):\n",
    "    res = np.dot(svd_v_s_test[i],svd_v_d_test[i])\n",
    "    svd_v_dot_test.append(res)"
   ]
  },
  {
   "cell_type": "code",
   "execution_count": 216,
   "metadata": {
    "colab": {
     "base_uri": "https://localhost:8080/",
     "height": 50
    },
    "colab_type": "code",
    "executionInfo": {
     "elapsed": 1030,
     "status": "ok",
     "timestamp": 1580499848914,
     "user": {
      "displayName": "Priyanka Mohan",
      "photoUrl": "https://lh6.googleusercontent.com/-nBBI3T2BOI8/AAAAAAAAAAI/AAAAAAAAAQ4/0OHMByB_5AA/s64/photo.jpg",
      "userId": "09551041470297807769"
     },
     "user_tz": -240
    },
    "id": "giJ-geKdHw9h",
    "outputId": "a1b44a13-2e5e-4e22-f438-fc88610295b6"
   },
   "outputs": [
    {
     "name": "stdout",
     "output_type": "stream",
     "text": [
      "100002\n",
      "50002\n"
     ]
    }
   ],
   "source": [
    "print(len(svd_v_dot_train))\n",
    "print(len(svd_v_dot_test))"
   ]
  },
  {
   "cell_type": "code",
   "execution_count": 0,
   "metadata": {
    "colab": {},
    "colab_type": "code",
    "id": "f0d9JUxqzt9I"
   },
   "outputs": [],
   "source": [
    "df_final_train['svd_dot_u'] = svd_u_dot_train\n",
    "df_final_train['svd_dot_v'] = svd_v_dot_train\n",
    "\n",
    "df_final_test['svd_dot_u'] = svd_u_dot_test \n",
    "df_final_test['svd_dot_v'] = svd_v_dot_test"
   ]
  },
  {
   "cell_type": "code",
   "execution_count": 219,
   "metadata": {
    "colab": {
     "base_uri": "https://localhost:8080/",
     "height": 33
    },
    "colab_type": "code",
    "executionInfo": {
     "elapsed": 789,
     "status": "ok",
     "timestamp": 1580500086485,
     "user": {
      "displayName": "Priyanka Mohan",
      "photoUrl": "https://lh6.googleusercontent.com/-nBBI3T2BOI8/AAAAAAAAAAI/AAAAAAAAAQ4/0OHMByB_5AA/s64/photo.jpg",
      "userId": "09551041470297807769"
     },
     "user_tz": -240
    },
    "id": "GAeOAqX4idCG",
    "outputId": "9383b0f1-2238-46d4-9428-2e136e0806fd"
   },
   "outputs": [
    {
     "data": {
      "text/plain": [
       "(100002, 58)"
      ]
     },
     "execution_count": 219,
     "metadata": {
      "tags": []
     },
     "output_type": "execute_result"
    }
   ],
   "source": [
    "df_final_train.shape"
   ]
  },
  {
   "cell_type": "code",
   "execution_count": 220,
   "metadata": {
    "colab": {
     "base_uri": "https://localhost:8080/",
     "height": 33
    },
    "colab_type": "code",
    "executionInfo": {
     "elapsed": 1039,
     "status": "ok",
     "timestamp": 1580500087922,
     "user": {
      "displayName": "Priyanka Mohan",
      "photoUrl": "https://lh6.googleusercontent.com/-nBBI3T2BOI8/AAAAAAAAAAI/AAAAAAAAAQ4/0OHMByB_5AA/s64/photo.jpg",
      "userId": "09551041470297807769"
     },
     "user_tz": -240
    },
    "id": "HFi8v8mric-X",
    "outputId": "019954b8-c34d-484b-93e8-4d1412b9e01e"
   },
   "outputs": [
    {
     "data": {
      "text/plain": [
       "(50002, 58)"
      ]
     },
     "execution_count": 220,
     "metadata": {
      "tags": []
     },
     "output_type": "execute_result"
    }
   ],
   "source": [
    "df_final_test.shape"
   ]
  },
  {
   "cell_type": "markdown",
   "metadata": {
    "colab_type": "text",
    "id": "1MiN0Og9m0wF"
   },
   "source": [
    "<p style=\"font-size:32px;text-align:center\"> <b>Social network Graph Link Prediction - Facebook Challenge</b> </p>"
   ]
  },
  {
   "cell_type": "code",
   "execution_count": 0,
   "metadata": {
    "colab": {},
    "colab_type": "code",
    "id": "P4eDu6L8m0wG"
   },
   "outputs": [],
   "source": [
    "#Importing Libraries\n",
    "# please do go through this python notebook: \n",
    "import warnings\n",
    "warnings.filterwarnings(\"ignore\")\n",
    "\n",
    "import csv\n",
    "import pandas as pd#pandas to create small dataframes \n",
    "import datetime #Convert to unix time\n",
    "import time #Convert to unix time\n",
    "# if numpy is not installed already : pip3 install numpy\n",
    "import numpy as np#Do aritmetic operations on arrays\n",
    "# matplotlib: used to plot graphs\n",
    "import matplotlib\n",
    "import matplotlib.pylab as plt\n",
    "import seaborn as sns#Plots\n",
    "from matplotlib import rcParams#Size of plots  \n",
    "from sklearn.cluster import MiniBatchKMeans, KMeans#Clustering\n",
    "import math\n",
    "import pickle\n",
    "import os\n",
    "# to install xgboost: pip3 install xgboost\n",
    "import xgboost as xgb\n",
    "\n",
    "import warnings\n",
    "import networkx as nx\n",
    "import pdb\n",
    "import pickle\n",
    "from pandas import HDFStore,DataFrame\n",
    "from pandas import read_hdf\n",
    "from scipy.sparse.linalg import svds, eigs\n",
    "import gc\n",
    "from tqdm import tqdm\n",
    "from sklearn.ensemble import RandomForestClassifier\n",
    "from sklearn.metrics import f1_score"
   ]
  },
  {
   "cell_type": "code",
   "execution_count": 222,
   "metadata": {
    "colab": {
     "base_uri": "https://localhost:8080/",
     "height": 245
    },
    "colab_type": "code",
    "executionInfo": {
     "elapsed": 2877,
     "status": "ok",
     "timestamp": 1580500836256,
     "user": {
      "displayName": "Priyanka Mohan",
      "photoUrl": "https://lh6.googleusercontent.com/-nBBI3T2BOI8/AAAAAAAAAAI/AAAAAAAAAQ4/0OHMByB_5AA/s64/photo.jpg",
      "userId": "09551041470297807769"
     },
     "user_tz": -240
    },
    "id": "_eoIp-H8m0wJ",
    "outputId": "495d51b4-5123-4866-d492-5686ca9f817e"
   },
   "outputs": [
    {
     "data": {
      "text/plain": [
       "Index(['source_node', 'destination_node', 'indicator_link',\n",
       "       'jaccard_followers', 'jaccard_followees', 'cosine_followers',\n",
       "       'cosine_followees', 'num_followers_s', 'num_followees_s',\n",
       "       'num_followees_d', 'inter_followers', 'inter_followees', 'adar_index',\n",
       "       'follows_back', 'same_comp', 'shortest_path', 'weight_in', 'weight_out',\n",
       "       'weight_f1', 'weight_f2', 'weight_f3', 'weight_f4', 'page_rank_s',\n",
       "       'page_rank_d', 'katz_s', 'katz_d', 'hubs_s', 'hubs_d', 'authorities_s',\n",
       "       'authorities_d', 'svd_u_s_1', 'svd_u_s_2', 'svd_u_s_3', 'svd_u_s_4',\n",
       "       'svd_u_s_5', 'svd_u_s_6', 'svd_u_d_1', 'svd_u_d_2', 'svd_u_d_3',\n",
       "       'svd_u_d_4', 'svd_u_d_5', 'svd_u_d_6', 'svd_v_s_1', 'svd_v_s_2',\n",
       "       'svd_v_s_3', 'svd_v_s_4', 'svd_v_s_5', 'svd_v_s_6', 'svd_v_d_1',\n",
       "       'svd_v_d_2', 'svd_v_d_3', 'svd_v_d_4', 'svd_v_d_5', 'svd_v_d_6',\n",
       "       'num_followers_d', 'pref_att', 'svd_dot_u', 'svd_dot_v'],\n",
       "      dtype='object')"
      ]
     },
     "execution_count": 222,
     "metadata": {
      "tags": []
     },
     "output_type": "execute_result"
    }
   ],
   "source": [
    "df_final_train.columns"
   ]
  },
  {
   "cell_type": "code",
   "execution_count": 0,
   "metadata": {
    "colab": {},
    "colab_type": "code",
    "id": "_bxkWM8vm0wL"
   },
   "outputs": [],
   "source": [
    "y_train = df_final_train.indicator_link\n",
    "y_test = df_final_test.indicator_link"
   ]
  },
  {
   "cell_type": "code",
   "execution_count": 0,
   "metadata": {
    "colab": {},
    "colab_type": "code",
    "id": "8BftONijm0wN"
   },
   "outputs": [],
   "source": [
    "df_final_train.drop(['source_node', 'destination_node','indicator_link'],axis=1,inplace=True)\n",
    "df_final_test.drop(['source_node', 'destination_node','indicator_link'],axis=1,inplace=True)"
   ]
  },
  {
   "cell_type": "markdown",
   "metadata": {
    "colab_type": "text",
    "id": "y9b0rQefQazh"
   },
   "source": [
    "**Applying Random Forest**"
   ]
  },
  {
   "cell_type": "code",
   "execution_count": 225,
   "metadata": {
    "colab": {
     "base_uri": "https://localhost:8080/",
     "height": 392
    },
    "colab_type": "code",
    "executionInfo": {
     "elapsed": 56368,
     "status": "ok",
     "timestamp": 1580501412305,
     "user": {
      "displayName": "Priyanka Mohan",
      "photoUrl": "https://lh6.googleusercontent.com/-nBBI3T2BOI8/AAAAAAAAAAI/AAAAAAAAAQ4/0OHMByB_5AA/s64/photo.jpg",
      "userId": "09551041470297807769"
     },
     "user_tz": -240
    },
    "id": "82MOV-5Mm0wR",
    "outputId": "b1aac55a-8c67-441e-c896-299b4b49a31b"
   },
   "outputs": [
    {
     "name": "stdout",
     "output_type": "stream",
     "text": [
      "Estimators =  10 Train Score 0.9209598330725091 test Score 0.908918526009734\n",
      "Estimators =  50 Train Score 0.9205723357232535 test Score 0.9110915861261035\n",
      "Estimators =  100 Train Score 0.921406896839383 test Score 0.9162670910194938\n",
      "Estimators =  250 Train Score 0.9213112357321136 test Score 0.913760850831284\n",
      "Estimators =  450 Train Score 0.921753670899305 test Score 0.9143301853059336\n"
     ]
    },
    {
     "data": {
      "text/plain": [
       "Text(0.5, 1.0, 'Estimators vs score at depth of 5')"
      ]
     },
     "execution_count": 225,
     "metadata": {
      "tags": []
     },
     "output_type": "execute_result"
    },
    {
     "data": {
      "image/png": "[encoded data removed]",
      "text/plain": [
       "<Figure size 432x288 with 1 Axes>"
      ]
     },
     "metadata": {
      "tags": []
     },
     "output_type": "display_data"
    }
   ],
   "source": [
    "estimators = [10,50,100,250,450]\n",
    "train_scores = []\n",
    "test_scores = []\n",
    "for i in estimators:\n",
    "    clf = RandomForestClassifier(bootstrap=True, class_weight=None, criterion='gini',\n",
    "            max_depth=5, max_features='auto', max_leaf_nodes=None,\n",
    "            min_impurity_decrease=0.0, min_impurity_split=None,\n",
    "            min_samples_leaf=52, min_samples_split=120,\n",
    "            min_weight_fraction_leaf=0.0, n_estimators=i, n_jobs=-1,random_state=25,verbose=0,warm_start=False)\n",
    "    clf.fit(df_final_train,y_train)\n",
    "    train_sc = f1_score(y_train,clf.predict(df_final_train))\n",
    "    test_sc = f1_score(y_test,clf.predict(df_final_test))\n",
    "    test_scores.append(test_sc)\n",
    "    train_scores.append(train_sc)\n",
    "    print('Estimators = ',i,'Train Score',train_sc,'test Score',test_sc)\n",
    "plt.plot(estimators,train_scores,label='Train Score')\n",
    "plt.plot(estimators,test_scores,label='Test Score')\n",
    "plt.xlabel('Estimators')\n",
    "plt.ylabel('Score')\n",
    "plt.title('Estimators vs score at depth of 5')"
   ]
  },
  {
   "cell_type": "code",
   "execution_count": 226,
   "metadata": {
    "colab": {
     "base_uri": "https://localhost:8080/",
     "height": 441
    },
    "colab_type": "code",
    "executionInfo": {
     "elapsed": 96648,
     "status": "ok",
     "timestamp": 1580501594939,
     "user": {
      "displayName": "Priyanka Mohan",
      "photoUrl": "https://lh6.googleusercontent.com/-nBBI3T2BOI8/AAAAAAAAAAI/AAAAAAAAAQ4/0OHMByB_5AA/s64/photo.jpg",
      "userId": "09551041470297807769"
     },
     "user_tz": -240
    },
    "id": "3YpQcqs1m0wT",
    "outputId": "5d4d9a6e-cf28-469a-ecfe-ce8a00a6bdf7"
   },
   "outputs": [
    {
     "name": "stdout",
     "output_type": "stream",
     "text": [
      "depth =  3 Train Score 0.9116135026323939 test Score 0.8962574004727935\n",
      "depth =  9 Train Score 0.9578339629557974 test Score 0.921039311624768\n",
      "depth =  11 Train Score 0.9615920438483208 test Score 0.9255630701809832\n",
      "depth =  15 Train Score 0.9632359660077366 test Score 0.9246527704596708\n",
      "depth =  20 Train Score 0.9638010429691074 test Score 0.9238834048489716\n",
      "depth =  35 Train Score 0.9636626133636992 test Score 0.9236883270621062\n",
      "depth =  50 Train Score 0.9636626133636992 test Score 0.9236883270621062\n",
      "depth =  70 Train Score 0.9636626133636992 test Score 0.9236883270621062\n",
      "depth =  130 Train Score 0.9636626133636992 test Score 0.9236883270621062\n"
     ]
    },
    {
     "data": {
      "image/png": "[encoded data removed]",
      "text/plain": [
       "<Figure size 432x288 with 1 Axes>"
      ]
     },
     "metadata": {
      "tags": []
     },
     "output_type": "display_data"
    }
   ],
   "source": [
    "depths = [3,9,11,15,20,35,50,70,130]\n",
    "train_scores = []\n",
    "test_scores = []\n",
    "for i in depths:\n",
    "    clf = RandomForestClassifier(bootstrap=True, class_weight=None, criterion='gini',\n",
    "            max_depth=i, max_features='auto', max_leaf_nodes=None,\n",
    "            min_impurity_decrease=0.0, min_impurity_split=None,\n",
    "            min_samples_leaf=52, min_samples_split=120,\n",
    "            min_weight_fraction_leaf=0.0, n_estimators=115, n_jobs=-1,random_state=25,verbose=0,warm_start=False)\n",
    "    clf.fit(df_final_train,y_train)\n",
    "    train_sc = f1_score(y_train,clf.predict(df_final_train))\n",
    "    test_sc = f1_score(y_test,clf.predict(df_final_test))\n",
    "    test_scores.append(test_sc)\n",
    "    train_scores.append(train_sc)\n",
    "    print('depth = ',i,'Train Score',train_sc,'test Score',test_sc)\n",
    "plt.plot(depths,train_scores,label='Train Score')\n",
    "plt.plot(depths,test_scores,label='Test Score')\n",
    "plt.xlabel('Depth')\n",
    "plt.ylabel('Score')\n",
    "plt.title('Depth vs score at depth of 5 at estimators = 115')\n",
    "plt.show()"
   ]
  },
  {
   "cell_type": "code",
   "execution_count": 255,
   "metadata": {
    "colab": {
     "base_uri": "https://localhost:8080/",
     "height": 342
    },
    "colab_type": "code",
    "executionInfo": {
     "elapsed": 518283,
     "status": "ok",
     "timestamp": 1580505637759,
     "user": {
      "displayName": "Priyanka Mohan",
      "photoUrl": "https://lh6.googleusercontent.com/-nBBI3T2BOI8/AAAAAAAAAAI/AAAAAAAAAQ4/0OHMByB_5AA/s64/photo.jpg",
      "userId": "09551041470297807769"
     },
     "user_tz": -240
    },
    "id": "kiNIXY1km0wX",
    "outputId": "b57548b4-c432-46bd-9a5d-a327859bbde0"
   },
   "outputs": [
    {
     "data": {
      "text/plain": [
       "RandomizedSearchCV(cv=10, error_score=nan,\n",
       "                   estimator=RandomForestClassifier(bootstrap=True,\n",
       "                                                    ccp_alpha=0.0,\n",
       "                                                    class_weight=None,\n",
       "                                                    criterion='gini',\n",
       "                                                    max_depth=None,\n",
       "                                                    max_features='auto',\n",
       "                                                    max_leaf_nodes=None,\n",
       "                                                    max_samples=None,\n",
       "                                                    min_impurity_decrease=0.0,\n",
       "                                                    min_impurity_split=None,\n",
       "                                                    min_samples_leaf=1,\n",
       "                                                    min_samples_split=2,\n",
       "                                                    min_weight_fraction_leaf=0.0,\n",
       "                                                    n_estimators=100, n_job...\n",
       "                                        'min_samples_leaf': <scipy.stats._distn_infrastructure.rv_frozen object at 0x7f6b122d3fd0>,\n",
       "                                        'min_samples_split': <scipy.stats._distn_infrastructure.rv_frozen object at 0x7f6b12364e10>,\n",
       "                                        'n_estimators': <scipy.stats._distn_infrastructure.rv_frozen object at 0x7f6b123645c0>},\n",
       "                   pre_dispatch='2*n_jobs', random_state=25, refit=True,\n",
       "                   return_train_score=True, scoring='f1', verbose=0)"
      ]
     },
     "execution_count": 255,
     "metadata": {
      "tags": []
     },
     "output_type": "execute_result"
    }
   ],
   "source": [
    "from sklearn.metrics import f1_score\n",
    "from sklearn.ensemble import RandomForestClassifier\n",
    "from sklearn.metrics import f1_score\n",
    "from sklearn.model_selection import RandomizedSearchCV\n",
    "from scipy.stats import randint as sp_randint\n",
    "from scipy.stats import uniform\n",
    "\n",
    "param_dist = {\"n_estimators\":sp_randint(105,125),\n",
    "              \"max_depth\": sp_randint(10,15),\n",
    "              \"min_samples_split\": sp_randint(110,190),\n",
    "              \"min_samples_leaf\": sp_randint(25,65)}\n",
    "\n",
    "clf = RandomForestClassifier(random_state=25,n_jobs=-1)\n",
    "\n",
    "rf_random = RandomizedSearchCV(clf, param_distributions=param_dist,\n",
    "                                   n_iter=5,cv=10,scoring='f1',random_state=25,return_train_score=True)\n",
    "\n",
    "rf_random.fit(df_final_train,y_train)"
   ]
  },
  {
   "cell_type": "code",
   "execution_count": 256,
   "metadata": {
    "colab": {
     "base_uri": "https://localhost:8080/",
     "height": 50
    },
    "colab_type": "code",
    "executionInfo": {
     "elapsed": 517398,
     "status": "ok",
     "timestamp": 1580505637765,
     "user": {
      "displayName": "Priyanka Mohan",
      "photoUrl": "https://lh6.googleusercontent.com/-nBBI3T2BOI8/AAAAAAAAAAI/AAAAAAAAAQ4/0OHMByB_5AA/s64/photo.jpg",
      "userId": "09551041470297807769"
     },
     "user_tz": -240
    },
    "id": "M6OuPbHZVewE",
    "outputId": "dff4276b-0b09-4586-fe2e-3e22c7f896da"
   },
   "outputs": [
    {
     "name": "stdout",
     "output_type": "stream",
     "text": [
      "mean test scores [0.96207284 0.96158451 0.95971665 0.96177071 0.96334796]\n",
      "mean train scores [0.96290669 0.96223824 0.9604237  0.9622121  0.96441183]\n"
     ]
    }
   ],
   "source": [
    "print('mean test scores',rf_random.cv_results_['mean_test_score'])\n",
    "print('mean train scores',rf_random.cv_results_['mean_train_score'])"
   ]
  },
  {
   "cell_type": "code",
   "execution_count": 236,
   "metadata": {
    "colab": {
     "base_uri": "https://localhost:8080/",
     "height": 147
    },
    "colab_type": "code",
    "executionInfo": {
     "elapsed": 1140,
     "status": "ok",
     "timestamp": 1580502877674,
     "user": {
      "displayName": "Priyanka Mohan",
      "photoUrl": "https://lh6.googleusercontent.com/-nBBI3T2BOI8/AAAAAAAAAAI/AAAAAAAAAQ4/0OHMByB_5AA/s64/photo.jpg",
      "userId": "09551041470297807769"
     },
     "user_tz": -240
    },
    "id": "nJCAbsh1m0wf",
    "outputId": "202a60d9-a769-4a88-cdc5-ac998d9937e8"
   },
   "outputs": [
    {
     "name": "stdout",
     "output_type": "stream",
     "text": [
      "RandomForestClassifier(bootstrap=True, ccp_alpha=0.0, class_weight=None,\n",
      "                       criterion='gini', max_depth=14, max_features='auto',\n",
      "                       max_leaf_nodes=None, max_samples=None,\n",
      "                       min_impurity_decrease=0.0, min_impurity_split=None,\n",
      "                       min_samples_leaf=28, min_samples_split=111,\n",
      "                       min_weight_fraction_leaf=0.0, n_estimators=121,\n",
      "                       n_jobs=-1, oob_score=False, random_state=25, verbose=0,\n",
      "                       warm_start=False)\n"
     ]
    }
   ],
   "source": [
    "print(rf_random.best_estimator_)"
   ]
  },
  {
   "cell_type": "code",
   "execution_count": 0,
   "metadata": {
    "colab": {},
    "colab_type": "code",
    "id": "pP7CJ1ZQm0wi"
   },
   "outputs": [],
   "source": [
    "clf = RandomForestClassifier(bootstrap=True, class_weight=None, criterion='gini',\n",
    "            max_depth=14, max_features='auto', max_leaf_nodes=None,\n",
    "            min_impurity_decrease=0.0, min_impurity_split=None,\n",
    "            min_samples_leaf=28, min_samples_split=111,\n",
    "            min_weight_fraction_leaf=0.0, n_estimators=121, n_jobs=-1,\n",
    "            oob_score=False, random_state=25, verbose=0, warm_start=False)"
   ]
  },
  {
   "cell_type": "code",
   "execution_count": 0,
   "metadata": {
    "colab": {},
    "colab_type": "code",
    "id": "DRf4rCkVm0wl"
   },
   "outputs": [],
   "source": [
    "clf.fit(df_final_train,y_train)\n",
    "y_train_pred = clf.predict(df_final_train)\n",
    "y_test_pred = clf.predict(df_final_test)"
   ]
  },
  {
   "cell_type": "code",
   "execution_count": 230,
   "metadata": {
    "colab": {
     "base_uri": "https://localhost:8080/",
     "height": 50
    },
    "colab_type": "code",
    "executionInfo": {
     "elapsed": 13724,
     "status": "ok",
     "timestamp": 1580502096317,
     "user": {
      "displayName": "Priyanka Mohan",
      "photoUrl": "https://lh6.googleusercontent.com/-nBBI3T2BOI8/AAAAAAAAAAI/AAAAAAAAAQ4/0OHMByB_5AA/s64/photo.jpg",
      "userId": "09551041470297807769"
     },
     "user_tz": -240
    },
    "id": "Zr38WnUNm0wm",
    "outputId": "56a0016d-504a-4059-839b-fd5b89447267"
   },
   "outputs": [
    {
     "name": "stdout",
     "output_type": "stream",
     "text": [
      "Train f1 score 0.9648395111809746\n",
      "Test f1 score 0.9264606836167705\n"
     ]
    }
   ],
   "source": [
    "from sklearn.metrics import f1_score\n",
    "print('Train f1 score',f1_score(y_train,y_train_pred))\n",
    "print('Test f1 score',f1_score(y_test,y_test_pred))"
   ]
  },
  {
   "cell_type": "code",
   "execution_count": 0,
   "metadata": {
    "colab": {},
    "colab_type": "code",
    "id": "0n4PxH9Bm0wn"
   },
   "outputs": [],
   "source": [
    "from sklearn.metrics import confusion_matrix\n",
    "def plot_confusion_matrix(test_y, predict_y):\n",
    "    C = confusion_matrix(test_y, predict_y)\n",
    "    \n",
    "    A =(((C.T)/(C.sum(axis=1))).T)\n",
    "    \n",
    "    B =(C/C.sum(axis=0))\n",
    "    plt.figure(figsize=(20,4))\n",
    "    \n",
    "    labels = [0,1]\n",
    "    # representing A in heatmap format\n",
    "    cmap=sns.light_palette(\"blue\")\n",
    "    plt.subplot(1, 3, 1)\n",
    "    sns.heatmap(C, annot=True, cmap=cmap, fmt=\".3f\", xticklabels=labels, yticklabels=labels)\n",
    "    plt.xlabel('Predicted Class')\n",
    "    plt.ylabel('Original Class')\n",
    "    plt.title(\"Confusion matrix\")\n",
    "    \n",
    "    plt.subplot(1, 3, 2)\n",
    "    sns.heatmap(B, annot=True, cmap=cmap, fmt=\".3f\", xticklabels=labels, yticklabels=labels)\n",
    "    plt.xlabel('Predicted Class')\n",
    "    plt.ylabel('Original Class')\n",
    "    plt.title(\"Precision matrix\")\n",
    "    \n",
    "    plt.subplot(1, 3, 3)\n",
    "    # representing B in heatmap format\n",
    "    sns.heatmap(A, annot=True, cmap=cmap, fmt=\".3f\", xticklabels=labels, yticklabels=labels)\n",
    "    plt.xlabel('Predicted Class')\n",
    "    plt.ylabel('Original Class')\n",
    "    plt.title(\"Recall matrix\")\n",
    "    \n",
    "    plt.show()"
   ]
  },
  {
   "cell_type": "code",
   "execution_count": 232,
   "metadata": {
    "colab": {
     "base_uri": "https://localhost:8080/",
     "height": 605
    },
    "colab_type": "code",
    "executionInfo": {
     "elapsed": 15072,
     "status": "ok",
     "timestamp": 1580502097677,
     "user": {
      "displayName": "Priyanka Mohan",
      "photoUrl": "https://lh6.googleusercontent.com/-nBBI3T2BOI8/AAAAAAAAAAI/AAAAAAAAAQ4/0OHMByB_5AA/s64/photo.jpg",
      "userId": "09551041470297807769"
     },
     "user_tz": -240
    },
    "id": "pozckf48m0wp",
    "outputId": "01f29b41-b119-49f6-8477-45da966096dc"
   },
   "outputs": [
    {
     "name": "stdout",
     "output_type": "stream",
     "text": [
      "Train confusion_matrix\n"
     ]
    },
    {
     "data": {
      "image/png": "[encoded data removed]",
      "text/plain": [
       "<Figure size 1440x288 with 6 Axes>"
      ]
     },
     "metadata": {
      "tags": []
     },
     "output_type": "display_data"
    },
    {
     "name": "stdout",
     "output_type": "stream",
     "text": [
      "Test confusion_matrix\n"
     ]
    },
    {
     "data": {
      "image/png": "[encoded data removed]",
      "text/plain": [
       "<Figure size 1440x288 with 6 Axes>"
      ]
     },
     "metadata": {
      "tags": []
     },
     "output_type": "display_data"
    }
   ],
   "source": [
    "print('Train confusion_matrix')\n",
    "plot_confusion_matrix(y_train,y_train_pred)\n",
    "print('Test confusion_matrix')\n",
    "plot_confusion_matrix(y_test,y_test_pred)"
   ]
  },
  {
   "cell_type": "code",
   "execution_count": 233,
   "metadata": {
    "colab": {
     "base_uri": "https://localhost:8080/",
     "height": 295
    },
    "colab_type": "code",
    "executionInfo": {
     "elapsed": 15602,
     "status": "ok",
     "timestamp": 1580502098212,
     "user": {
      "displayName": "Priyanka Mohan",
      "photoUrl": "https://lh6.googleusercontent.com/-nBBI3T2BOI8/AAAAAAAAAAI/AAAAAAAAAQ4/0OHMByB_5AA/s64/photo.jpg",
      "userId": "09551041470297807769"
     },
     "user_tz": -240
    },
    "id": "j0LzuIpGm0wr",
    "outputId": "15fef22f-9af6-4401-ad79-cf6a85a3f2e0"
   },
   "outputs": [
    {
     "data": {
      "image/png": "[encoded data removed]",
      "text/plain": [
       "<Figure size 432x288 with 1 Axes>"
      ]
     },
     "metadata": {
      "tags": []
     },
     "output_type": "display_data"
    }
   ],
   "source": [
    "from sklearn.metrics import roc_curve, auc\n",
    "fpr,tpr,ths = roc_curve(y_test,y_test_pred)\n",
    "auc_sc = auc(fpr, tpr)\n",
    "plt.plot(fpr, tpr, color='navy',label='ROC curve (area = %0.2f)' % auc_sc)\n",
    "plt.xlabel('False Positive Rate')\n",
    "plt.ylabel('True Positive Rate')\n",
    "plt.title('Receiver operating characteristic with test data')\n",
    "plt.legend()\n",
    "plt.show()"
   ]
  },
  {
   "cell_type": "code",
   "execution_count": 234,
   "metadata": {
    "colab": {
     "base_uri": "https://localhost:8080/",
     "height": 730
    },
    "colab_type": "code",
    "executionInfo": {
     "elapsed": 16810,
     "status": "ok",
     "timestamp": 1580502099426,
     "user": {
      "displayName": "Priyanka Mohan",
      "photoUrl": "https://lh6.googleusercontent.com/-nBBI3T2BOI8/AAAAAAAAAAI/AAAAAAAAAQ4/0OHMByB_5AA/s64/photo.jpg",
      "userId": "09551041470297807769"
     },
     "user_tz": -240
    },
    "id": "s-rPVotWm0wt",
    "outputId": "b7ecd6d8-242d-4462-fc71-58ef4fc21284"
   },
   "outputs": [
    {
     "data": {
      "image/png": "[encoded data removed]",
      "text/plain": [
       "<Figure size 720x864 with 1 Axes>"
      ]
     },
     "metadata": {
      "tags": []
     },
     "output_type": "display_data"
    }
   ],
   "source": [
    "features = df_final_train.columns\n",
    "importances = clf.feature_importances_\n",
    "indices = (np.argsort(importances))[-25:]\n",
    "plt.figure(figsize=(10,12))\n",
    "plt.title('Feature Importances')\n",
    "plt.barh(range(len(indices)), importances[indices], color='r', align='center')\n",
    "plt.yticks(range(len(indices)), [features[i] for i in indices])\n",
    "plt.xlabel('Relative Importance')\n",
    "plt.show()"
   ]
  },
  {
   "cell_type": "markdown",
   "metadata": {
    "colab_type": "text",
    "id": "Sg2RrmoVQHlA"
   },
   "source": [
    "**Applying XGBoost**\n",
    "\n",
    "\n"
   ]
  },
  {
   "cell_type": "code",
   "execution_count": 257,
   "metadata": {
    "colab": {
     "base_uri": "https://localhost:8080/",
     "height": 326
    },
    "colab_type": "code",
    "executionInfo": {
     "elapsed": 1256376,
     "status": "ok",
     "timestamp": 1580506894202,
     "user": {
      "displayName": "Priyanka Mohan",
      "photoUrl": "https://lh6.googleusercontent.com/-nBBI3T2BOI8/AAAAAAAAAAI/AAAAAAAAAQ4/0OHMByB_5AA/s64/photo.jpg",
      "userId": "09551041470297807769"
     },
     "user_tz": -240
    },
    "id": "CoUpmMmAR1p9",
    "outputId": "0abeb32a-3609-4135-ea41-7aa5f330a7c3"
   },
   "outputs": [
    {
     "data": {
      "text/plain": [
       "RandomizedSearchCV(cv=3, error_score=nan,\n",
       "                   estimator=XGBClassifier(base_score=0.5, booster='gbtree',\n",
       "                                           colsample_bylevel=1,\n",
       "                                           colsample_bynode=1,\n",
       "                                           colsample_bytree=1, gamma=0,\n",
       "                                           learning_rate=0.1, max_delta_step=0,\n",
       "                                           max_depth=3, min_child_weight=1,\n",
       "                                           missing=None, n_estimators=100,\n",
       "                                           n_jobs=1, nthread=None,\n",
       "                                           objective='binary:logistic',\n",
       "                                           random_state=0, reg_alpha=0,\n",
       "                                           reg_lambda=1, sc...\n",
       "                                           seed=None, silent=None, subsample=1,\n",
       "                                           verbosity=1),\n",
       "                   iid='deprecated', n_iter=5, n_jobs=None,\n",
       "                   param_distributions={'max_depth': <scipy.stats._distn_infrastructure.rv_frozen object at 0x7f6b121e6e80>,\n",
       "                                        'n_estimators': <scipy.stats._distn_infrastructure.rv_frozen object at 0x7f6b122f0c50>},\n",
       "                   pre_dispatch='2*n_jobs', random_state=25, refit=True,\n",
       "                   return_train_score=True, scoring='f1', verbose=0)"
      ]
     },
     "execution_count": 257,
     "metadata": {
      "tags": []
     },
     "output_type": "execute_result"
    }
   ],
   "source": [
    "import xgboost as xgb\n",
    "clf = xgb.XGBClassifier()\n",
    "param_dist = {\"n_estimators\":sp_randint(105,125),\n",
    "              \"max_depth\": sp_randint(10,15)\n",
    "              }\n",
    "model = RandomizedSearchCV(clf, param_distributions=param_dist,\n",
    "                                   n_iter=5,cv=3,scoring='f1',random_state=25,return_train_score=True)\n",
    "\n",
    "model.fit(df_final_train,y_train)"
   ]
  },
  {
   "cell_type": "code",
   "execution_count": 259,
   "metadata": {
    "colab": {
     "base_uri": "https://localhost:8080/",
     "height": 131
    },
    "colab_type": "code",
    "executionInfo": {
     "elapsed": 1256316,
     "status": "ok",
     "timestamp": 1580506894204,
     "user": {
      "displayName": "Priyanka Mohan",
      "photoUrl": "https://lh6.googleusercontent.com/-nBBI3T2BOI8/AAAAAAAAAAI/AAAAAAAAAQ4/0OHMByB_5AA/s64/photo.jpg",
      "userId": "09551041470297807769"
     },
     "user_tz": -240
    },
    "id": "9VZkny09a8s0",
    "outputId": "77fb7c46-65bb-4a68-db22-af2ee4253e0c"
   },
   "outputs": [
    {
     "name": "stdout",
     "output_type": "stream",
     "text": [
      "XGBClassifier(base_score=0.5, booster='gbtree', colsample_bylevel=1,\n",
      "              colsample_bynode=1, colsample_bytree=1, gamma=0,\n",
      "              learning_rate=0.1, max_delta_step=0, max_depth=11,\n",
      "              min_child_weight=1, missing=None, n_estimators=110, n_jobs=1,\n",
      "              nthread=None, objective='binary:logistic', random_state=0,\n",
      "              reg_alpha=0, reg_lambda=1, scale_pos_weight=1, seed=None,\n",
      "              silent=None, subsample=1, verbosity=1)\n"
     ]
    }
   ],
   "source": [
    "print(model.best_estimator_)"
   ]
  },
  {
   "cell_type": "code",
   "execution_count": 0,
   "metadata": {
    "colab": {},
    "colab_type": "code",
    "id": "hafaBC8KbBwm"
   },
   "outputs": [],
   "source": [
    "clf=xgb.XGBClassifier(base_score=0.5, booster='gbtree', colsample_bylevel=1,\n",
    "              colsample_bynode=1, colsample_bytree=1, gamma=0,\n",
    "              learning_rate=0.1, max_delta_step=0, max_depth=11,\n",
    "              min_child_weight=1, missing=None, n_estimators=110, n_jobs=1,\n",
    "              nthread=None, objective='binary:logistic', random_state=0,\n",
    "              reg_alpha=0, reg_lambda=1, scale_pos_weight=1, seed=None,\n",
    "              silent=None, subsample=1, verbosity=1)"
   ]
  },
  {
   "cell_type": "code",
   "execution_count": 0,
   "metadata": {
    "colab": {},
    "colab_type": "code",
    "id": "KIqpa6bQR1ls"
   },
   "outputs": [],
   "source": [
    "clf.fit(df_final_train,y_train)\n",
    "y_train_pred = clf.predict(df_final_train)\n",
    "y_test_pred = clf.predict(df_final_test)"
   ]
  },
  {
   "cell_type": "code",
   "execution_count": 249,
   "metadata": {
    "colab": {
     "base_uri": "https://localhost:8080/",
     "height": 50
    },
    "colab_type": "code",
    "executionInfo": {
     "elapsed": 113211,
     "status": "ok",
     "timestamp": 1580504914601,
     "user": {
      "displayName": "Priyanka Mohan",
      "photoUrl": "https://lh6.googleusercontent.com/-nBBI3T2BOI8/AAAAAAAAAAI/AAAAAAAAAQ4/0OHMByB_5AA/s64/photo.jpg",
      "userId": "09551041470297807769"
     },
     "user_tz": -240
    },
    "id": "Usff8hH1SZdb",
    "outputId": "9d5bf98b-73f1-437a-beca-6b719901d462"
   },
   "outputs": [
    {
     "name": "stdout",
     "output_type": "stream",
     "text": [
      "Train f1 score 0.9949861618065863\n",
      "Test f1 score 0.927078909368895\n"
     ]
    }
   ],
   "source": [
    "from sklearn.metrics import f1_score\n",
    "print('Train f1 score',f1_score(y_train,y_train_pred))\n",
    "print('Test f1 score',f1_score(y_test,y_test_pred))"
   ]
  },
  {
   "cell_type": "code",
   "execution_count": 250,
   "metadata": {
    "colab": {
     "base_uri": "https://localhost:8080/",
     "height": 605
    },
    "colab_type": "code",
    "executionInfo": {
     "elapsed": 111627,
     "status": "ok",
     "timestamp": 1580504915617,
     "user": {
      "displayName": "Priyanka Mohan",
      "photoUrl": "https://lh6.googleusercontent.com/-nBBI3T2BOI8/AAAAAAAAAAI/AAAAAAAAAQ4/0OHMByB_5AA/s64/photo.jpg",
      "userId": "09551041470297807769"
     },
     "user_tz": -240
    },
    "id": "GJqykMzSSa1Z",
    "outputId": "b3fc066b-c08e-47a2-8fa3-3f9f44ce31f6"
   },
   "outputs": [
    {
     "name": "stdout",
     "output_type": "stream",
     "text": [
      "Train confusion_matrix\n"
     ]
    },
    {
     "data": {
      "image/png": "[encoded data removed]",
      "text/plain": [
       "<Figure size 1440x288 with 6 Axes>"
      ]
     },
     "metadata": {
      "tags": []
     },
     "output_type": "display_data"
    },
    {
     "name": "stdout",
     "output_type": "stream",
     "text": [
      "Test confusion_matrix\n"
     ]
    },
    {
     "data": {
      "image/png": "[encoded data removed]",
      "text/plain": [
       "<Figure size 1440x288 with 6 Axes>"
      ]
     },
     "metadata": {
      "tags": []
     },
     "output_type": "display_data"
    }
   ],
   "source": [
    "print('Train confusion_matrix')\n",
    "plot_confusion_matrix(y_train,y_train_pred)\n",
    "print('Test confusion_matrix')\n",
    "plot_confusion_matrix(y_test,y_test_pred)"
   ]
  },
  {
   "cell_type": "code",
   "execution_count": 251,
   "metadata": {
    "colab": {
     "base_uri": "https://localhost:8080/",
     "height": 295
    },
    "colab_type": "code",
    "executionInfo": {
     "elapsed": 109869,
     "status": "ok",
     "timestamp": 1580504916204,
     "user": {
      "displayName": "Priyanka Mohan",
      "photoUrl": "https://lh6.googleusercontent.com/-nBBI3T2BOI8/AAAAAAAAAAI/AAAAAAAAAQ4/0OHMByB_5AA/s64/photo.jpg",
      "userId": "09551041470297807769"
     },
     "user_tz": -240
    },
    "id": "iXGaE-jZSayp",
    "outputId": "bbcaaf72-6ac7-4cf6-d92a-071002de5214"
   },
   "outputs": [
    {
     "data": {
      "image/png": "[encoded data removed]",
      "text/plain": [
       "<Figure size 432x288 with 1 Axes>"
      ]
     },
     "metadata": {
      "tags": []
     },
     "output_type": "display_data"
    }
   ],
   "source": [
    "from sklearn.metrics import roc_curve, auc\n",
    "fpr,tpr,ths = roc_curve(y_test,y_test_pred)\n",
    "auc_sc = auc(fpr, tpr)\n",
    "plt.plot(fpr, tpr, color='navy',label='ROC curve (area = %0.2f)' % auc_sc)\n",
    "plt.xlabel('False Positive Rate')\n",
    "plt.ylabel('True Positive Rate')\n",
    "plt.title('Receiver operating characteristic with test data')\n",
    "plt.legend()\n",
    "plt.show()"
   ]
  },
  {
   "cell_type": "code",
   "execution_count": 252,
   "metadata": {
    "colab": {
     "base_uri": "https://localhost:8080/",
     "height": 730
    },
    "colab_type": "code",
    "executionInfo": {
     "elapsed": 110424,
     "status": "ok",
     "timestamp": 1580504916876,
     "user": {
      "displayName": "Priyanka Mohan",
      "photoUrl": "https://lh6.googleusercontent.com/-nBBI3T2BOI8/AAAAAAAAAAI/AAAAAAAAAQ4/0OHMByB_5AA/s64/photo.jpg",
      "userId": "09551041470297807769"
     },
     "user_tz": -240
    },
    "id": "QN9e7fZtSZae",
    "outputId": "cea9f548-db83-410c-db03-27d302d5b273"
   },
   "outputs": [
    {
     "data": {
      "image/png": "[encoded data removed]",
      "text/plain": [
       "<Figure size 720x864 with 1 Axes>"
      ]
     },
     "metadata": {
      "tags": []
     },
     "output_type": "display_data"
    }
   ],
   "source": [
    "features = df_final_train.columns\n",
    "importances = clf.feature_importances_\n",
    "indices = (np.argsort(importances))[-25:]\n",
    "plt.figure(figsize=(10,12))\n",
    "plt.title('Feature Importances')\n",
    "plt.barh(range(len(indices)), importances[indices], color='r', align='center')\n",
    "plt.yticks(range(len(indices)), [features[i] for i in indices])\n",
    "plt.xlabel('Relative Importance')\n",
    "plt.show()"
   ]
  },
  {
   "cell_type": "markdown",
   "metadata": {
    "colab_type": "text",
    "id": "wd2Tu7i5TJfh"
   },
   "source": [
    "## Conclusion"
   ]
  },
  {
   "cell_type": "code",
   "execution_count": 3,
   "metadata": {
    "colab": {
     "base_uri": "https://localhost:8080/",
     "height": 115
    },
    "colab_type": "code",
    "executionInfo": {
     "elapsed": 2350,
     "status": "ok",
     "timestamp": 1580536055908,
     "user": {
      "displayName": "Priyanka Mohan",
      "photoUrl": "https://lh6.googleusercontent.com/-nBBI3T2BOI8/AAAAAAAAAAI/AAAAAAAAAQ4/0OHMByB_5AA/s64/photo.jpg",
      "userId": "09551041470297807769"
     },
     "user_tz": -240
    },
    "id": "qa29Hm4uTJ7h",
    "outputId": "72775d78-37cf-4c3d-b351-cf9d8e56856c"
   },
   "outputs": [
    {
     "name": "stdout",
     "output_type": "stream",
     "text": [
      "+---------------+--------------+-----------+----------------+---------------+\n",
      "|     Model     | n_estimators | max_depth | Train f1-Score | Test f1-Score |\n",
      "+---------------+--------------+-----------+----------------+---------------+\n",
      "| Random Forest |     121      |     14    |     0.9648     |     0.9264    |\n",
      "|    XGBOOST    |     100      |     3     |     0.9949     |     0.927     |\n",
      "+---------------+--------------+-----------+----------------+---------------+\n"
     ]
    }
   ],
   "source": [
    "from prettytable import PrettyTable \n",
    "x = PrettyTable()\n",
    "x.field_names = [\"Model\", \"n_estimators\", \"max_depth\", \"Train f1-Score\",\"Test f1-Score\"]\n",
    "x.add_row(['Random Forest','121','14','0.9648','0.9264'])\n",
    "x.add_row(['XGBOOST','100','3','0.9949','0.927'])\n",
    "print(x)"
   ]
  }
 ],
 "metadata": {
  "colab": {
   "collapsed_sections": [],
   "machine_shape": "hm",
   "name": "FB.ipynb",
   "provenance": []
  },
  "kernelspec": {
   "display_name": "Python 3",
   "language": "python",
   "name": "python3"
  },
  "language_info": {
   "codemirror_mode": {
    "name": "ipython",
    "version": 3
   },
   "file_extension": ".py",
   "mimetype": "text/x-python",
   "name": "python",
   "nbconvert_exporter": "python",
   "pygments_lexer": "ipython3",
   "version": "3.6.5"
  }
 },
 "nbformat": 4,
 "nbformat_minor": 1
}
